{
  "nbformat": 4,
  "nbformat_minor": 0,
  "metadata": {
    "colab": {
      "name": "Budget Project.ipynb",
      "provenance": [],
      "toc_visible": true,
      "authorship_tag": "ABX9TyN1NQHaFl5MJi7qCr+LExPg",
      "include_colab_link": true
    },
    "kernelspec": {
      "name": "python3",
      "display_name": "Python 3"
    },
    "language_info": {
      "name": "python"
    }
  },
  "cells": [
    {
      "cell_type": "markdown",
      "metadata": {
        "id": "view-in-github",
        "colab_type": "text"
      },
      "source": [
        "<a href=\"https://colab.research.google.com/github/respinar1/GoogleColaboratory/blob/main/BudgetingProject.ipynb\" target=\"_parent\"><img src=\"https://colab.research.google.com/assets/colab-badge.svg\" alt=\"Open In Colab\"/></a>"
      ]
    },
    {
      "cell_type": "markdown",
      "metadata": {
        "id": "R-WZYDiMyjyJ"
      },
      "source": [
        "# Metadata"
      ]
    },
    {
      "cell_type": "code",
      "metadata": {
        "id": "_m6qsf8ZyuJM",
        "colab": {
          "base_uri": "https://localhost:8080/"
        },
        "outputId": "4b91c0d1-85b6-4086-ae9e-c8c8aeb9a44b"
      },
      "source": [
        "import sqlite3\n",
        "import seaborn as sn\n",
        "import pandas as pd\n",
        "import numpy as np\n",
        "import datetime as dt\n",
        "print ('Done!')"
      ],
      "execution_count": null,
      "outputs": [
        {
          "output_type": "stream",
          "text": [
            "Done!\n"
          ],
          "name": "stdout"
        }
      ]
    },
    {
      "cell_type": "markdown",
      "metadata": {
        "id": "Rx85ApVF0NT6"
      },
      "source": [
        "Create the Databases using SQLite"
      ]
    },
    {
      "cell_type": "code",
      "metadata": {
        "id": "-IOkxCgX0Mnw"
      },
      "source": [
        "conn = sqlite3.connect('Budget.db')\n",
        "c = conn.cursor()"
      ],
      "execution_count": null,
      "outputs": []
    },
    {
      "cell_type": "code",
      "metadata": {
        "id": "Uke3-96Mbope",
        "colab": {
          "base_uri": "https://localhost:8080/"
        },
        "outputId": "616d90dc-d1b5-4757-e75d-8830ac556acb"
      },
      "source": [
        "c.execute('''CREATE TABLE IF NOT EXISTS Users\n",
        "             ([user_id] INTEGER NOT NULL PRIMARY KEY,\n",
        "             [F_name] TEXT NOT NULL, \n",
        "             [L_name] TEXT NOT NULL, \n",
        "             [User_name] TEXT NOT NULL, \n",
        "             [Pword] BLOB NOT NULL)''')\n",
        "print ('Done!')"
      ],
      "execution_count": null,
      "outputs": [
        {
          "output_type": "stream",
          "text": [
            "Done!\n"
          ],
          "name": "stdout"
        }
      ]
    },
    {
      "cell_type": "code",
      "metadata": {
        "id": "xWI-tTAEboQa",
        "colab": {
          "base_uri": "https://localhost:8080/"
        },
        "outputId": "e62ad967-2708-4797-8495-2d79053018ff"
      },
      "source": [
        "c.execute('''CREATE TABLE IF NOT EXISTS Info\n",
        "             ([user_id] INTEGER NOT NULL, \n",
        "             [name] TEXT NOT NULL, \n",
        "             [amount] REAL NOT NULL, \n",
        "             [type] TEXT NOT NULL, \n",
        "             [frequency] TEXT NOT NULL, \n",
        "             [date_due] TEXT NOT NULL, \n",
        "             [category] TEXT DEFAULT NULL,\n",
        "             [priority] INTEGER DEFAULT NULL,\n",
        "             [date_entered] DATE NOT NULL)''')\n",
        "print ('Done!')"
      ],
      "execution_count": null,
      "outputs": [
        {
          "output_type": "stream",
          "text": [
            "Done!\n"
          ],
          "name": "stdout"
        }
      ]
    },
    {
      "cell_type": "code",
      "metadata": {
        "id": "n6_wbZZebnYt",
        "colab": {
          "base_uri": "https://localhost:8080/"
        },
        "outputId": "6917a02e-88ca-441c-d04c-cccc1059b1da"
      },
      "source": [
        "c.execute('''CREATE TABLE IF NOT EXISTS Budget\n",
        "             ([user_id] INTEGER NOT NULL,\n",
        "             [amount] INTEGER NOT NULL,\n",
        "             [goal_date] DATE  NOT NULL\n",
        "             )''')\n",
        "print ('Done!')"
      ],
      "execution_count": null,
      "outputs": [
        {
          "output_type": "stream",
          "text": [
            "Done!\n"
          ],
          "name": "stdout"
        }
      ]
    },
    {
      "cell_type": "markdown",
      "metadata": {
        "id": "cKet-S4IHDm5"
      },
      "source": [
        "Start Program Function"
      ]
    },
    {
      "cell_type": "code",
      "metadata": {
        "id": "jCNbxSilHDMJ"
      },
      "source": [
        "def start():\n",
        "  loginsignup()"
      ],
      "execution_count": null,
      "outputs": []
    },
    {
      "cell_type": "markdown",
      "metadata": {
        "id": "O-N64KiyyjZC"
      },
      "source": [
        "# Login/Signup"
      ]
    },
    {
      "cell_type": "markdown",
      "metadata": {
        "id": "2FQ6A_Fw_RI9"
      },
      "source": [
        "This will allow users to create a new account that is stored on a database or log into a previous account thats already saved on the database"
      ]
    },
    {
      "cell_type": "code",
      "metadata": {
        "id": "rk20FaU_yRCf"
      },
      "source": [
        "def loginsignup():\n",
        "  #Introduce the User\n",
        "  print(\"Returning user? (Y/N)\")\n",
        "  \n",
        "  loop = True\n",
        "  #(index is used to allow users to sign up and immediately try to login)\n",
        "  index = 0\n",
        "  while loop == True:\n",
        "    \n",
        "    #Retrieve user input based on prompt\n",
        "    if index == 0:\n",
        "      ans = input().upper()\n",
        "    else:\n",
        "      ans = 'Y'\n",
        "    \n",
        "    #If user answers yes we will close out of the while loop and prompt the user\n",
        "    #for login information that is compared to our database\n",
        "    if ans == 'Y':\n",
        "      \n",
        "      while loop == True:\n",
        "        user_name = input(\"username: \")\n",
        "        p_wrd = input(\"password: \")\n",
        "      \n",
        "        c.execute('SELECT user_id FROM Users WHERE User_name = ? AND Pword = ?', (user_name, p_wrd))\n",
        "        check = c.fetchall()\n",
        "      \n",
        "        if len(check) != 0:\n",
        "          loop = False\n",
        "          c.execute('SELECT F_name, L_name FROM Users')\n",
        "          name = c.fetchall()\n",
        "        \n",
        "          for x in name:\n",
        "            f_name = x[0]\n",
        "            l_name = x[1]\n",
        "          print('\\nWelcome '+f_name+'!\\n')\n",
        "        \n",
        "          #Call the menu function and pass our user_id to be used for our database\n",
        "          for x in check:\n",
        "            user_id = x[0]\n",
        "          menu(user_id)\n",
        "      \n",
        "        else:\n",
        "          print('incorrect username or password') \n",
        "    \n",
        "    #if user answers no we will close out of the while loop and prompt the user\n",
        "    #to signup and input information to our database\n",
        "    elif ans == 'N':\n",
        "      \n",
        "      index = 1\n",
        "      \n",
        "      while loop == True:\n",
        "        c.execute('SELECT user_id FROM Users')\n",
        "        id_check = c.fetchall()\n",
        "        \n",
        "        #Checks to see if database is empty\n",
        "        if len(id_check) == 0:\n",
        "          user_name = input('Enter a Username: ')\n",
        "          loop = False\n",
        "        \n",
        "        else:\n",
        "          user_name = input('Enter a Username: ')\n",
        "          c.execute('SELECT User_name FROM Users')\n",
        "          user_name_db = c.fetchall()\n",
        "          for x in user_name_db:\n",
        "            for y in x:\n",
        "              if user_name == y:\n",
        "                print('Username is taken, try again')\n",
        "              else:\n",
        "                loop = False\n",
        "      \n",
        "      loop = True\n",
        "      first_name = input('Enter your first name: ')\n",
        "      last_name = input('Enter your Last name: ')\n",
        "      \n",
        "      #making sure that the user types in the correct password\n",
        "      password = False\n",
        "      while password == False:\n",
        "        p_word = input('Enter a Password: ')\n",
        "        confirm_p_wrd = input(\"Confirm Password: \")\n",
        "\n",
        "        if p_word == confirm_p_wrd:\n",
        "          password = True\n",
        "        \n",
        "        else:\n",
        "          print(\"password are not the same, try again.\")\n",
        "      \n",
        "      #stores user information onto our database\n",
        "      c.execute('INSERT INTO Users (F_name, L_name, User_name, Pword) VALUES (?,?,?,?)', (first_name, last_name, user_name, p_word))\n",
        "\n",
        "    elif ans == 'C':\n",
        "      print(\"Good Bye\")\n",
        "      return\n",
        "    else:\n",
        "      print(\"incorrect input, please try again.\")"
      ],
      "execution_count": null,
      "outputs": []
    },
    {
      "cell_type": "markdown",
      "metadata": {
        "id": "mQRMOdnnywb2"
      },
      "source": [
        "# Menu"
      ]
    },
    {
      "cell_type": "markdown",
      "metadata": {
        "id": "EJEsEsbKP8n1"
      },
      "source": [
        "The available options the user can choose from"
      ]
    },
    {
      "cell_type": "code",
      "metadata": {
        "id": "cwQsQxi99_nv"
      },
      "source": [
        "def menu(user_id):\n",
        "  \n",
        "  print('What would you like to do today?\\n')\n",
        "  menu_options = {1:\"Account Info\", 2:\"Show Details\", 3:\"Budget\", 0:\"Sign Out\"}\n",
        "  \n",
        "  loop = True\n",
        "  while loop == True:\n",
        "  \n",
        "    print(menu_options)\n",
        "    ans = int(input())\n",
        "    \n",
        "    if ans in menu_options:\n",
        "      loop = False\n",
        "    \n",
        "      if ans == 0: \n",
        "        print(\"Signed Out\")\n",
        "        loginsignup()\n",
        "      \n",
        "      elif ans == 1:\n",
        "        print(\"You have selected \"+ menu_options[ans])\n",
        "        account_info(user_id)\n",
        "        return\n",
        "      \n",
        "      elif ans == 2:\n",
        "        print(\"You have selected \"+ menu_options[ans])\n",
        "        show_details(user_id)\n",
        "        return\n",
        "      \n",
        "      else:\n",
        "        print(\"You have selected \"+ menu_options[ans])\n",
        "        #budget(user_id)\n",
        "        return\n",
        "    \n",
        "    else:\n",
        "      print(\"Sorry not an option\")\n",
        "\n"
      ],
      "execution_count": null,
      "outputs": []
    },
    {
      "cell_type": "markdown",
      "metadata": {
        "id": "vS_c1iThRStY"
      },
      "source": [
        "# Account"
      ]
    },
    {
      "cell_type": "markdown",
      "metadata": {
        "id": "E3PjoCHNRjeV"
      },
      "source": [
        "Add or Remove Income/Expense Data"
      ]
    },
    {
      "cell_type": "code",
      "metadata": {
        "id": "8JS3gKrvznlV"
      },
      "source": [
        "def account_info(user_id):\n",
        "\n",
        "  account_options = {1: \"Add Income\", 2: \"Delete Income\", 3: \"Add Expense\", 4: \"Delete Expense\", 0: \"Go Back\"}\n",
        "\n",
        "  loop = True\n",
        "  while loop == True:\n",
        "    print(account_options)\n",
        "    ans = int(input())\n",
        "\n",
        "    if ans in account_options:\n",
        "      loop = False\n",
        "\n",
        "      if ans == 1 or ans == 2:\n",
        "        print(\"You have selected to \"+ account_options[ans])\n",
        "        income(ans, user_id)\n",
        "      \n",
        "      elif ans == 3 or ans == 4:\n",
        "        print(\"You have selected to \"+ account_options[ans])\n",
        "        expense(ans, user_id)\n",
        "      \n",
        "      else:\n",
        "        menu(user_id)\n",
        "    \n",
        "    else:\n",
        "      print(\"Sorry not an option\")"
      ],
      "execution_count": null,
      "outputs": []
    },
    {
      "cell_type": "markdown",
      "metadata": {
        "id": "w2_gI2YuMi-k"
      },
      "source": [
        "Income/Expense"
      ]
    },
    {
      "cell_type": "code",
      "metadata": {
        "id": "WpIkAaUOMl3H"
      },
      "source": [
        "def income(ans, user_id):\n",
        "  if ans == 1:\n",
        "    add_income(user_id)\n",
        "  else:\n",
        "    remove_income(user_id)"
      ],
      "execution_count": null,
      "outputs": []
    },
    {
      "cell_type": "code",
      "metadata": {
        "id": "5d4iEN3yQfhi"
      },
      "source": [
        "def expense(ans, user_id):\n",
        "  if ans == 3:\n",
        "    add_expense(user_id)\n",
        "  else:\n",
        "    remove_expense(user_id)"
      ],
      "execution_count": null,
      "outputs": []
    },
    {
      "cell_type": "markdown",
      "metadata": {
        "id": "wSlp2ybJNIqR"
      },
      "source": [
        "Adding Income Information"
      ]
    },
    {
      "cell_type": "code",
      "metadata": {
        "id": "_kMe9r44NVQI"
      },
      "source": [
        "def add_income(user_id):\n",
        "\n",
        "  #account type is credit\n",
        "  account = 'Credit'\n",
        "  loop = True\n",
        "  while loop == True:\n",
        "    print(\"Please enter the following information/n\")\n",
        "    \n",
        "    #Name of income\n",
        "    name = input(\"Name of Income Source: \")\n",
        "    #Income amount\n",
        "    amount = int(input(\"Income Amount: \"))\n",
        "\n",
        "    #How frequent is the income\n",
        "    index = True\n",
        "    while index == True:\n",
        "      frequency_options = {1:\"Weekly\", 2:\"Bi-Weekly\", 3:\"Monthly\", 4:\"Annually\"}\n",
        "      print(frequency_options)\n",
        "      ans = int(input(\"How often: \"))\n",
        "      if ans in frequency_options:\n",
        "        frequency = frequency_options[ans]\n",
        "        index = False\n",
        "      else:\n",
        "        print(\"Not an option, try again\")\n",
        "    \n",
        "    #Date payment is released\n",
        "    date = input(\"Enter pay date (MM-DD-YYYY): \")\n",
        "    \n",
        "    #categorizing the income as passive or active\n",
        "    index = True\n",
        "    while index == True:\n",
        "      category_options = {1:\"Passive Income\", 2:\"Active Income\"}\n",
        "      print(category_options)\n",
        "      ans = int(input(\"Type of Income: \"))\n",
        "      if ans in category_options:\n",
        "        category = category_options[ans]\n",
        "        index = False\n",
        "      else:\n",
        "        print(\"Not an option, try again\")\n",
        "\n",
        "    #current time entered\n",
        "    x = dt.datetime.now()\n",
        "    t = x.strftime(\"%m-%d-%Y\")\n",
        "\n",
        "    c.execute('INSERT INTO Info (user_id, name, amount, type, frequency, date_due, category, date_entered) VALUES (?,?,?,?,?,?,?,?)', (user_id, name, amount, account, frequency, date, category, t))\n",
        "    print(\"Successfully added \"+name)\n",
        "    \n",
        "    ans = input(\"Would you like to add another? (Y/N)\").upper()\n",
        "    \n",
        "    index = True\n",
        "    while index == True:\n",
        "      if ans == 'Y':\n",
        "        index = False\n",
        "      elif ans == 'N':\n",
        "        loop = False\n",
        "        index = False\n",
        "        menu(user_id)\n",
        "      else:\n",
        "        print(\"Sorry not an option\")"
      ],
      "execution_count": null,
      "outputs": []
    },
    {
      "cell_type": "markdown",
      "metadata": {
        "id": "b9MVRRxb7MNC"
      },
      "source": [
        "Remove Income Information"
      ]
    },
    {
      "cell_type": "code",
      "metadata": {
        "id": "dgaO3jPv91vE"
      },
      "source": [
        "def remove_income(user_id):\n",
        "  print(\"Which one would you like to delete?\\n\")\n",
        "  \n",
        "  x = str(user_id)\n",
        "  c.execute('SELECT name FROM Info WHERE user_id = ? and type = \"Credit\"', x)\n",
        "  y = c.fetchall()\n",
        "  \n",
        "  if len(y) == 0:\n",
        "    print(\"Nothing to delete\")\n",
        "    menu(user_id)\n",
        "  \n",
        "  else:\n",
        "    index = 0\n",
        "    for names in y:\n",
        "      index += 1\n",
        "      print(str(index)+'. '+names[0])\n",
        "    \n",
        "  \n",
        "    loop = True\n",
        "    while loop == True:\n",
        "      ans = int(input())\n",
        "      if ans <= index and ans > 0:\n",
        "        loop = False\n",
        "      else:\n",
        "        print(\"Not a valid input\")\n",
        "  \n",
        "    index = 0\n",
        "    for names in y:\n",
        "      index += 1\n",
        "      if index == ans:\n",
        "        name = names[0]\n",
        "      else:\n",
        "        continue\n",
        "  \n",
        "    print(\"Would you like to remove: \" +name+ \"?\\n\")\n",
        "  \n",
        "    loop = True\n",
        "    while loop == True:\n",
        "      ans = input(\"(Y/N)\").upper()\n",
        "      if ans == 'Y':\n",
        "        c.execute('DELETE FROM Info WHERE name = ? AND user_id = ? AND type = \"Credit\"', (name, x))\n",
        "        loop = False\n",
        "        print(\"Successfully removed \"+name)\n",
        "        menu(user_id)\n",
        "      elif ans == 'N':\n",
        "        cont = True\n",
        "        while cont == True:\n",
        "          ans = input(\"Would you like to continue removing an income?(Y/N)\").upper()\n",
        "          if ans == 'N':\n",
        "            cont = False\n",
        "            loop = False\n",
        "            menu(user_id)\n",
        "          elif ans == 'Y':\n",
        "            continue\n",
        "          else:\n",
        "            print('Invalid answer')\n",
        "      else:\n",
        "        print(\"Invalid answer\")\n",
        "  "
      ],
      "execution_count": null,
      "outputs": []
    },
    {
      "cell_type": "markdown",
      "metadata": {
        "id": "rW8MaahcPEOS"
      },
      "source": [
        "Add Expenses"
      ]
    },
    {
      "cell_type": "code",
      "metadata": {
        "id": "VWEeqjScPEBD"
      },
      "source": [
        "def add_expense(user_id):\n",
        "\n",
        "  #account type is Debit\n",
        "  account = 'Debit'\n",
        "  loop = True\n",
        "  while loop == True:\n",
        "    print(\"Please enter the following information/n\")\n",
        "    \n",
        "    #Name of income\n",
        "    name = input(\"Name of Expense: \")\n",
        "    #Income amount\n",
        "    amount = int(input(\"Expense Amount: \"))\n",
        "\n",
        "    #How frequent is the income\n",
        "    index = True\n",
        "    while index == True:\n",
        "      frequency_options = {1:\"Weekly\", 2:\"Bi-Weekly\", 3:\"Monthly\", 4:\"Annually\"}\n",
        "      print(frequency_options)\n",
        "      ans = int(input(\"How often: \"))\n",
        "      if ans in frequency_options:\n",
        "        frequency = frequency_options[ans]\n",
        "        index = False\n",
        "      else:\n",
        "        print(\"Not an option, try again\")\n",
        "    \n",
        "    #Date payment is released\n",
        "    date = input(\"Enter pay date (MM-DD-YYYY): \")\n",
        "    \n",
        "    #categorizing the income as passive or active\n",
        "    index = True\n",
        "    while index == True:\n",
        "      category_options = {1:\"Utility\", 2:\"Subscription\", 3:\"Debt\", 4:\"Misc.\"}\n",
        "      print(category_options)\n",
        "      ans = int(input(\"Type of Expense: \"))\n",
        "      if ans in category_options:\n",
        "        category = category_options[ans]\n",
        "        index = False\n",
        "      else:\n",
        "        print(\"Not an option, try again\")\n",
        "\n",
        "    #How important is this expense\n",
        "    index = True\n",
        "    while index == True:\n",
        "      priority_options = {1:\"Important\", 2:\"Semi-Important\", 3:\"Not Important\"}\n",
        "      print(priority_options)\n",
        "      ans = int(input(\"How essential is the expense? \"))\n",
        "      if ans in priority_options:\n",
        "        priority = priority_options[ans]\n",
        "        index = False\n",
        "      else:\n",
        "        print(\"Not an option, try again\")\n",
        "\n",
        "    #current time entered\n",
        "    x = dt.datetime.now()\n",
        "    t = x.strftime(\"%m-%d-%Y\")\n",
        "\n",
        "    c.execute('INSERT INTO Info (user_id, name, amount, type, frequency, date_due, category, priority, date_entered) VALUES (?,?,?,?,?,?,?,?,?)', (user_id, name, amount, account, frequency, date, category, priority, t))\n",
        "    print(\"Successfully added \"+name)\n",
        "    \n",
        "    ans = input(\"Would you like to add another? (Y/N)\").upper()\n",
        "    \n",
        "    index = True\n",
        "    while index == True:\n",
        "      if ans == 'Y':\n",
        "        index = False\n",
        "      elif ans == 'N':\n",
        "        loop = False\n",
        "        index = False\n",
        "        menu(user_id)\n",
        "      else:\n",
        "        print(\"Sorry not an option\")"
      ],
      "execution_count": null,
      "outputs": []
    },
    {
      "cell_type": "markdown",
      "metadata": {
        "id": "1vz6Y41rlvky"
      },
      "source": [
        "Delete Expense"
      ]
    },
    {
      "cell_type": "code",
      "metadata": {
        "id": "6BA5LaGqlvXg"
      },
      "source": [
        "def remove_expense(user_id):\n",
        "  print(\"Which one would you like to delete?\\n\")\n",
        "  \n",
        "  x = str(user_id)\n",
        "  c.execute('SELECT name FROM Info WHERE user_id = ? AND type = \"Debit\"', x)\n",
        "  y = c.fetchall()\n",
        "  \n",
        "  if len(y) == 0:\n",
        "    print(\"Nothing to delete\")\n",
        "    menu(user_id)\n",
        "  \n",
        "  else:\n",
        "    index = 0\n",
        "    for names in y:\n",
        "      index += 1\n",
        "      print(str(index)+'. '+names[0])\n",
        "    \n",
        "  \n",
        "    loop = True\n",
        "    while loop == True:\n",
        "      ans = int(input())\n",
        "      if ans <= index and ans > 0:\n",
        "        loop = False\n",
        "      else:\n",
        "        print(\"Not a valid input\")\n",
        "  \n",
        "    index = 0\n",
        "    for names in y:\n",
        "      index += 1\n",
        "      if index == ans:\n",
        "        name = names[0]\n",
        "      else:\n",
        "        continue\n",
        "  \n",
        "    print(\"Would you like to remove: \" +name+ \"?\\n\")\n",
        "  \n",
        "    loop = True\n",
        "    while loop == True:\n",
        "      ans = input(\"(Y/N)\").upper()\n",
        "      if ans == 'Y':\n",
        "        c.execute('DELETE FROM Info WHERE name = ? and user_id = ? AND type = \"Debit\"', (name, x))\n",
        "        loop = False\n",
        "        print(\"Successfully removed \"+name)\n",
        "        menu(user_id)\n",
        "      elif ans == 'N':\n",
        "        cont = True\n",
        "        while cont == True:\n",
        "          ans = input(\"Would you like to continue removing an expense?(Y/N)\").upper()\n",
        "          if ans == 'N':\n",
        "            cont = False\n",
        "            loop = False\n",
        "            menu(user_id)\n",
        "          elif ans == 'Y':\n",
        "            continue\n",
        "          else:\n",
        "            print('Invalid answer')\n",
        "      else:\n",
        "        print(\"Invalid answer\")\n",
        "  "
      ],
      "execution_count": null,
      "outputs": []
    },
    {
      "cell_type": "markdown",
      "metadata": {
        "id": "TieR2uz4RT56"
      },
      "source": [
        "# Details"
      ]
    },
    {
      "cell_type": "markdown",
      "metadata": {
        "id": "Z2t53RcpRj7l"
      },
      "source": [
        "Shows the user's account information"
      ]
    },
    {
      "cell_type": "code",
      "metadata": {
        "id": "aesM_fGwqn3d"
      },
      "source": [
        "def show_details(user_id):\n",
        "  details_options = {1:\"Show Income Information\", 2:\"Show Expense Information\", 3:\"Show All\", 0:\"Go Back\"}\n",
        "  \n",
        "  loop = True\n",
        "  while loop == True:\n",
        "    print(details_options)\n",
        "    ans = int(input(\"\\nWhat would you like to see? \"))\n",
        "\n",
        "    if ans in details_options:\n",
        "        loop = False\n",
        "        if ans == 1:\n",
        "            display(pd.read_sql('SELECT * FROM Info WHERE user_id = :id AND type = :type', conn, params={'id':user_id, 'type':\"Credit\"}, index_col = \"user_id\"))\n",
        "        elif ans == 2:\n",
        "            display(pd.read_sql('SELECT * FROM Info WHERE user_id = :id AND type = :type', conn, params={'id':user_id, 'type':\"Debit\"}, index_col = \"user_id\"))\n",
        "        elif ans == 3:\n",
        "            display(pd.read_sql('SELECT * FROM Info WHERE user_id = :id', conn, params={'id':user_id}, index_col = \"user_id\"))\n",
        "        \n",
        "        else:\n",
        "            menu(user_id)\n",
        "    else:\n",
        "      print(\"Invalid input, try again\")\n",
        "    \n",
        "    loop = True\n",
        "    while loop == True:\n",
        "      ans = input(\"Would you like to do something else? (Y/N)\").upper()\n",
        "\n",
        "      if ans == 'Y':\n",
        "        loop = False\n",
        "        show_details(user_id)\n",
        "      elif ans == 'N':\n",
        "        loop = False\n",
        "        menu(user_id)\n",
        "      else:\n",
        "        print(\"Invalid input\")"
      ],
      "execution_count": null,
      "outputs": []
    },
    {
      "cell_type": "markdown",
      "metadata": {
        "id": "v1BG3zU9RVrp"
      },
      "source": [
        "# Budget"
      ]
    },
    {
      "cell_type": "markdown",
      "metadata": {
        "id": "fxmcUSIQRkXq"
      },
      "source": [
        "Add or view budget based on Account information (hardest thing here)"
      ]
    },
    {
      "cell_type": "code",
      "metadata": {
        "id": "eSsEK5wA2jtN"
      },
      "source": [
        "def budget(user_id):\n",
        "    budget_options = {1:\"Show Budget\", 2:\"Create a Budget\", 3:\"Edit Budget\", 0:\"Go Back\"}\n",
        "\n",
        "    loop = True\n",
        "    while loop == True:\n",
        "        ans = int(input(\"\\nWhat would you like to do today? \"))\n",
        "        if ans in budget_options:\n",
        "            loop = False\n",
        "            if ans == 1:\n",
        "                show_budget(user_id)\n",
        "            elif ans == 2:\n",
        "                create_budget(user_id)\n",
        "            elif ans == 3:\n",
        "                edit_budget(user_id)\n",
        "            else:\n",
        "                menu(user_id)\n",
        "        else:\n",
        "            print(\"Invalid input, try again\")\n",
        "    \n",
        "    loop = True\n",
        "    while loop == True:\n",
        "      ans = input(\"Would you like to do something else? (Y/N)\").upper()\n",
        "\n",
        "      if ans == 'Y':\n",
        "        loop = False\n",
        "        show_details(user_id)\n",
        "      elif ans == 'N':\n",
        "        loop = False\n",
        "        menu(user_id)\n",
        "      else:\n",
        "        print(\"Invalid input\")"
      ],
      "execution_count": null,
      "outputs": []
    },
    {
      "cell_type": "code",
      "metadata": {
        "id": "k7fXACvU3z3d"
      },
      "source": [
        "def create_budget(user_id):\n",
        "    print(\"In order to create a budget you must answer the following questions\")\n",
        "    amount = float(input(\"\\nHow much do you want to save? \"))\n",
        "    date = input(\"\\nBy when do you want to save that amount? \")\n",
        "\n",
        "    c.execute('INSERT INTO Budget (amount, goal_date) VALUES (?,?)',(amount, date))\n",
        "\n",
        "    print(\"I want to save \" + str(amount) + \" dollars by \" + date +\" .\")\n",
        "    print(\"This will be your financial goal\")\n",
        "    budget(user_id)"
      ],
      "execution_count": null,
      "outputs": []
    },
    {
      "cell_type": "code",
      "metadata": {
        "id": "eHTLJOHi9aca"
      },
      "source": [
        "def edit_budget(user_id):\n",
        "    \n",
        "    print(\"Your current financial goal is:\")\n",
        "    c.execute('SELECT * FROM budget WHERE user_id = ?', amount)\n",
        "    info = c.fetchall()\n",
        "    for x in info:\n",
        "        amount = x[0]\n",
        "        date = x[0]\n",
        "    \n",
        "    print(\"What would you like your new goal to be?\")\n",
        "    amount = float(input(\"\\nHow much do you want to save? \"))\n",
        "    date = input(\"\\nBy when do you want to save that amount? \")\n",
        "\n",
        "    c.execute('INSERT INTO Budget (amount, goal_date) VALUES (?,?)',(amount, date))\n",
        "\n",
        "    print(\"I want to save \" + str(amount) + \" dollars by \" + date +\" .\")\n",
        "    print(\"This will be your new financial goal\")\n",
        "    budget(user_id)"
      ],
      "execution_count": null,
      "outputs": []
    },
    {
      "cell_type": "code",
      "metadata": {
        "id": "oRyIIRHC_aKu"
      },
      "source": [
        "def show_budget(user_id):\n",
        "    print(\"W.I.P Sorry\")\n",
        "    budget(user_id)"
      ],
      "execution_count": null,
      "outputs": []
    },
    {
      "cell_type": "markdown",
      "metadata": {
        "id": "CZ2lMWjz-Wd-"
      },
      "source": [
        "# Running the Program"
      ]
    },
    {
      "cell_type": "code",
      "metadata": {
        "colab": {
          "base_uri": "https://localhost:8080/",
          "height": 1000
        },
        "id": "5TxpUk4_-ScP",
        "outputId": "3093c1eb-9940-4cce-c040-c4ba0a6d340b"
      },
      "source": [
        "start()"
      ],
      "execution_count": null,
      "outputs": [
        {
          "output_type": "stream",
          "text": [
            "Returning user? (Y/N)\n",
            "n\n",
            "Enter a Username: espinar\n",
            "Enter your first name: ryan\n",
            "Enter your Last name: espinal\n",
            "Enter a Password: project\n",
            "Confirm Password: project\n",
            "username: espinar\n",
            "password: project\n",
            "\n",
            "Welcome ryan!\n",
            "\n",
            "What would you like to do today?\n",
            "\n",
            "{1: 'Account Info', 2: 'Show Details', 3: 'Budget', 0: 'Sign Out'}\n",
            "2\n",
            "You have selected Show Details\n",
            "{1: 'Show Income Information', 2: 'Show Expense Information', 3: 'Show All', 0: 'Go Back'}\n",
            "\n",
            "What would you like to see? 1\n"
          ],
          "name": "stdout"
        },
        {
          "output_type": "display_data",
          "data": {
            "text/html": [
              "<div>\n",
              "<style scoped>\n",
              "    .dataframe tbody tr th:only-of-type {\n",
              "        vertical-align: middle;\n",
              "    }\n",
              "\n",
              "    .dataframe tbody tr th {\n",
              "        vertical-align: top;\n",
              "    }\n",
              "\n",
              "    .dataframe thead th {\n",
              "        text-align: right;\n",
              "    }\n",
              "</style>\n",
              "<table border=\"1\" class=\"dataframe\">\n",
              "  <thead>\n",
              "    <tr style=\"text-align: right;\">\n",
              "      <th></th>\n",
              "      <th>name</th>\n",
              "      <th>amount</th>\n",
              "      <th>type</th>\n",
              "      <th>frequency</th>\n",
              "      <th>date_due</th>\n",
              "      <th>category</th>\n",
              "      <th>priority</th>\n",
              "      <th>date_entered</th>\n",
              "    </tr>\n",
              "    <tr>\n",
              "      <th>user_id</th>\n",
              "      <th></th>\n",
              "      <th></th>\n",
              "      <th></th>\n",
              "      <th></th>\n",
              "      <th></th>\n",
              "      <th></th>\n",
              "      <th></th>\n",
              "      <th></th>\n",
              "    </tr>\n",
              "  </thead>\n",
              "  <tbody>\n",
              "  </tbody>\n",
              "</table>\n",
              "</div>"
            ],
            "text/plain": [
              "Empty DataFrame\n",
              "Columns: [name, amount, type, frequency, date_due, category, priority, date_entered]\n",
              "Index: []"
            ]
          },
          "metadata": {}
        },
        {
          "output_type": "stream",
          "text": [
            "Would you like to do something else? (Y/N)n\n",
            "What would you like to do today?\n",
            "\n",
            "{1: 'Account Info', 2: 'Show Details', 3: 'Budget', 0: 'Sign Out'}\n",
            "1\n",
            "You have selected Account Info\n",
            "{1: 'Add Income', 2: 'Delete Income', 3: 'Add Expense', 4: 'Delete Expense', 0: 'Go Back'}\n",
            "2\n",
            "You have selected to Delete Income\n",
            "Which one would you like to delete?\n",
            "\n",
            "Nothing to delete\n",
            "What would you like to do today?\n",
            "\n",
            "{1: 'Account Info', 2: 'Show Details', 3: 'Budget', 0: 'Sign Out'}\n",
            "1\n",
            "You have selected Account Info\n",
            "{1: 'Add Income', 2: 'Delete Income', 3: 'Add Expense', 4: 'Delete Expense', 0: 'Go Back'}\n",
            "4\n",
            "You have selected to Delete Expense\n",
            "Which one would you like to delete?\n",
            "\n",
            "Nothing to delete\n",
            "What would you like to do today?\n",
            "\n",
            "{1: 'Account Info', 2: 'Show Details', 3: 'Budget', 0: 'Sign Out'}\n",
            "1\n",
            "You have selected Account Info\n",
            "{1: 'Add Income', 2: 'Delete Income', 3: 'Add Expense', 4: 'Delete Expense', 0: 'Go Back'}\n",
            "1\n",
            "You have selected to Add Income\n",
            "Please enter the following information/n\n",
            "Name of Income Source: Job\n",
            "Income Amount: 600\n",
            "{1: 'Weekly', 2: 'Bi-Weekly', 3: 'Monthly', 4: 'Annually'}\n",
            "How often: 1\n",
            "Enter pay date (MM-DD-YYYY): 8/28/21\n",
            "{1: 'Passive Income', 2: 'Active Income'}\n",
            "Type of Income: 2\n",
            "Successfully added Job\n",
            "Would you like to add another? (Y/N)n\n",
            "What would you like to do today?\n",
            "\n",
            "{1: 'Account Info', 2: 'Show Details', 3: 'Budget', 0: 'Sign Out'}\n",
            "2\n",
            "You have selected Show Details\n",
            "{1: 'Show Income Information', 2: 'Show Expense Information', 3: 'Show All', 0: 'Go Back'}\n",
            "\n",
            "What would you like to see? 1\n"
          ],
          "name": "stdout"
        },
        {
          "output_type": "display_data",
          "data": {
            "text/html": [
              "<div>\n",
              "<style scoped>\n",
              "    .dataframe tbody tr th:only-of-type {\n",
              "        vertical-align: middle;\n",
              "    }\n",
              "\n",
              "    .dataframe tbody tr th {\n",
              "        vertical-align: top;\n",
              "    }\n",
              "\n",
              "    .dataframe thead th {\n",
              "        text-align: right;\n",
              "    }\n",
              "</style>\n",
              "<table border=\"1\" class=\"dataframe\">\n",
              "  <thead>\n",
              "    <tr style=\"text-align: right;\">\n",
              "      <th></th>\n",
              "      <th>name</th>\n",
              "      <th>amount</th>\n",
              "      <th>type</th>\n",
              "      <th>frequency</th>\n",
              "      <th>date_due</th>\n",
              "      <th>category</th>\n",
              "      <th>priority</th>\n",
              "      <th>date_entered</th>\n",
              "    </tr>\n",
              "    <tr>\n",
              "      <th>user_id</th>\n",
              "      <th></th>\n",
              "      <th></th>\n",
              "      <th></th>\n",
              "      <th></th>\n",
              "      <th></th>\n",
              "      <th></th>\n",
              "      <th></th>\n",
              "      <th></th>\n",
              "    </tr>\n",
              "  </thead>\n",
              "  <tbody>\n",
              "    <tr>\n",
              "      <th>1</th>\n",
              "      <td>Job</td>\n",
              "      <td>600.0</td>\n",
              "      <td>Credit</td>\n",
              "      <td>Weekly</td>\n",
              "      <td>8/28/21</td>\n",
              "      <td>Active Income</td>\n",
              "      <td>None</td>\n",
              "      <td>08-28-2021</td>\n",
              "    </tr>\n",
              "  </tbody>\n",
              "</table>\n",
              "</div>"
            ],
            "text/plain": [
              "        name  amount    type  ...       category priority date_entered\n",
              "user_id                       ...                                     \n",
              "1        Job   600.0  Credit  ...  Active Income     None   08-28-2021\n",
              "\n",
              "[1 rows x 8 columns]"
            ]
          },
          "metadata": {}
        },
        {
          "output_type": "stream",
          "text": [
            "Would you like to do something else? (Y/N)n\n",
            "What would you like to do today?\n",
            "\n",
            "{1: 'Account Info', 2: 'Show Details', 3: 'Budget', 0: 'Sign Out'}\n",
            "1\n",
            "You have selected Account Info\n",
            "{1: 'Add Income', 2: 'Delete Income', 3: 'Add Expense', 4: 'Delete Expense', 0: 'Go Back'}\n",
            "3\n",
            "You have selected to Add Expense\n",
            "Please enter the following information/n\n",
            "Name of Expense: rent\n",
            "Expense Amount: 500\n",
            "{1: 'Weekly', 2: 'Bi-Weekly', 3: 'Monthly', 4: 'Annually'}\n",
            "How often: 3\n",
            "Enter pay date (MM-DD-YYYY): 09-01-2021\n",
            "{1: 'Utility', 2: 'Subscription', 3: 'Debt', 4: 'Misc.'}\n",
            "Type of Expense: 1\n",
            "{1: 'Important', 2: 'Semi-Important', 3: 'Not Important'}\n",
            "How essential is the expense? 1\n",
            "Successfully added rent\n",
            "Would you like to add another? (Y/N)n\n",
            "What would you like to do today?\n",
            "\n",
            "{1: 'Account Info', 2: 'Show Details', 3: 'Budget', 0: 'Sign Out'}\n",
            "2\n",
            "You have selected Show Details\n",
            "{1: 'Show Income Information', 2: 'Show Expense Information', 3: 'Show All', 0: 'Go Back'}\n",
            "\n",
            "What would you like to see? 2\n"
          ],
          "name": "stdout"
        },
        {
          "output_type": "display_data",
          "data": {
            "text/html": [
              "<div>\n",
              "<style scoped>\n",
              "    .dataframe tbody tr th:only-of-type {\n",
              "        vertical-align: middle;\n",
              "    }\n",
              "\n",
              "    .dataframe tbody tr th {\n",
              "        vertical-align: top;\n",
              "    }\n",
              "\n",
              "    .dataframe thead th {\n",
              "        text-align: right;\n",
              "    }\n",
              "</style>\n",
              "<table border=\"1\" class=\"dataframe\">\n",
              "  <thead>\n",
              "    <tr style=\"text-align: right;\">\n",
              "      <th></th>\n",
              "      <th>name</th>\n",
              "      <th>amount</th>\n",
              "      <th>type</th>\n",
              "      <th>frequency</th>\n",
              "      <th>date_due</th>\n",
              "      <th>category</th>\n",
              "      <th>priority</th>\n",
              "      <th>date_entered</th>\n",
              "    </tr>\n",
              "    <tr>\n",
              "      <th>user_id</th>\n",
              "      <th></th>\n",
              "      <th></th>\n",
              "      <th></th>\n",
              "      <th></th>\n",
              "      <th></th>\n",
              "      <th></th>\n",
              "      <th></th>\n",
              "      <th></th>\n",
              "    </tr>\n",
              "  </thead>\n",
              "  <tbody>\n",
              "    <tr>\n",
              "      <th>1</th>\n",
              "      <td>rent</td>\n",
              "      <td>500.0</td>\n",
              "      <td>Debit</td>\n",
              "      <td>Monthly</td>\n",
              "      <td>09-01-2021</td>\n",
              "      <td>Utility</td>\n",
              "      <td>Important</td>\n",
              "      <td>08-28-2021</td>\n",
              "    </tr>\n",
              "  </tbody>\n",
              "</table>\n",
              "</div>"
            ],
            "text/plain": [
              "         name  amount   type  ... category   priority date_entered\n",
              "user_id                       ...                                 \n",
              "1        rent   500.0  Debit  ...  Utility  Important   08-28-2021\n",
              "\n",
              "[1 rows x 8 columns]"
            ]
          },
          "metadata": {}
        },
        {
          "output_type": "stream",
          "text": [
            "Would you like to do something else? (Y/N)y\n",
            "{1: 'Show Income Information', 2: 'Show Expense Information', 3: 'Show All', 0: 'Go Back'}\n",
            "\n",
            "What would you like to see? 3\n"
          ],
          "name": "stdout"
        },
        {
          "output_type": "display_data",
          "data": {
            "text/html": [
              "<div>\n",
              "<style scoped>\n",
              "    .dataframe tbody tr th:only-of-type {\n",
              "        vertical-align: middle;\n",
              "    }\n",
              "\n",
              "    .dataframe tbody tr th {\n",
              "        vertical-align: top;\n",
              "    }\n",
              "\n",
              "    .dataframe thead th {\n",
              "        text-align: right;\n",
              "    }\n",
              "</style>\n",
              "<table border=\"1\" class=\"dataframe\">\n",
              "  <thead>\n",
              "    <tr style=\"text-align: right;\">\n",
              "      <th></th>\n",
              "      <th>name</th>\n",
              "      <th>amount</th>\n",
              "      <th>type</th>\n",
              "      <th>frequency</th>\n",
              "      <th>date_due</th>\n",
              "      <th>category</th>\n",
              "      <th>priority</th>\n",
              "      <th>date_entered</th>\n",
              "    </tr>\n",
              "    <tr>\n",
              "      <th>user_id</th>\n",
              "      <th></th>\n",
              "      <th></th>\n",
              "      <th></th>\n",
              "      <th></th>\n",
              "      <th></th>\n",
              "      <th></th>\n",
              "      <th></th>\n",
              "      <th></th>\n",
              "    </tr>\n",
              "  </thead>\n",
              "  <tbody>\n",
              "    <tr>\n",
              "      <th>1</th>\n",
              "      <td>Job</td>\n",
              "      <td>600.0</td>\n",
              "      <td>Credit</td>\n",
              "      <td>Weekly</td>\n",
              "      <td>8/28/21</td>\n",
              "      <td>Active Income</td>\n",
              "      <td>None</td>\n",
              "      <td>08-28-2021</td>\n",
              "    </tr>\n",
              "    <tr>\n",
              "      <th>1</th>\n",
              "      <td>rent</td>\n",
              "      <td>500.0</td>\n",
              "      <td>Debit</td>\n",
              "      <td>Monthly</td>\n",
              "      <td>09-01-2021</td>\n",
              "      <td>Utility</td>\n",
              "      <td>Important</td>\n",
              "      <td>08-28-2021</td>\n",
              "    </tr>\n",
              "  </tbody>\n",
              "</table>\n",
              "</div>"
            ],
            "text/plain": [
              "         name  amount    type  ...       category   priority date_entered\n",
              "user_id                        ...                                       \n",
              "1         Job   600.0  Credit  ...  Active Income       None   08-28-2021\n",
              "1        rent   500.0   Debit  ...        Utility  Important   08-28-2021\n",
              "\n",
              "[2 rows x 8 columns]"
            ]
          },
          "metadata": {}
        },
        {
          "output_type": "stream",
          "text": [
            "Would you like to do something else? (Y/N)n\n",
            "What would you like to do today?\n",
            "\n",
            "{1: 'Account Info', 2: 'Show Details', 3: 'Budget', 0: 'Sign Out'}\n",
            "0\n",
            "Signed Out\n",
            "Returning user? (Y/N)\n",
            "c\n",
            "Good Bye\n"
          ],
          "name": "stdout"
        }
      ]
    }
  ]
}