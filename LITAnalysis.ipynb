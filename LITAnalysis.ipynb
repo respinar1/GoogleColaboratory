{
  "nbformat": 4,
  "nbformat_minor": 0,
  "metadata": {
    "colab": {
      "name": "LITAnalysis.ipynb",
      "provenance": [],
      "toc_visible": true,
      "authorship_tag": "ABX9TyPD9QxTF9NNxGTPb1CfoRoT",
      "include_colab_link": true
    },
    "kernelspec": {
      "name": "python3",
      "display_name": "Python 3"
    },
    "language_info": {
      "name": "python"
    }
  },
  "cells": [
    {
      "cell_type": "markdown",
      "metadata": {
        "id": "view-in-github",
        "colab_type": "text"
      },
      "source": [
        "<a href=\"https://colab.research.google.com/github/respinar1/GoogleColaboratory/blob/main/LITAnalysis.ipynb\" target=\"_parent\"><img src=\"https://colab.research.google.com/assets/colab-badge.svg\" alt=\"Open In Colab\"/></a>"
      ]
    },
    {
      "cell_type": "markdown",
      "metadata": {
        "id": "Oa65sQdetord"
      },
      "source": [
        "# LIT Technical Assessment"
      ]
    },
    {
      "cell_type": "markdown",
      "metadata": {
        "id": "sDnF5NHHtzxf"
      },
      "source": [
        "# MetaData"
      ]
    },
    {
      "cell_type": "code",
      "metadata": {
        "colab": {
          "base_uri": "https://localhost:8080/"
        },
        "id": "JxAFpyDJtDpk",
        "outputId": "8fb32507-0720-46c1-9801-15321aa92dd4"
      },
      "source": [
        "# Here I will be importing all of the necessary libraries to compute and visualize our analysis.\n",
        "import pandas as pd\n",
        "import math as mt\n",
        "print('Done!')"
      ],
      "execution_count": 165,
      "outputs": [
        {
          "output_type": "stream",
          "name": "stdout",
          "text": [
            "Done!\n"
          ]
        }
      ]
    },
    {
      "cell_type": "markdown",
      "metadata": {
        "id": "THh5WzeWwnKm"
      },
      "source": [
        "# Cleaning the Data"
      ]
    },
    {
      "cell_type": "code",
      "metadata": {
        "colab": {
          "base_uri": "https://localhost:8080/"
        },
        "id": "J2vzlZIwwp3e",
        "outputId": "0cd34c8a-aa1e-4ac7-f0d7-b2105b14df90"
      },
      "source": [
        "# Step one: Download the CSV files and store it in a Pandas DataFrame for analysis\n",
        "tbill_data = pd.read_csv('/3MO.csv')\n",
        "print('Done!')"
      ],
      "execution_count": 2,
      "outputs": [
        {
          "output_type": "stream",
          "name": "stdout",
          "text": [
            "Done!\n"
          ]
        }
      ]
    },
    {
      "cell_type": "code",
      "metadata": {
        "colab": {
          "base_uri": "https://localhost:8080/"
        },
        "id": "9p3HBzDr2BNU",
        "outputId": "c774198f-2764-402c-98b4-03f2bf0ee161"
      },
      "source": [
        "oil_data = pd.read_csv('/Daily Oil Prices.csv')\n",
        "print('Done!')\n",
        "# This CSV file gave me some trouble. I had to use Apples 'Numbers' to delete some data\n",
        "# so that pandas can read the file correctly."
      ],
      "execution_count": 3,
      "outputs": [
        {
          "output_type": "stream",
          "name": "stdout",
          "text": [
            "Done!\n"
          ]
        }
      ]
    },
    {
      "cell_type": "code",
      "metadata": {
        "colab": {
          "base_uri": "https://localhost:8080/"
        },
        "id": "21fSRRLV3OON",
        "outputId": "68bcaba1-1b5e-4261-8aa8-a28dc96f976b"
      },
      "source": [
        "# Reviewing the Data Types\n",
        "tbill_data.dtypes"
      ],
      "execution_count": 4,
      "outputs": [
        {
          "output_type": "execute_result",
          "data": {
            "text/plain": [
              "DATE    object\n",
              "DTB3    object\n",
              "dtype: object"
            ]
          },
          "metadata": {},
          "execution_count": 4
        }
      ]
    },
    {
      "cell_type": "code",
      "metadata": {
        "colab": {
          "base_uri": "https://localhost:8080/"
        },
        "id": "JSSi3ubK3c-g",
        "outputId": "18f55ccb-4120-475b-a6b4-be4c05d66b80"
      },
      "source": [
        "oil_data.dtypes"
      ],
      "execution_count": 5,
      "outputs": [
        {
          "output_type": "execute_result",
          "data": {
            "text/plain": [
              "Day                                                   object\n",
              "Cushing OK WTI Spot Price FOB  Dollars per Barrel    float64\n",
              "dtype: object"
            ]
          },
          "metadata": {},
          "execution_count": 5
        }
      ]
    },
    {
      "cell_type": "code",
      "metadata": {
        "id": "GqrRkM6E3g8Z"
      },
      "source": [
        "# Notice that the DTB3 data type is object instead of float and Date/day should be in datetime.\n",
        "# I will need to change that first"
      ],
      "execution_count": 6,
      "outputs": []
    },
    {
      "cell_type": "code",
      "metadata": {
        "id": "90HS-I126jz6"
      },
      "source": [
        "# Converts the Date/Day columns from Objects to DateTimes\n",
        "tbill_data['DATE'] = pd.to_datetime(tbill_data['DATE'])"
      ],
      "execution_count": 7,
      "outputs": []
    },
    {
      "cell_type": "code",
      "metadata": {
        "id": "c7RGS3WdxWeq"
      },
      "source": [
        "oil_data['Day'] = pd.to_datetime(oil_data['Day'])"
      ],
      "execution_count": 8,
      "outputs": []
    },
    {
      "cell_type": "code",
      "metadata": {
        "colab": {
          "base_uri": "https://localhost:8080/"
        },
        "id": "faCwS-5m-l_Z",
        "outputId": "105f6d48-b4d7-4893-c614-926f145f9e69"
      },
      "source": [
        "tbill_data.dtypes"
      ],
      "execution_count": 9,
      "outputs": [
        {
          "output_type": "execute_result",
          "data": {
            "text/plain": [
              "DATE    datetime64[ns]\n",
              "DTB3            object\n",
              "dtype: object"
            ]
          },
          "metadata": {},
          "execution_count": 9
        }
      ]
    },
    {
      "cell_type": "code",
      "metadata": {
        "colab": {
          "base_uri": "https://localhost:8080/"
        },
        "id": "VtCPUwRY-3SR",
        "outputId": "aa745e78-db4a-4225-86dc-560a4d7870ba"
      },
      "source": [
        "oil_data.dtypes"
      ],
      "execution_count": 10,
      "outputs": [
        {
          "output_type": "execute_result",
          "data": {
            "text/plain": [
              "Day                                                  datetime64[ns]\n",
              "Cushing OK WTI Spot Price FOB  Dollars per Barrel           float64\n",
              "dtype: object"
            ]
          },
          "metadata": {},
          "execution_count": 10
        }
      ]
    },
    {
      "cell_type": "code",
      "metadata": {
        "colab": {
          "base_uri": "https://localhost:8080/",
          "height": 324
        },
        "id": "NkH3N6H8_Cr6",
        "outputId": "b2cd5f57-6b2a-4d0f-f20c-2ad32ff2161a"
      },
      "source": [
        "# Converts the DTB3 column from Objects to Floats\n",
        "tbill_data['DTB3'].astype(float)"
      ],
      "execution_count": 11,
      "outputs": [
        {
          "output_type": "error",
          "ename": "ValueError",
          "evalue": "ignored",
          "traceback": [
            "\u001b[0;31m---------------------------------------------------------------------------\u001b[0m",
            "\u001b[0;31mValueError\u001b[0m                                Traceback (most recent call last)",
            "\u001b[0;32m<ipython-input-11-660d4f84b977>\u001b[0m in \u001b[0;36m<module>\u001b[0;34m()\u001b[0m\n\u001b[1;32m      1\u001b[0m \u001b[0;31m# Converts the DTB3 column from Objects to Floats\u001b[0m\u001b[0;34m\u001b[0m\u001b[0;34m\u001b[0m\u001b[0;34m\u001b[0m\u001b[0m\n\u001b[0;32m----> 2\u001b[0;31m \u001b[0mtbill_data\u001b[0m\u001b[0;34m[\u001b[0m\u001b[0;34m'DTB3'\u001b[0m\u001b[0;34m]\u001b[0m\u001b[0;34m.\u001b[0m\u001b[0mastype\u001b[0m\u001b[0;34m(\u001b[0m\u001b[0mfloat\u001b[0m\u001b[0;34m)\u001b[0m\u001b[0;34m\u001b[0m\u001b[0;34m\u001b[0m\u001b[0m\n\u001b[0m",
            "\u001b[0;32m/usr/local/lib/python3.7/dist-packages/pandas/core/generic.py\u001b[0m in \u001b[0;36mastype\u001b[0;34m(self, dtype, copy, errors)\u001b[0m\n\u001b[1;32m   5546\u001b[0m         \u001b[0;32melse\u001b[0m\u001b[0;34m:\u001b[0m\u001b[0;34m\u001b[0m\u001b[0;34m\u001b[0m\u001b[0m\n\u001b[1;32m   5547\u001b[0m             \u001b[0;31m# else, only a single dtype is given\u001b[0m\u001b[0;34m\u001b[0m\u001b[0;34m\u001b[0m\u001b[0;34m\u001b[0m\u001b[0m\n\u001b[0;32m-> 5548\u001b[0;31m             \u001b[0mnew_data\u001b[0m \u001b[0;34m=\u001b[0m \u001b[0mself\u001b[0m\u001b[0;34m.\u001b[0m\u001b[0m_mgr\u001b[0m\u001b[0;34m.\u001b[0m\u001b[0mastype\u001b[0m\u001b[0;34m(\u001b[0m\u001b[0mdtype\u001b[0m\u001b[0;34m=\u001b[0m\u001b[0mdtype\u001b[0m\u001b[0;34m,\u001b[0m \u001b[0mcopy\u001b[0m\u001b[0;34m=\u001b[0m\u001b[0mcopy\u001b[0m\u001b[0;34m,\u001b[0m \u001b[0merrors\u001b[0m\u001b[0;34m=\u001b[0m\u001b[0merrors\u001b[0m\u001b[0;34m,\u001b[0m\u001b[0;34m)\u001b[0m\u001b[0;34m\u001b[0m\u001b[0;34m\u001b[0m\u001b[0m\n\u001b[0m\u001b[1;32m   5549\u001b[0m             \u001b[0;32mreturn\u001b[0m \u001b[0mself\u001b[0m\u001b[0;34m.\u001b[0m\u001b[0m_constructor\u001b[0m\u001b[0;34m(\u001b[0m\u001b[0mnew_data\u001b[0m\u001b[0;34m)\u001b[0m\u001b[0;34m.\u001b[0m\u001b[0m__finalize__\u001b[0m\u001b[0;34m(\u001b[0m\u001b[0mself\u001b[0m\u001b[0;34m,\u001b[0m \u001b[0mmethod\u001b[0m\u001b[0;34m=\u001b[0m\u001b[0;34m\"astype\"\u001b[0m\u001b[0;34m)\u001b[0m\u001b[0;34m\u001b[0m\u001b[0;34m\u001b[0m\u001b[0m\n\u001b[1;32m   5550\u001b[0m \u001b[0;34m\u001b[0m\u001b[0m\n",
            "\u001b[0;32m/usr/local/lib/python3.7/dist-packages/pandas/core/internals/managers.py\u001b[0m in \u001b[0;36mastype\u001b[0;34m(self, dtype, copy, errors)\u001b[0m\n\u001b[1;32m    602\u001b[0m         \u001b[0mself\u001b[0m\u001b[0;34m,\u001b[0m \u001b[0mdtype\u001b[0m\u001b[0;34m,\u001b[0m \u001b[0mcopy\u001b[0m\u001b[0;34m:\u001b[0m \u001b[0mbool\u001b[0m \u001b[0;34m=\u001b[0m \u001b[0;32mFalse\u001b[0m\u001b[0;34m,\u001b[0m \u001b[0merrors\u001b[0m\u001b[0;34m:\u001b[0m \u001b[0mstr\u001b[0m \u001b[0;34m=\u001b[0m \u001b[0;34m\"raise\"\u001b[0m\u001b[0;34m\u001b[0m\u001b[0;34m\u001b[0m\u001b[0m\n\u001b[1;32m    603\u001b[0m     ) -> \"BlockManager\":\n\u001b[0;32m--> 604\u001b[0;31m         \u001b[0;32mreturn\u001b[0m \u001b[0mself\u001b[0m\u001b[0;34m.\u001b[0m\u001b[0mapply\u001b[0m\u001b[0;34m(\u001b[0m\u001b[0;34m\"astype\"\u001b[0m\u001b[0;34m,\u001b[0m \u001b[0mdtype\u001b[0m\u001b[0;34m=\u001b[0m\u001b[0mdtype\u001b[0m\u001b[0;34m,\u001b[0m \u001b[0mcopy\u001b[0m\u001b[0;34m=\u001b[0m\u001b[0mcopy\u001b[0m\u001b[0;34m,\u001b[0m \u001b[0merrors\u001b[0m\u001b[0;34m=\u001b[0m\u001b[0merrors\u001b[0m\u001b[0;34m)\u001b[0m\u001b[0;34m\u001b[0m\u001b[0;34m\u001b[0m\u001b[0m\n\u001b[0m\u001b[1;32m    605\u001b[0m \u001b[0;34m\u001b[0m\u001b[0m\n\u001b[1;32m    606\u001b[0m     def convert(\n",
            "\u001b[0;32m/usr/local/lib/python3.7/dist-packages/pandas/core/internals/managers.py\u001b[0m in \u001b[0;36mapply\u001b[0;34m(self, f, align_keys, **kwargs)\u001b[0m\n\u001b[1;32m    407\u001b[0m                 \u001b[0mapplied\u001b[0m \u001b[0;34m=\u001b[0m \u001b[0mb\u001b[0m\u001b[0;34m.\u001b[0m\u001b[0mapply\u001b[0m\u001b[0;34m(\u001b[0m\u001b[0mf\u001b[0m\u001b[0;34m,\u001b[0m \u001b[0;34m**\u001b[0m\u001b[0mkwargs\u001b[0m\u001b[0;34m)\u001b[0m\u001b[0;34m\u001b[0m\u001b[0;34m\u001b[0m\u001b[0m\n\u001b[1;32m    408\u001b[0m             \u001b[0;32melse\u001b[0m\u001b[0;34m:\u001b[0m\u001b[0;34m\u001b[0m\u001b[0;34m\u001b[0m\u001b[0m\n\u001b[0;32m--> 409\u001b[0;31m                 \u001b[0mapplied\u001b[0m \u001b[0;34m=\u001b[0m \u001b[0mgetattr\u001b[0m\u001b[0;34m(\u001b[0m\u001b[0mb\u001b[0m\u001b[0;34m,\u001b[0m \u001b[0mf\u001b[0m\u001b[0;34m)\u001b[0m\u001b[0;34m(\u001b[0m\u001b[0;34m**\u001b[0m\u001b[0mkwargs\u001b[0m\u001b[0;34m)\u001b[0m\u001b[0;34m\u001b[0m\u001b[0;34m\u001b[0m\u001b[0m\n\u001b[0m\u001b[1;32m    410\u001b[0m             \u001b[0mresult_blocks\u001b[0m \u001b[0;34m=\u001b[0m \u001b[0m_extend_blocks\u001b[0m\u001b[0;34m(\u001b[0m\u001b[0mapplied\u001b[0m\u001b[0;34m,\u001b[0m \u001b[0mresult_blocks\u001b[0m\u001b[0;34m)\u001b[0m\u001b[0;34m\u001b[0m\u001b[0;34m\u001b[0m\u001b[0m\n\u001b[1;32m    411\u001b[0m \u001b[0;34m\u001b[0m\u001b[0m\n",
            "\u001b[0;32m/usr/local/lib/python3.7/dist-packages/pandas/core/internals/blocks.py\u001b[0m in \u001b[0;36mastype\u001b[0;34m(self, dtype, copy, errors)\u001b[0m\n\u001b[1;32m    593\u001b[0m             \u001b[0mvals1d\u001b[0m \u001b[0;34m=\u001b[0m \u001b[0mvalues\u001b[0m\u001b[0;34m.\u001b[0m\u001b[0mravel\u001b[0m\u001b[0;34m(\u001b[0m\u001b[0;34m)\u001b[0m\u001b[0;34m\u001b[0m\u001b[0;34m\u001b[0m\u001b[0m\n\u001b[1;32m    594\u001b[0m             \u001b[0;32mtry\u001b[0m\u001b[0;34m:\u001b[0m\u001b[0;34m\u001b[0m\u001b[0;34m\u001b[0m\u001b[0m\n\u001b[0;32m--> 595\u001b[0;31m                 \u001b[0mvalues\u001b[0m \u001b[0;34m=\u001b[0m \u001b[0mastype_nansafe\u001b[0m\u001b[0;34m(\u001b[0m\u001b[0mvals1d\u001b[0m\u001b[0;34m,\u001b[0m \u001b[0mdtype\u001b[0m\u001b[0;34m,\u001b[0m \u001b[0mcopy\u001b[0m\u001b[0;34m=\u001b[0m\u001b[0;32mTrue\u001b[0m\u001b[0;34m)\u001b[0m\u001b[0;34m\u001b[0m\u001b[0;34m\u001b[0m\u001b[0m\n\u001b[0m\u001b[1;32m    596\u001b[0m             \u001b[0;32mexcept\u001b[0m \u001b[0;34m(\u001b[0m\u001b[0mValueError\u001b[0m\u001b[0;34m,\u001b[0m \u001b[0mTypeError\u001b[0m\u001b[0;34m)\u001b[0m\u001b[0;34m:\u001b[0m\u001b[0;34m\u001b[0m\u001b[0;34m\u001b[0m\u001b[0m\n\u001b[1;32m    597\u001b[0m                 \u001b[0;31m# e.g. astype_nansafe can fail on object-dtype of strings\u001b[0m\u001b[0;34m\u001b[0m\u001b[0;34m\u001b[0m\u001b[0;34m\u001b[0m\u001b[0m\n",
            "\u001b[0;32m/usr/local/lib/python3.7/dist-packages/pandas/core/dtypes/cast.py\u001b[0m in \u001b[0;36mastype_nansafe\u001b[0;34m(arr, dtype, copy, skipna)\u001b[0m\n\u001b[1;32m    995\u001b[0m     \u001b[0;32mif\u001b[0m \u001b[0mcopy\u001b[0m \u001b[0;32mor\u001b[0m \u001b[0mis_object_dtype\u001b[0m\u001b[0;34m(\u001b[0m\u001b[0marr\u001b[0m\u001b[0;34m)\u001b[0m \u001b[0;32mor\u001b[0m \u001b[0mis_object_dtype\u001b[0m\u001b[0;34m(\u001b[0m\u001b[0mdtype\u001b[0m\u001b[0;34m)\u001b[0m\u001b[0;34m:\u001b[0m\u001b[0;34m\u001b[0m\u001b[0;34m\u001b[0m\u001b[0m\n\u001b[1;32m    996\u001b[0m         \u001b[0;31m# Explicit copy, or required since NumPy can't view from / to object.\u001b[0m\u001b[0;34m\u001b[0m\u001b[0;34m\u001b[0m\u001b[0;34m\u001b[0m\u001b[0m\n\u001b[0;32m--> 997\u001b[0;31m         \u001b[0;32mreturn\u001b[0m \u001b[0marr\u001b[0m\u001b[0;34m.\u001b[0m\u001b[0mastype\u001b[0m\u001b[0;34m(\u001b[0m\u001b[0mdtype\u001b[0m\u001b[0;34m,\u001b[0m \u001b[0mcopy\u001b[0m\u001b[0;34m=\u001b[0m\u001b[0;32mTrue\u001b[0m\u001b[0;34m)\u001b[0m\u001b[0;34m\u001b[0m\u001b[0;34m\u001b[0m\u001b[0m\n\u001b[0m\u001b[1;32m    998\u001b[0m \u001b[0;34m\u001b[0m\u001b[0m\n\u001b[1;32m    999\u001b[0m     \u001b[0;32mreturn\u001b[0m \u001b[0marr\u001b[0m\u001b[0;34m.\u001b[0m\u001b[0mview\u001b[0m\u001b[0;34m(\u001b[0m\u001b[0mdtype\u001b[0m\u001b[0;34m)\u001b[0m\u001b[0;34m\u001b[0m\u001b[0;34m\u001b[0m\u001b[0m\n",
            "\u001b[0;31mValueError\u001b[0m: could not convert string to float: '.'"
          ]
        }
      ]
    },
    {
      "cell_type": "code",
      "metadata": {
        "id": "NE9erobKBArO"
      },
      "source": [
        "# After reviewing the CSV file, I noticed that there were blank decimal values\n",
        "# I will have to replace them with a value. (In this case, I want to change it with the average of the dataset based on month)"
      ],
      "execution_count": 12,
      "outputs": []
    },
    {
      "cell_type": "code",
      "metadata": {
        "id": "D0eBrWf1Esqm"
      },
      "source": [
        "# Find all the values that do not have decimals as a value and convert those into floats\n",
        "temp_data = tbill_data.loc[tbill_data['DTB3'] != \".\"]"
      ],
      "execution_count": 13,
      "outputs": []
    },
    {
      "cell_type": "code",
      "metadata": {
        "id": "QSGKf5PLFm_m"
      },
      "source": [
        "temp_data['DTB3'] = temp_data['DTB3'].astype(float)"
      ],
      "execution_count": null,
      "outputs": []
    },
    {
      "cell_type": "code",
      "metadata": {
        "id": "L0_EtahLJx46"
      },
      "source": [
        "# Using the new dataset, I can now calculate the mean based on Monthly data and replace all decimals with this value.\n",
        "m_values = round(temp_data.groupby(pd.Grouper(key='DATE',freq='M')).mean(), 2)"
      ],
      "execution_count": 15,
      "outputs": []
    },
    {
      "cell_type": "code",
      "metadata": {
        "id": "GxjdC7cbaGg-"
      },
      "source": [
        "m_values['DTB3']"
      ],
      "execution_count": null,
      "outputs": []
    },
    {
      "cell_type": "code",
      "metadata": {
        "id": "MidSRCCoB6xL"
      },
      "source": [
        "# Based on the monthly average, if a month has a decimal, we will replace it with its monthly average.\n",
        "for x in tbill_data['DATE'].loc[tbill_data['DTB3'] == \".\"]:\n",
        "    for y in m_values['DTB3'].index.date:\n",
        "        if x.strftime('%Y-%m') == y.strftime('%Y-%m'):\n",
        "            tbill_data['DTB3'].loc[tbill_data['DATE'] == x] = m_values['DTB3'].loc[m_values['DTB3'].index.date == y].values[0]\n",
        "            break\n",
        "        else:\n",
        "            continue"
      ],
      "execution_count": null,
      "outputs": []
    },
    {
      "cell_type": "code",
      "metadata": {
        "id": "3xOHL4-rbETH"
      },
      "source": [
        "# Trying the float conversion now works fine.\n",
        "tbill_data['DTB3'] = tbill_data['DTB3'].astype(float)"
      ],
      "execution_count": 18,
      "outputs": []
    },
    {
      "cell_type": "code",
      "metadata": {
        "colab": {
          "base_uri": "https://localhost:8080/",
          "height": 419
        },
        "id": "63cnVXWWd071",
        "outputId": "5f90f03a-20ca-43e9-9ef9-1892e82bd972"
      },
      "source": [
        "tbill_data"
      ],
      "execution_count": 19,
      "outputs": [
        {
          "output_type": "execute_result",
          "data": {
            "text/html": [
              "<div>\n",
              "<style scoped>\n",
              "    .dataframe tbody tr th:only-of-type {\n",
              "        vertical-align: middle;\n",
              "    }\n",
              "\n",
              "    .dataframe tbody tr th {\n",
              "        vertical-align: top;\n",
              "    }\n",
              "\n",
              "    .dataframe thead th {\n",
              "        text-align: right;\n",
              "    }\n",
              "</style>\n",
              "<table border=\"1\" class=\"dataframe\">\n",
              "  <thead>\n",
              "    <tr style=\"text-align: right;\">\n",
              "      <th></th>\n",
              "      <th>DATE</th>\n",
              "      <th>DTB3</th>\n",
              "    </tr>\n",
              "  </thead>\n",
              "  <tbody>\n",
              "    <tr>\n",
              "      <th>0</th>\n",
              "      <td>2016-08-26</td>\n",
              "      <td>0.33</td>\n",
              "    </tr>\n",
              "    <tr>\n",
              "      <th>1</th>\n",
              "      <td>2016-08-29</td>\n",
              "      <td>0.33</td>\n",
              "    </tr>\n",
              "    <tr>\n",
              "      <th>2</th>\n",
              "      <td>2016-08-30</td>\n",
              "      <td>0.33</td>\n",
              "    </tr>\n",
              "    <tr>\n",
              "      <th>3</th>\n",
              "      <td>2016-08-31</td>\n",
              "      <td>0.33</td>\n",
              "    </tr>\n",
              "    <tr>\n",
              "      <th>4</th>\n",
              "      <td>2016-09-01</td>\n",
              "      <td>0.33</td>\n",
              "    </tr>\n",
              "    <tr>\n",
              "      <th>...</th>\n",
              "      <td>...</td>\n",
              "      <td>...</td>\n",
              "    </tr>\n",
              "    <tr>\n",
              "      <th>1258</th>\n",
              "      <td>2021-06-24</td>\n",
              "      <td>0.05</td>\n",
              "    </tr>\n",
              "    <tr>\n",
              "      <th>1259</th>\n",
              "      <td>2021-06-25</td>\n",
              "      <td>0.06</td>\n",
              "    </tr>\n",
              "    <tr>\n",
              "      <th>1260</th>\n",
              "      <td>2021-06-28</td>\n",
              "      <td>0.05</td>\n",
              "    </tr>\n",
              "    <tr>\n",
              "      <th>1261</th>\n",
              "      <td>2021-06-29</td>\n",
              "      <td>0.04</td>\n",
              "    </tr>\n",
              "    <tr>\n",
              "      <th>1262</th>\n",
              "      <td>2021-06-30</td>\n",
              "      <td>0.05</td>\n",
              "    </tr>\n",
              "  </tbody>\n",
              "</table>\n",
              "<p>1263 rows × 2 columns</p>\n",
              "</div>"
            ],
            "text/plain": [
              "           DATE  DTB3\n",
              "0    2016-08-26  0.33\n",
              "1    2016-08-29  0.33\n",
              "2    2016-08-30  0.33\n",
              "3    2016-08-31  0.33\n",
              "4    2016-09-01  0.33\n",
              "...         ...   ...\n",
              "1258 2021-06-24  0.05\n",
              "1259 2021-06-25  0.06\n",
              "1260 2021-06-28  0.05\n",
              "1261 2021-06-29  0.04\n",
              "1262 2021-06-30  0.05\n",
              "\n",
              "[1263 rows x 2 columns]"
            ]
          },
          "metadata": {},
          "execution_count": 19
        }
      ]
    },
    {
      "cell_type": "code",
      "metadata": {
        "id": "Pr3rFxUId86e"
      },
      "source": [
        "# Now I will have to resize the data in the oil data CSV"
      ],
      "execution_count": 20,
      "outputs": []
    },
    {
      "cell_type": "code",
      "metadata": {
        "id": "CaLpbRGkxMQg"
      },
      "source": [
        "oil_data"
      ],
      "execution_count": null,
      "outputs": []
    },
    {
      "cell_type": "code",
      "metadata": {
        "id": "S2VZCXVJ0TRG"
      },
      "source": [
        "# This will convert the long column into just Price"
      ],
      "execution_count": 22,
      "outputs": []
    },
    {
      "cell_type": "code",
      "metadata": {
        "id": "EpgAkWgnzEOV"
      },
      "source": [
        "oil_data['Price'] = oil_data['Cushing OK WTI Spot Price FOB  Dollars per Barrel']"
      ],
      "execution_count": 23,
      "outputs": []
    },
    {
      "cell_type": "code",
      "metadata": {
        "id": "1Wc2vEtS0PD2"
      },
      "source": [
        "oil_data = oil_data.drop(['Cushing OK WTI Spot Price FOB  Dollars per Barrel'], axis=1)"
      ],
      "execution_count": 24,
      "outputs": []
    },
    {
      "cell_type": "code",
      "metadata": {
        "colab": {
          "base_uri": "https://localhost:8080/",
          "height": 419
        },
        "id": "hb_6xDik0QDf",
        "outputId": "9a80aebe-5e5a-4bf6-dc01-d16c9c9dcdde"
      },
      "source": [
        "oil_data"
      ],
      "execution_count": 25,
      "outputs": [
        {
          "output_type": "execute_result",
          "data": {
            "text/html": [
              "<div>\n",
              "<style scoped>\n",
              "    .dataframe tbody tr th:only-of-type {\n",
              "        vertical-align: middle;\n",
              "    }\n",
              "\n",
              "    .dataframe tbody tr th {\n",
              "        vertical-align: top;\n",
              "    }\n",
              "\n",
              "    .dataframe thead th {\n",
              "        text-align: right;\n",
              "    }\n",
              "</style>\n",
              "<table border=\"1\" class=\"dataframe\">\n",
              "  <thead>\n",
              "    <tr style=\"text-align: right;\">\n",
              "      <th></th>\n",
              "      <th>Day</th>\n",
              "      <th>Price</th>\n",
              "    </tr>\n",
              "  </thead>\n",
              "  <tbody>\n",
              "    <tr>\n",
              "      <th>0</th>\n",
              "      <td>2021-09-27</td>\n",
              "      <td>73.43</td>\n",
              "    </tr>\n",
              "    <tr>\n",
              "      <th>1</th>\n",
              "      <td>2021-09-24</td>\n",
              "      <td>73.43</td>\n",
              "    </tr>\n",
              "    <tr>\n",
              "      <th>2</th>\n",
              "      <td>2021-09-23</td>\n",
              "      <td>73.43</td>\n",
              "    </tr>\n",
              "    <tr>\n",
              "      <th>3</th>\n",
              "      <td>2021-09-22</td>\n",
              "      <td>72.37</td>\n",
              "    </tr>\n",
              "    <tr>\n",
              "      <th>4</th>\n",
              "      <td>2021-09-21</td>\n",
              "      <td>70.51</td>\n",
              "    </tr>\n",
              "    <tr>\n",
              "      <th>...</th>\n",
              "      <td>...</td>\n",
              "      <td>...</td>\n",
              "    </tr>\n",
              "    <tr>\n",
              "      <th>9003</th>\n",
              "      <td>1986-01-08</td>\n",
              "      <td>25.87</td>\n",
              "    </tr>\n",
              "    <tr>\n",
              "      <th>9004</th>\n",
              "      <td>1986-01-07</td>\n",
              "      <td>25.85</td>\n",
              "    </tr>\n",
              "    <tr>\n",
              "      <th>9005</th>\n",
              "      <td>1986-01-06</td>\n",
              "      <td>26.53</td>\n",
              "    </tr>\n",
              "    <tr>\n",
              "      <th>9006</th>\n",
              "      <td>1986-01-03</td>\n",
              "      <td>26.00</td>\n",
              "    </tr>\n",
              "    <tr>\n",
              "      <th>9007</th>\n",
              "      <td>1986-01-02</td>\n",
              "      <td>25.56</td>\n",
              "    </tr>\n",
              "  </tbody>\n",
              "</table>\n",
              "<p>9008 rows × 2 columns</p>\n",
              "</div>"
            ],
            "text/plain": [
              "            Day  Price\n",
              "0    2021-09-27  73.43\n",
              "1    2021-09-24  73.43\n",
              "2    2021-09-23  73.43\n",
              "3    2021-09-22  72.37\n",
              "4    2021-09-21  70.51\n",
              "...         ...    ...\n",
              "9003 1986-01-08  25.87\n",
              "9004 1986-01-07  25.85\n",
              "9005 1986-01-06  26.53\n",
              "9006 1986-01-03  26.00\n",
              "9007 1986-01-02  25.56\n",
              "\n",
              "[9008 rows x 2 columns]"
            ]
          },
          "metadata": {},
          "execution_count": 25
        }
      ]
    },
    {
      "cell_type": "markdown",
      "metadata": {
        "id": "5tY34-kWLl3D"
      },
      "source": [
        "# Calculating Daily Excess Return"
      ]
    },
    {
      "cell_type": "code",
      "metadata": {
        "id": "9ORRtGzp1La5"
      },
      "source": [
        "# Join both Tables based on their dates"
      ],
      "execution_count": 26,
      "outputs": []
    },
    {
      "cell_type": "code",
      "metadata": {
        "id": "q0-L0WyW1XJx"
      },
      "source": [
        "temp_data = tbill_data.join(oil_data.set_index('Day', inplace=False), on='DATE')"
      ],
      "execution_count": 27,
      "outputs": []
    },
    {
      "cell_type": "code",
      "metadata": {
        "colab": {
          "base_uri": "https://localhost:8080/",
          "height": 419
        },
        "id": "cJdHUEKb1teA",
        "outputId": "7f35b553-ee36-429f-fdc4-8aecb41e32b3"
      },
      "source": [
        "temp_data"
      ],
      "execution_count": 28,
      "outputs": [
        {
          "output_type": "execute_result",
          "data": {
            "text/html": [
              "<div>\n",
              "<style scoped>\n",
              "    .dataframe tbody tr th:only-of-type {\n",
              "        vertical-align: middle;\n",
              "    }\n",
              "\n",
              "    .dataframe tbody tr th {\n",
              "        vertical-align: top;\n",
              "    }\n",
              "\n",
              "    .dataframe thead th {\n",
              "        text-align: right;\n",
              "    }\n",
              "</style>\n",
              "<table border=\"1\" class=\"dataframe\">\n",
              "  <thead>\n",
              "    <tr style=\"text-align: right;\">\n",
              "      <th></th>\n",
              "      <th>DATE</th>\n",
              "      <th>DTB3</th>\n",
              "      <th>Price</th>\n",
              "    </tr>\n",
              "  </thead>\n",
              "  <tbody>\n",
              "    <tr>\n",
              "      <th>0</th>\n",
              "      <td>2016-08-26</td>\n",
              "      <td>0.33</td>\n",
              "      <td>47.64</td>\n",
              "    </tr>\n",
              "    <tr>\n",
              "      <th>1</th>\n",
              "      <td>2016-08-29</td>\n",
              "      <td>0.33</td>\n",
              "      <td>46.97</td>\n",
              "    </tr>\n",
              "    <tr>\n",
              "      <th>2</th>\n",
              "      <td>2016-08-30</td>\n",
              "      <td>0.33</td>\n",
              "      <td>46.32</td>\n",
              "    </tr>\n",
              "    <tr>\n",
              "      <th>3</th>\n",
              "      <td>2016-08-31</td>\n",
              "      <td>0.33</td>\n",
              "      <td>44.68</td>\n",
              "    </tr>\n",
              "    <tr>\n",
              "      <th>4</th>\n",
              "      <td>2016-09-01</td>\n",
              "      <td>0.33</td>\n",
              "      <td>43.17</td>\n",
              "    </tr>\n",
              "    <tr>\n",
              "      <th>...</th>\n",
              "      <td>...</td>\n",
              "      <td>...</td>\n",
              "      <td>...</td>\n",
              "    </tr>\n",
              "    <tr>\n",
              "      <th>1258</th>\n",
              "      <td>2021-06-24</td>\n",
              "      <td>0.05</td>\n",
              "      <td>73.31</td>\n",
              "    </tr>\n",
              "    <tr>\n",
              "      <th>1259</th>\n",
              "      <td>2021-06-25</td>\n",
              "      <td>0.06</td>\n",
              "      <td>74.21</td>\n",
              "    </tr>\n",
              "    <tr>\n",
              "      <th>1260</th>\n",
              "      <td>2021-06-28</td>\n",
              "      <td>0.05</td>\n",
              "      <td>72.98</td>\n",
              "    </tr>\n",
              "    <tr>\n",
              "      <th>1261</th>\n",
              "      <td>2021-06-29</td>\n",
              "      <td>0.04</td>\n",
              "      <td>73.14</td>\n",
              "    </tr>\n",
              "    <tr>\n",
              "      <th>1262</th>\n",
              "      <td>2021-06-30</td>\n",
              "      <td>0.05</td>\n",
              "      <td>73.52</td>\n",
              "    </tr>\n",
              "  </tbody>\n",
              "</table>\n",
              "<p>1263 rows × 3 columns</p>\n",
              "</div>"
            ],
            "text/plain": [
              "           DATE  DTB3  Price\n",
              "0    2016-08-26  0.33  47.64\n",
              "1    2016-08-29  0.33  46.97\n",
              "2    2016-08-30  0.33  46.32\n",
              "3    2016-08-31  0.33  44.68\n",
              "4    2016-09-01  0.33  43.17\n",
              "...         ...   ...    ...\n",
              "1258 2021-06-24  0.05  73.31\n",
              "1259 2021-06-25  0.06  74.21\n",
              "1260 2021-06-28  0.05  72.98\n",
              "1261 2021-06-29  0.04  73.14\n",
              "1262 2021-06-30  0.05  73.52\n",
              "\n",
              "[1263 rows x 3 columns]"
            ]
          },
          "metadata": {},
          "execution_count": 28
        }
      ]
    },
    {
      "cell_type": "code",
      "metadata": {
        "id": "JFE4fBoncA8C"
      },
      "source": [
        "# Now that the data is clean I can find the difference between each value and create a percentage gain or loss\n",
        "temp_data['pct change DTB3'] = temp_data['DTB3'].pct_change(periods = 1)\n"
      ],
      "execution_count": 29,
      "outputs": []
    },
    {
      "cell_type": "code",
      "metadata": {
        "id": "JEnTc25d2ABM"
      },
      "source": [
        "temp_data['pct change oil'] = temp_data['Price'].pct_change(periods = 1)"
      ],
      "execution_count": 30,
      "outputs": []
    },
    {
      "cell_type": "code",
      "metadata": {
        "colab": {
          "base_uri": "https://localhost:8080/",
          "height": 419
        },
        "id": "sa0Yqe372L9a",
        "outputId": "bb3667e7-0355-496d-b42f-91127390963a"
      },
      "source": [
        "temp_data"
      ],
      "execution_count": 31,
      "outputs": [
        {
          "output_type": "execute_result",
          "data": {
            "text/html": [
              "<div>\n",
              "<style scoped>\n",
              "    .dataframe tbody tr th:only-of-type {\n",
              "        vertical-align: middle;\n",
              "    }\n",
              "\n",
              "    .dataframe tbody tr th {\n",
              "        vertical-align: top;\n",
              "    }\n",
              "\n",
              "    .dataframe thead th {\n",
              "        text-align: right;\n",
              "    }\n",
              "</style>\n",
              "<table border=\"1\" class=\"dataframe\">\n",
              "  <thead>\n",
              "    <tr style=\"text-align: right;\">\n",
              "      <th></th>\n",
              "      <th>DATE</th>\n",
              "      <th>DTB3</th>\n",
              "      <th>Price</th>\n",
              "      <th>pct change DTB3</th>\n",
              "      <th>pct change oil</th>\n",
              "    </tr>\n",
              "  </thead>\n",
              "  <tbody>\n",
              "    <tr>\n",
              "      <th>0</th>\n",
              "      <td>2016-08-26</td>\n",
              "      <td>0.33</td>\n",
              "      <td>47.64</td>\n",
              "      <td>NaN</td>\n",
              "      <td>NaN</td>\n",
              "    </tr>\n",
              "    <tr>\n",
              "      <th>1</th>\n",
              "      <td>2016-08-29</td>\n",
              "      <td>0.33</td>\n",
              "      <td>46.97</td>\n",
              "      <td>0.000000</td>\n",
              "      <td>-0.014064</td>\n",
              "    </tr>\n",
              "    <tr>\n",
              "      <th>2</th>\n",
              "      <td>2016-08-30</td>\n",
              "      <td>0.33</td>\n",
              "      <td>46.32</td>\n",
              "      <td>0.000000</td>\n",
              "      <td>-0.013839</td>\n",
              "    </tr>\n",
              "    <tr>\n",
              "      <th>3</th>\n",
              "      <td>2016-08-31</td>\n",
              "      <td>0.33</td>\n",
              "      <td>44.68</td>\n",
              "      <td>0.000000</td>\n",
              "      <td>-0.035406</td>\n",
              "    </tr>\n",
              "    <tr>\n",
              "      <th>4</th>\n",
              "      <td>2016-09-01</td>\n",
              "      <td>0.33</td>\n",
              "      <td>43.17</td>\n",
              "      <td>0.000000</td>\n",
              "      <td>-0.033796</td>\n",
              "    </tr>\n",
              "    <tr>\n",
              "      <th>...</th>\n",
              "      <td>...</td>\n",
              "      <td>...</td>\n",
              "      <td>...</td>\n",
              "      <td>...</td>\n",
              "      <td>...</td>\n",
              "    </tr>\n",
              "    <tr>\n",
              "      <th>1258</th>\n",
              "      <td>2021-06-24</td>\n",
              "      <td>0.05</td>\n",
              "      <td>73.31</td>\n",
              "      <td>0.000000</td>\n",
              "      <td>0.002736</td>\n",
              "    </tr>\n",
              "    <tr>\n",
              "      <th>1259</th>\n",
              "      <td>2021-06-25</td>\n",
              "      <td>0.06</td>\n",
              "      <td>74.21</td>\n",
              "      <td>0.200000</td>\n",
              "      <td>0.012277</td>\n",
              "    </tr>\n",
              "    <tr>\n",
              "      <th>1260</th>\n",
              "      <td>2021-06-28</td>\n",
              "      <td>0.05</td>\n",
              "      <td>72.98</td>\n",
              "      <td>-0.166667</td>\n",
              "      <td>-0.016575</td>\n",
              "    </tr>\n",
              "    <tr>\n",
              "      <th>1261</th>\n",
              "      <td>2021-06-29</td>\n",
              "      <td>0.04</td>\n",
              "      <td>73.14</td>\n",
              "      <td>-0.200000</td>\n",
              "      <td>0.002192</td>\n",
              "    </tr>\n",
              "    <tr>\n",
              "      <th>1262</th>\n",
              "      <td>2021-06-30</td>\n",
              "      <td>0.05</td>\n",
              "      <td>73.52</td>\n",
              "      <td>0.250000</td>\n",
              "      <td>0.005196</td>\n",
              "    </tr>\n",
              "  </tbody>\n",
              "</table>\n",
              "<p>1263 rows × 5 columns</p>\n",
              "</div>"
            ],
            "text/plain": [
              "           DATE  DTB3  Price  pct change DTB3  pct change oil\n",
              "0    2016-08-26  0.33  47.64              NaN             NaN\n",
              "1    2016-08-29  0.33  46.97         0.000000       -0.014064\n",
              "2    2016-08-30  0.33  46.32         0.000000       -0.013839\n",
              "3    2016-08-31  0.33  44.68         0.000000       -0.035406\n",
              "4    2016-09-01  0.33  43.17         0.000000       -0.033796\n",
              "...         ...   ...    ...              ...             ...\n",
              "1258 2021-06-24  0.05  73.31         0.000000        0.002736\n",
              "1259 2021-06-25  0.06  74.21         0.200000        0.012277\n",
              "1260 2021-06-28  0.05  72.98        -0.166667       -0.016575\n",
              "1261 2021-06-29  0.04  73.14        -0.200000        0.002192\n",
              "1262 2021-06-30  0.05  73.52         0.250000        0.005196\n",
              "\n",
              "[1263 rows x 5 columns]"
            ]
          },
          "metadata": {},
          "execution_count": 31
        }
      ]
    },
    {
      "cell_type": "code",
      "metadata": {
        "id": "4jxyI-R03lI2"
      },
      "source": [
        "# Drops all the NaN \n",
        "temp_data = temp_data.dropna()"
      ],
      "execution_count": 32,
      "outputs": []
    },
    {
      "cell_type": "code",
      "metadata": {
        "id": "eVyf-ZRP2S2l"
      },
      "source": [
        "# Calculating the Excess Return\n",
        "temp_data['Daily Excess Return'] = temp_data['pct change DTB3'] - temp_data['pct change oil']"
      ],
      "execution_count": null,
      "outputs": []
    },
    {
      "cell_type": "code",
      "metadata": {
        "colab": {
          "base_uri": "https://localhost:8080/",
          "height": 419
        },
        "id": "QIyP3R-D44NH",
        "outputId": "e3e483e2-97ac-4eea-b62d-26a0cce1f3e4"
      },
      "source": [
        "temp_data"
      ],
      "execution_count": 35,
      "outputs": [
        {
          "output_type": "execute_result",
          "data": {
            "text/html": [
              "<div>\n",
              "<style scoped>\n",
              "    .dataframe tbody tr th:only-of-type {\n",
              "        vertical-align: middle;\n",
              "    }\n",
              "\n",
              "    .dataframe tbody tr th {\n",
              "        vertical-align: top;\n",
              "    }\n",
              "\n",
              "    .dataframe thead th {\n",
              "        text-align: right;\n",
              "    }\n",
              "</style>\n",
              "<table border=\"1\" class=\"dataframe\">\n",
              "  <thead>\n",
              "    <tr style=\"text-align: right;\">\n",
              "      <th></th>\n",
              "      <th>DATE</th>\n",
              "      <th>DTB3</th>\n",
              "      <th>Price</th>\n",
              "      <th>pct change DTB3</th>\n",
              "      <th>pct change oil</th>\n",
              "      <th>Daily Excess Return</th>\n",
              "    </tr>\n",
              "  </thead>\n",
              "  <tbody>\n",
              "    <tr>\n",
              "      <th>1</th>\n",
              "      <td>2016-08-29</td>\n",
              "      <td>0.33</td>\n",
              "      <td>46.97</td>\n",
              "      <td>0.000000</td>\n",
              "      <td>-0.014064</td>\n",
              "      <td>0.014064</td>\n",
              "    </tr>\n",
              "    <tr>\n",
              "      <th>2</th>\n",
              "      <td>2016-08-30</td>\n",
              "      <td>0.33</td>\n",
              "      <td>46.32</td>\n",
              "      <td>0.000000</td>\n",
              "      <td>-0.013839</td>\n",
              "      <td>0.013839</td>\n",
              "    </tr>\n",
              "    <tr>\n",
              "      <th>3</th>\n",
              "      <td>2016-08-31</td>\n",
              "      <td>0.33</td>\n",
              "      <td>44.68</td>\n",
              "      <td>0.000000</td>\n",
              "      <td>-0.035406</td>\n",
              "      <td>0.035406</td>\n",
              "    </tr>\n",
              "    <tr>\n",
              "      <th>4</th>\n",
              "      <td>2016-09-01</td>\n",
              "      <td>0.33</td>\n",
              "      <td>43.17</td>\n",
              "      <td>0.000000</td>\n",
              "      <td>-0.033796</td>\n",
              "      <td>0.033796</td>\n",
              "    </tr>\n",
              "    <tr>\n",
              "      <th>5</th>\n",
              "      <td>2016-09-02</td>\n",
              "      <td>0.32</td>\n",
              "      <td>44.39</td>\n",
              "      <td>-0.030303</td>\n",
              "      <td>0.028260</td>\n",
              "      <td>-0.058563</td>\n",
              "    </tr>\n",
              "    <tr>\n",
              "      <th>...</th>\n",
              "      <td>...</td>\n",
              "      <td>...</td>\n",
              "      <td>...</td>\n",
              "      <td>...</td>\n",
              "      <td>...</td>\n",
              "      <td>...</td>\n",
              "    </tr>\n",
              "    <tr>\n",
              "      <th>1258</th>\n",
              "      <td>2021-06-24</td>\n",
              "      <td>0.05</td>\n",
              "      <td>73.31</td>\n",
              "      <td>0.000000</td>\n",
              "      <td>0.002736</td>\n",
              "      <td>-0.002736</td>\n",
              "    </tr>\n",
              "    <tr>\n",
              "      <th>1259</th>\n",
              "      <td>2021-06-25</td>\n",
              "      <td>0.06</td>\n",
              "      <td>74.21</td>\n",
              "      <td>0.200000</td>\n",
              "      <td>0.012277</td>\n",
              "      <td>0.187723</td>\n",
              "    </tr>\n",
              "    <tr>\n",
              "      <th>1260</th>\n",
              "      <td>2021-06-28</td>\n",
              "      <td>0.05</td>\n",
              "      <td>72.98</td>\n",
              "      <td>-0.166667</td>\n",
              "      <td>-0.016575</td>\n",
              "      <td>-0.150092</td>\n",
              "    </tr>\n",
              "    <tr>\n",
              "      <th>1261</th>\n",
              "      <td>2021-06-29</td>\n",
              "      <td>0.04</td>\n",
              "      <td>73.14</td>\n",
              "      <td>-0.200000</td>\n",
              "      <td>0.002192</td>\n",
              "      <td>-0.202192</td>\n",
              "    </tr>\n",
              "    <tr>\n",
              "      <th>1262</th>\n",
              "      <td>2021-06-30</td>\n",
              "      <td>0.05</td>\n",
              "      <td>73.52</td>\n",
              "      <td>0.250000</td>\n",
              "      <td>0.005196</td>\n",
              "      <td>0.244804</td>\n",
              "    </tr>\n",
              "  </tbody>\n",
              "</table>\n",
              "<p>1211 rows × 6 columns</p>\n",
              "</div>"
            ],
            "text/plain": [
              "           DATE  DTB3  ...  pct change oil  Daily Excess Return\n",
              "1    2016-08-29  0.33  ...       -0.014064             0.014064\n",
              "2    2016-08-30  0.33  ...       -0.013839             0.013839\n",
              "3    2016-08-31  0.33  ...       -0.035406             0.035406\n",
              "4    2016-09-01  0.33  ...       -0.033796             0.033796\n",
              "5    2016-09-02  0.32  ...        0.028260            -0.058563\n",
              "...         ...   ...  ...             ...                  ...\n",
              "1258 2021-06-24  0.05  ...        0.002736            -0.002736\n",
              "1259 2021-06-25  0.06  ...        0.012277             0.187723\n",
              "1260 2021-06-28  0.05  ...       -0.016575            -0.150092\n",
              "1261 2021-06-29  0.04  ...        0.002192            -0.202192\n",
              "1262 2021-06-30  0.05  ...        0.005196             0.244804\n",
              "\n",
              "[1211 rows x 6 columns]"
            ]
          },
          "metadata": {},
          "execution_count": 35
        }
      ]
    },
    {
      "cell_type": "markdown",
      "metadata": {
        "id": "lsQorY-8MJSa"
      },
      "source": [
        "# Calculating Log Cumulative Excess Return"
      ]
    },
    {
      "cell_type": "code",
      "metadata": {
        "id": "E9nGhg0uMQxo"
      },
      "source": [
        "# I will make a new 'temp' table to calculate the Log Excess Return\n",
        "temp_data = tbill_data.join(oil_data.set_index('Day', inplace=False), on='DATE')"
      ],
      "execution_count": 153,
      "outputs": []
    },
    {
      "cell_type": "code",
      "metadata": {
        "colab": {
          "base_uri": "https://localhost:8080/",
          "height": 419
        },
        "id": "funSvFpTMad9",
        "outputId": "0aba8ccb-d598-4212-f475-3398f69fa4cf"
      },
      "source": [
        "temp_data"
      ],
      "execution_count": 154,
      "outputs": [
        {
          "output_type": "execute_result",
          "data": {
            "text/html": [
              "<div>\n",
              "<style scoped>\n",
              "    .dataframe tbody tr th:only-of-type {\n",
              "        vertical-align: middle;\n",
              "    }\n",
              "\n",
              "    .dataframe tbody tr th {\n",
              "        vertical-align: top;\n",
              "    }\n",
              "\n",
              "    .dataframe thead th {\n",
              "        text-align: right;\n",
              "    }\n",
              "</style>\n",
              "<table border=\"1\" class=\"dataframe\">\n",
              "  <thead>\n",
              "    <tr style=\"text-align: right;\">\n",
              "      <th></th>\n",
              "      <th>DATE</th>\n",
              "      <th>DTB3</th>\n",
              "      <th>Price</th>\n",
              "    </tr>\n",
              "  </thead>\n",
              "  <tbody>\n",
              "    <tr>\n",
              "      <th>0</th>\n",
              "      <td>2016-08-26</td>\n",
              "      <td>0.33</td>\n",
              "      <td>47.64</td>\n",
              "    </tr>\n",
              "    <tr>\n",
              "      <th>1</th>\n",
              "      <td>2016-08-29</td>\n",
              "      <td>0.33</td>\n",
              "      <td>46.97</td>\n",
              "    </tr>\n",
              "    <tr>\n",
              "      <th>2</th>\n",
              "      <td>2016-08-30</td>\n",
              "      <td>0.33</td>\n",
              "      <td>46.32</td>\n",
              "    </tr>\n",
              "    <tr>\n",
              "      <th>3</th>\n",
              "      <td>2016-08-31</td>\n",
              "      <td>0.33</td>\n",
              "      <td>44.68</td>\n",
              "    </tr>\n",
              "    <tr>\n",
              "      <th>4</th>\n",
              "      <td>2016-09-01</td>\n",
              "      <td>0.33</td>\n",
              "      <td>43.17</td>\n",
              "    </tr>\n",
              "    <tr>\n",
              "      <th>...</th>\n",
              "      <td>...</td>\n",
              "      <td>...</td>\n",
              "      <td>...</td>\n",
              "    </tr>\n",
              "    <tr>\n",
              "      <th>1258</th>\n",
              "      <td>2021-06-24</td>\n",
              "      <td>0.05</td>\n",
              "      <td>73.31</td>\n",
              "    </tr>\n",
              "    <tr>\n",
              "      <th>1259</th>\n",
              "      <td>2021-06-25</td>\n",
              "      <td>0.06</td>\n",
              "      <td>74.21</td>\n",
              "    </tr>\n",
              "    <tr>\n",
              "      <th>1260</th>\n",
              "      <td>2021-06-28</td>\n",
              "      <td>0.05</td>\n",
              "      <td>72.98</td>\n",
              "    </tr>\n",
              "    <tr>\n",
              "      <th>1261</th>\n",
              "      <td>2021-06-29</td>\n",
              "      <td>0.04</td>\n",
              "      <td>73.14</td>\n",
              "    </tr>\n",
              "    <tr>\n",
              "      <th>1262</th>\n",
              "      <td>2021-06-30</td>\n",
              "      <td>0.05</td>\n",
              "      <td>73.52</td>\n",
              "    </tr>\n",
              "  </tbody>\n",
              "</table>\n",
              "<p>1263 rows × 3 columns</p>\n",
              "</div>"
            ],
            "text/plain": [
              "           DATE  DTB3  Price\n",
              "0    2016-08-26  0.33  47.64\n",
              "1    2016-08-29  0.33  46.97\n",
              "2    2016-08-30  0.33  46.32\n",
              "3    2016-08-31  0.33  44.68\n",
              "4    2016-09-01  0.33  43.17\n",
              "...         ...   ...    ...\n",
              "1258 2021-06-24  0.05  73.31\n",
              "1259 2021-06-25  0.06  74.21\n",
              "1260 2021-06-28  0.05  72.98\n",
              "1261 2021-06-29  0.04  73.14\n",
              "1262 2021-06-30  0.05  73.52\n",
              "\n",
              "[1263 rows x 3 columns]"
            ]
          },
          "metadata": {},
          "execution_count": 154
        }
      ]
    },
    {
      "cell_type": "code",
      "metadata": {
        "id": "gzmbTMxegkCa"
      },
      "source": [
        "# Finding the Log Cumulative is fairly simple; by taking the last value of DTB3 and the first value of DTB3\n",
        "# then subtracting the Log Cumulative of Oil Price to get the Log Cumulative Excess Return"
      ],
      "execution_count": 148,
      "outputs": []
    },
    {
      "cell_type": "code",
      "metadata": {
        "id": "3Lultcakg1zi"
      },
      "source": [
        "x = mt.log(temp_data['DTB3'].iloc[-1]/temp_data['DTB3'].iloc[0])"
      ],
      "execution_count": 162,
      "outputs": []
    },
    {
      "cell_type": "code",
      "metadata": {
        "id": "nfouTETVjAbB"
      },
      "source": [
        "y = mt.log(temp_data['Price'].iloc[-1]/temp_data['Price'].iloc[0])"
      ],
      "execution_count": 163,
      "outputs": []
    },
    {
      "cell_type": "code",
      "metadata": {
        "colab": {
          "base_uri": "https://localhost:8080/"
        },
        "id": "7_iTDiF5jG2c",
        "outputId": "5a91cd1f-9060-4876-a79a-b89f215be180"
      },
      "source": [
        "print(x-y)"
      ],
      "execution_count": 164,
      "outputs": [
        {
          "output_type": "stream",
          "name": "stdout",
          "text": [
            "-2.320954382592712\n"
          ]
        }
      ]
    }
  ]
}