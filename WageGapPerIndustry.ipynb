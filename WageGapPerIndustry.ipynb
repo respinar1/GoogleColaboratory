{
  "nbformat": 4,
  "nbformat_minor": 0,
  "metadata": {
    "colab": {
      "name": "WageGapPerIndustry.ipynb",
      "provenance": [],
      "collapsed_sections": [],
      "authorship_tag": "ABX9TyMEx5qNy5bJJSk7KyIBCaz4",
      "include_colab_link": true
    },
    "kernelspec": {
      "name": "python3",
      "display_name": "Python 3"
    },
    "language_info": {
      "name": "python"
    }
  },
  "cells": [
    {
      "cell_type": "markdown",
      "metadata": {
        "id": "view-in-github",
        "colab_type": "text"
      },
      "source": [
        "<a href=\"https://colab.research.google.com/github/respinar1/GoogleColaboratory/blob/main/WageGapPerIndustry.ipynb\" target=\"_parent\"><img src=\"https://colab.research.google.com/assets/colab-badge.svg\" alt=\"Open In Colab\"/></a>"
      ]
    },
    {
      "cell_type": "markdown",
      "metadata": {
        "id": "7sCraPc0W72x"
      },
      "source": [
        "Import Necessary Files:"
      ]
    },
    {
      "cell_type": "code",
      "metadata": {
        "id": "d5LcFZNHPC6J"
      },
      "source": [
        "import pandas as pd\n",
        "import numpy as np\n",
        "import seaborn as sns\n",
        "import io\n",
        "import matplotlib.pyplot as plt"
      ],
      "execution_count": 91,
      "outputs": []
    },
    {
      "cell_type": "markdown",
      "metadata": {
        "id": "ZTLctJE8W_Ya"
      },
      "source": [
        "Get CVS files from local drive:"
      ]
    },
    {
      "cell_type": "code",
      "metadata": {
        "id": "jqKf56ykPvOa",
        "colab": {
          "resources": {
            "http://localhost:8080/nbextensions/google.colab/files.js": {
              "data": "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",
              "ok": true,
              "headers": [
                [
                  "content-type",
                  "application/javascript"
                ]
              ],
              "status": 200,
              "status_text": ""
            }
          },
          "base_uri": "https://localhost:8080/",
          "height": 72
        },
        "outputId": "565df0af-374f-469d-adb6-ec0674b4e044"
      },
      "source": [
        "from google.colab import files\n",
        "uploaded = files.upload()"
      ],
      "execution_count": 3,
      "outputs": [
        {
          "output_type": "display_data",
          "data": {
            "text/html": [
              "\n",
              "     <input type=\"file\" id=\"files-fb072414-63ad-4e68-a33e-9fa26ac21c02\" name=\"files[]\" multiple disabled\n",
              "        style=\"border:none\" />\n",
              "     <output id=\"result-fb072414-63ad-4e68-a33e-9fa26ac21c02\">\n",
              "      Upload widget is only available when the cell has been executed in the\n",
              "      current browser session. Please rerun this cell to enable.\n",
              "      </output>\n",
              "      <script src=\"/nbextensions/google.colab/files.js\"></script> "
            ],
            "text/plain": [
              "<IPython.core.display.HTML object>"
            ]
          },
          "metadata": {
            "tags": []
          }
        },
        {
          "output_type": "stream",
          "text": [
            "Saving inc_occ_gender.csv to inc_occ_gender.csv\n"
          ],
          "name": "stdout"
        }
      ]
    },
    {
      "cell_type": "markdown",
      "metadata": {
        "id": "WwPZ7BxGXFYY"
      },
      "source": [
        "Convert CVS into Python DataFrame:"
      ]
    },
    {
      "cell_type": "code",
      "metadata": {
        "id": "GRA6wkr4Qf-Q",
        "colab": {
          "base_uri": "https://localhost:8080/",
          "height": 450
        },
        "outputId": "5e9da44d-e830-45a6-a5a0-17c3ad2da5ac"
      },
      "source": [
        "DataSet = pd.read_csv(io.BytesIO(uploaded['inc_occ_gender.csv']), index_col='Occupation')\n",
        "DataSet"
      ],
      "execution_count": 55,
      "outputs": [
        {
          "output_type": "execute_result",
          "data": {
            "text/html": [
              "<div>\n",
              "<style scoped>\n",
              "    .dataframe tbody tr th:only-of-type {\n",
              "        vertical-align: middle;\n",
              "    }\n",
              "\n",
              "    .dataframe tbody tr th {\n",
              "        vertical-align: top;\n",
              "    }\n",
              "\n",
              "    .dataframe thead th {\n",
              "        text-align: right;\n",
              "    }\n",
              "</style>\n",
              "<table border=\"1\" class=\"dataframe\">\n",
              "  <thead>\n",
              "    <tr style=\"text-align: right;\">\n",
              "      <th></th>\n",
              "      <th>All_workers</th>\n",
              "      <th>All_weekly</th>\n",
              "      <th>M_workers</th>\n",
              "      <th>M_weekly</th>\n",
              "      <th>F_workers</th>\n",
              "      <th>F_weekly</th>\n",
              "    </tr>\n",
              "    <tr>\n",
              "      <th>Occupation</th>\n",
              "      <th></th>\n",
              "      <th></th>\n",
              "      <th></th>\n",
              "      <th></th>\n",
              "      <th></th>\n",
              "      <th></th>\n",
              "    </tr>\n",
              "  </thead>\n",
              "  <tbody>\n",
              "    <tr>\n",
              "      <th>ALL OCCUPATIONS</th>\n",
              "      <td>109080</td>\n",
              "      <td>809</td>\n",
              "      <td>60746</td>\n",
              "      <td>895</td>\n",
              "      <td>48334</td>\n",
              "      <td>726</td>\n",
              "    </tr>\n",
              "    <tr>\n",
              "      <th>MANAGEMENT</th>\n",
              "      <td>12480</td>\n",
              "      <td>1351</td>\n",
              "      <td>7332</td>\n",
              "      <td>1486</td>\n",
              "      <td>5147</td>\n",
              "      <td>1139</td>\n",
              "    </tr>\n",
              "    <tr>\n",
              "      <th>Chief executives</th>\n",
              "      <td>1046</td>\n",
              "      <td>2041</td>\n",
              "      <td>763</td>\n",
              "      <td>2251</td>\n",
              "      <td>283</td>\n",
              "      <td>1836</td>\n",
              "    </tr>\n",
              "    <tr>\n",
              "      <th>General and operations managers</th>\n",
              "      <td>823</td>\n",
              "      <td>1260</td>\n",
              "      <td>621</td>\n",
              "      <td>1347</td>\n",
              "      <td>202</td>\n",
              "      <td>1002</td>\n",
              "    </tr>\n",
              "    <tr>\n",
              "      <th>Legislators</th>\n",
              "      <td>8</td>\n",
              "      <td>Na</td>\n",
              "      <td>5</td>\n",
              "      <td>Na</td>\n",
              "      <td>4</td>\n",
              "      <td>Na</td>\n",
              "    </tr>\n",
              "    <tr>\n",
              "      <th>...</th>\n",
              "      <td>...</td>\n",
              "      <td>...</td>\n",
              "      <td>...</td>\n",
              "      <td>...</td>\n",
              "      <td>...</td>\n",
              "      <td>...</td>\n",
              "    </tr>\n",
              "    <tr>\n",
              "      <th>Pumping station operators</th>\n",
              "      <td>18</td>\n",
              "      <td>Na</td>\n",
              "      <td>17</td>\n",
              "      <td>Na</td>\n",
              "      <td>1</td>\n",
              "      <td>Na</td>\n",
              "    </tr>\n",
              "    <tr>\n",
              "      <th>Refuse and recyclable material collectors</th>\n",
              "      <td>72</td>\n",
              "      <td>501</td>\n",
              "      <td>66</td>\n",
              "      <td>496</td>\n",
              "      <td>6</td>\n",
              "      <td>Na</td>\n",
              "    </tr>\n",
              "    <tr>\n",
              "      <th>Mine shuttle car operators</th>\n",
              "      <td>0</td>\n",
              "      <td>Na</td>\n",
              "      <td>0</td>\n",
              "      <td>Na</td>\n",
              "      <td>0</td>\n",
              "      <td>Na</td>\n",
              "    </tr>\n",
              "    <tr>\n",
              "      <th>Tank car, truck, and ship loaders</th>\n",
              "      <td>6</td>\n",
              "      <td>Na</td>\n",
              "      <td>6</td>\n",
              "      <td>Na</td>\n",
              "      <td>0</td>\n",
              "      <td>Na</td>\n",
              "    </tr>\n",
              "    <tr>\n",
              "      <th>Material moving workers, all other</th>\n",
              "      <td>37</td>\n",
              "      <td>Na</td>\n",
              "      <td>32</td>\n",
              "      <td>Na</td>\n",
              "      <td>5</td>\n",
              "      <td>Na</td>\n",
              "    </tr>\n",
              "  </tbody>\n",
              "</table>\n",
              "<p>558 rows × 6 columns</p>\n",
              "</div>"
            ],
            "text/plain": [
              "                                           All_workers  ... F_weekly\n",
              "Occupation                                              ...         \n",
              "ALL OCCUPATIONS                                 109080  ...      726\n",
              "MANAGEMENT                                       12480  ...     1139\n",
              "Chief executives                                  1046  ...     1836\n",
              "General and operations managers                    823  ...     1002\n",
              "Legislators                                          8  ...       Na\n",
              "...                                                ...  ...      ...\n",
              "Pumping station operators                           18  ...       Na\n",
              "Refuse and recyclable material collectors           72  ...       Na\n",
              "Mine shuttle car operators                           0  ...       Na\n",
              "Tank car, truck, and ship loaders                    6  ...       Na\n",
              "Material moving workers, all other                  37  ...       Na\n",
              "\n",
              "[558 rows x 6 columns]"
            ]
          },
          "metadata": {
            "tags": []
          },
          "execution_count": 55
        }
      ]
    },
    {
      "cell_type": "code",
      "metadata": {
        "id": "fZyngnEuR6pE"
      },
      "source": [
        "DataSet = DataSet.drop('ALL OCCUPATIONS')"
      ],
      "execution_count": 68,
      "outputs": []
    },
    {
      "cell_type": "markdown",
      "metadata": {
        "id": "5Dz8BNCvyzht"
      },
      "source": [
        "Replaces all 'Na' with zeroes (string)"
      ]
    },
    {
      "cell_type": "code",
      "metadata": {
        "id": "b_ieihFcwNfG",
        "colab": {
          "base_uri": "https://localhost:8080/",
          "height": 450
        },
        "outputId": "2cb1a491-e77b-4871-f197-a20e0cfe5fb5"
      },
      "source": [
        "for x in DataSet:\n",
        "  for y in DataSet[x]:\n",
        "    if y == 'Na':\n",
        "      DataSet[x].replace({'Na': '0'}, inplace=True)\n",
        "\n",
        "DataSet"
      ],
      "execution_count": 69,
      "outputs": [
        {
          "output_type": "execute_result",
          "data": {
            "text/html": [
              "<div>\n",
              "<style scoped>\n",
              "    .dataframe tbody tr th:only-of-type {\n",
              "        vertical-align: middle;\n",
              "    }\n",
              "\n",
              "    .dataframe tbody tr th {\n",
              "        vertical-align: top;\n",
              "    }\n",
              "\n",
              "    .dataframe thead th {\n",
              "        text-align: right;\n",
              "    }\n",
              "</style>\n",
              "<table border=\"1\" class=\"dataframe\">\n",
              "  <thead>\n",
              "    <tr style=\"text-align: right;\">\n",
              "      <th></th>\n",
              "      <th>All_workers</th>\n",
              "      <th>All_weekly</th>\n",
              "      <th>M_workers</th>\n",
              "      <th>M_weekly</th>\n",
              "      <th>F_workers</th>\n",
              "      <th>F_weekly</th>\n",
              "      <th>WageGap</th>\n",
              "    </tr>\n",
              "    <tr>\n",
              "      <th>Occupation</th>\n",
              "      <th></th>\n",
              "      <th></th>\n",
              "      <th></th>\n",
              "      <th></th>\n",
              "      <th></th>\n",
              "      <th></th>\n",
              "      <th></th>\n",
              "    </tr>\n",
              "  </thead>\n",
              "  <tbody>\n",
              "    <tr>\n",
              "      <th>MANAGEMENT</th>\n",
              "      <td>12480</td>\n",
              "      <td>1351</td>\n",
              "      <td>7332</td>\n",
              "      <td>1486</td>\n",
              "      <td>5147</td>\n",
              "      <td>1139</td>\n",
              "      <td>-25.68</td>\n",
              "    </tr>\n",
              "    <tr>\n",
              "      <th>Chief executives</th>\n",
              "      <td>1046</td>\n",
              "      <td>2041</td>\n",
              "      <td>763</td>\n",
              "      <td>2251</td>\n",
              "      <td>283</td>\n",
              "      <td>1836</td>\n",
              "      <td>-20.33</td>\n",
              "    </tr>\n",
              "    <tr>\n",
              "      <th>General and operations managers</th>\n",
              "      <td>823</td>\n",
              "      <td>1260</td>\n",
              "      <td>621</td>\n",
              "      <td>1347</td>\n",
              "      <td>202</td>\n",
              "      <td>1002</td>\n",
              "      <td>-27.38</td>\n",
              "    </tr>\n",
              "    <tr>\n",
              "      <th>Marketing and sales managers</th>\n",
              "      <td>948</td>\n",
              "      <td>1462</td>\n",
              "      <td>570</td>\n",
              "      <td>1603</td>\n",
              "      <td>378</td>\n",
              "      <td>1258</td>\n",
              "      <td>-23.60</td>\n",
              "    </tr>\n",
              "    <tr>\n",
              "      <th>Administrative services managers</th>\n",
              "      <td>170</td>\n",
              "      <td>1191</td>\n",
              "      <td>96</td>\n",
              "      <td>1451</td>\n",
              "      <td>73</td>\n",
              "      <td>981</td>\n",
              "      <td>-39.46</td>\n",
              "    </tr>\n",
              "    <tr>\n",
              "      <th>...</th>\n",
              "      <td>...</td>\n",
              "      <td>...</td>\n",
              "      <td>...</td>\n",
              "      <td>...</td>\n",
              "      <td>...</td>\n",
              "      <td>...</td>\n",
              "      <td>...</td>\n",
              "    </tr>\n",
              "    <tr>\n",
              "      <th>TRANSPORTATION</th>\n",
              "      <td>6953</td>\n",
              "      <td>646</td>\n",
              "      <td>5998</td>\n",
              "      <td>679</td>\n",
              "      <td>955</td>\n",
              "      <td>494</td>\n",
              "      <td>-28.64</td>\n",
              "    </tr>\n",
              "    <tr>\n",
              "      <th>Bus drivers</th>\n",
              "      <td>323</td>\n",
              "      <td>615</td>\n",
              "      <td>184</td>\n",
              "      <td>681</td>\n",
              "      <td>138</td>\n",
              "      <td>572</td>\n",
              "      <td>-17.72</td>\n",
              "    </tr>\n",
              "    <tr>\n",
              "      <th>Driver/sales workers and truck drivers</th>\n",
              "      <td>2687</td>\n",
              "      <td>747</td>\n",
              "      <td>2582</td>\n",
              "      <td>751</td>\n",
              "      <td>105</td>\n",
              "      <td>632</td>\n",
              "      <td>-15.93</td>\n",
              "    </tr>\n",
              "    <tr>\n",
              "      <th>Laborers and freight, stock, and material movers, hand</th>\n",
              "      <td>1433</td>\n",
              "      <td>526</td>\n",
              "      <td>1214</td>\n",
              "      <td>547</td>\n",
              "      <td>219</td>\n",
              "      <td>455</td>\n",
              "      <td>-17.49</td>\n",
              "    </tr>\n",
              "    <tr>\n",
              "      <th>Packers and packagers, hand</th>\n",
              "      <td>385</td>\n",
              "      <td>438</td>\n",
              "      <td>158</td>\n",
              "      <td>462</td>\n",
              "      <td>227</td>\n",
              "      <td>424</td>\n",
              "      <td>-8.68</td>\n",
              "    </tr>\n",
              "  </tbody>\n",
              "</table>\n",
              "<p>141 rows × 7 columns</p>\n",
              "</div>"
            ],
            "text/plain": [
              "                                                    All_workers  ...  WageGap\n",
              "Occupation                                                       ...         \n",
              "MANAGEMENT                                                12480  ...   -25.68\n",
              "Chief executives                                           1046  ...   -20.33\n",
              "General and operations managers                             823  ...   -27.38\n",
              "Marketing and sales managers                                948  ...   -23.60\n",
              "Administrative services managers                            170  ...   -39.46\n",
              "...                                                         ...  ...      ...\n",
              "TRANSPORTATION                                             6953  ...   -28.64\n",
              "Bus drivers                                                 323  ...   -17.72\n",
              "Driver/sales workers and truck drivers                     2687  ...   -15.93\n",
              "Laborers and freight, stock, and material mover...         1433  ...   -17.49\n",
              "Packers and packagers, hand                                 385  ...    -8.68\n",
              "\n",
              "[141 rows x 7 columns]"
            ]
          },
          "metadata": {
            "tags": []
          },
          "execution_count": 69
        }
      ]
    },
    {
      "cell_type": "markdown",
      "metadata": {
        "id": "BfwTG2X52yyO"
      },
      "source": [
        "Convert the String numbers in Integer numbers"
      ]
    },
    {
      "cell_type": "code",
      "metadata": {
        "colab": {
          "base_uri": "https://localhost:8080/",
          "height": 450
        },
        "id": "YG1BycsHzQ1K",
        "outputId": "36d78c77-a195-4f31-bb31-0c2e4c797acb"
      },
      "source": [
        "for x in DataSet:\n",
        "  if x == 'Occupation':\n",
        "    continue\n",
        "  else:\n",
        "    DataSet[x] = pd.to_numeric(DataSet[x])\n",
        "\n",
        "DataSet"
      ],
      "execution_count": 70,
      "outputs": [
        {
          "output_type": "execute_result",
          "data": {
            "text/html": [
              "<div>\n",
              "<style scoped>\n",
              "    .dataframe tbody tr th:only-of-type {\n",
              "        vertical-align: middle;\n",
              "    }\n",
              "\n",
              "    .dataframe tbody tr th {\n",
              "        vertical-align: top;\n",
              "    }\n",
              "\n",
              "    .dataframe thead th {\n",
              "        text-align: right;\n",
              "    }\n",
              "</style>\n",
              "<table border=\"1\" class=\"dataframe\">\n",
              "  <thead>\n",
              "    <tr style=\"text-align: right;\">\n",
              "      <th></th>\n",
              "      <th>All_workers</th>\n",
              "      <th>All_weekly</th>\n",
              "      <th>M_workers</th>\n",
              "      <th>M_weekly</th>\n",
              "      <th>F_workers</th>\n",
              "      <th>F_weekly</th>\n",
              "      <th>WageGap</th>\n",
              "    </tr>\n",
              "    <tr>\n",
              "      <th>Occupation</th>\n",
              "      <th></th>\n",
              "      <th></th>\n",
              "      <th></th>\n",
              "      <th></th>\n",
              "      <th></th>\n",
              "      <th></th>\n",
              "      <th></th>\n",
              "    </tr>\n",
              "  </thead>\n",
              "  <tbody>\n",
              "    <tr>\n",
              "      <th>MANAGEMENT</th>\n",
              "      <td>12480</td>\n",
              "      <td>1351</td>\n",
              "      <td>7332</td>\n",
              "      <td>1486</td>\n",
              "      <td>5147</td>\n",
              "      <td>1139</td>\n",
              "      <td>-25.68</td>\n",
              "    </tr>\n",
              "    <tr>\n",
              "      <th>Chief executives</th>\n",
              "      <td>1046</td>\n",
              "      <td>2041</td>\n",
              "      <td>763</td>\n",
              "      <td>2251</td>\n",
              "      <td>283</td>\n",
              "      <td>1836</td>\n",
              "      <td>-20.33</td>\n",
              "    </tr>\n",
              "    <tr>\n",
              "      <th>General and operations managers</th>\n",
              "      <td>823</td>\n",
              "      <td>1260</td>\n",
              "      <td>621</td>\n",
              "      <td>1347</td>\n",
              "      <td>202</td>\n",
              "      <td>1002</td>\n",
              "      <td>-27.38</td>\n",
              "    </tr>\n",
              "    <tr>\n",
              "      <th>Marketing and sales managers</th>\n",
              "      <td>948</td>\n",
              "      <td>1462</td>\n",
              "      <td>570</td>\n",
              "      <td>1603</td>\n",
              "      <td>378</td>\n",
              "      <td>1258</td>\n",
              "      <td>-23.60</td>\n",
              "    </tr>\n",
              "    <tr>\n",
              "      <th>Administrative services managers</th>\n",
              "      <td>170</td>\n",
              "      <td>1191</td>\n",
              "      <td>96</td>\n",
              "      <td>1451</td>\n",
              "      <td>73</td>\n",
              "      <td>981</td>\n",
              "      <td>-39.46</td>\n",
              "    </tr>\n",
              "    <tr>\n",
              "      <th>...</th>\n",
              "      <td>...</td>\n",
              "      <td>...</td>\n",
              "      <td>...</td>\n",
              "      <td>...</td>\n",
              "      <td>...</td>\n",
              "      <td>...</td>\n",
              "      <td>...</td>\n",
              "    </tr>\n",
              "    <tr>\n",
              "      <th>TRANSPORTATION</th>\n",
              "      <td>6953</td>\n",
              "      <td>646</td>\n",
              "      <td>5998</td>\n",
              "      <td>679</td>\n",
              "      <td>955</td>\n",
              "      <td>494</td>\n",
              "      <td>-28.64</td>\n",
              "    </tr>\n",
              "    <tr>\n",
              "      <th>Bus drivers</th>\n",
              "      <td>323</td>\n",
              "      <td>615</td>\n",
              "      <td>184</td>\n",
              "      <td>681</td>\n",
              "      <td>138</td>\n",
              "      <td>572</td>\n",
              "      <td>-17.72</td>\n",
              "    </tr>\n",
              "    <tr>\n",
              "      <th>Driver/sales workers and truck drivers</th>\n",
              "      <td>2687</td>\n",
              "      <td>747</td>\n",
              "      <td>2582</td>\n",
              "      <td>751</td>\n",
              "      <td>105</td>\n",
              "      <td>632</td>\n",
              "      <td>-15.93</td>\n",
              "    </tr>\n",
              "    <tr>\n",
              "      <th>Laborers and freight, stock, and material movers, hand</th>\n",
              "      <td>1433</td>\n",
              "      <td>526</td>\n",
              "      <td>1214</td>\n",
              "      <td>547</td>\n",
              "      <td>219</td>\n",
              "      <td>455</td>\n",
              "      <td>-17.49</td>\n",
              "    </tr>\n",
              "    <tr>\n",
              "      <th>Packers and packagers, hand</th>\n",
              "      <td>385</td>\n",
              "      <td>438</td>\n",
              "      <td>158</td>\n",
              "      <td>462</td>\n",
              "      <td>227</td>\n",
              "      <td>424</td>\n",
              "      <td>-8.68</td>\n",
              "    </tr>\n",
              "  </tbody>\n",
              "</table>\n",
              "<p>141 rows × 7 columns</p>\n",
              "</div>"
            ],
            "text/plain": [
              "                                                    All_workers  ...  WageGap\n",
              "Occupation                                                       ...         \n",
              "MANAGEMENT                                                12480  ...   -25.68\n",
              "Chief executives                                           1046  ...   -20.33\n",
              "General and operations managers                             823  ...   -27.38\n",
              "Marketing and sales managers                                948  ...   -23.60\n",
              "Administrative services managers                            170  ...   -39.46\n",
              "...                                                         ...  ...      ...\n",
              "TRANSPORTATION                                             6953  ...   -28.64\n",
              "Bus drivers                                                 323  ...   -17.72\n",
              "Driver/sales workers and truck drivers                     2687  ...   -15.93\n",
              "Laborers and freight, stock, and material mover...         1433  ...   -17.49\n",
              "Packers and packagers, hand                                 385  ...    -8.68\n",
              "\n",
              "[141 rows x 7 columns]"
            ]
          },
          "metadata": {
            "tags": []
          },
          "execution_count": 70
        }
      ]
    },
    {
      "cell_type": "markdown",
      "metadata": {
        "id": "NF630qEaXLzF"
      },
      "source": [
        "Calculating Wage Gap:\n",
        "\n"
      ]
    },
    {
      "cell_type": "code",
      "metadata": {
        "colab": {
          "base_uri": "https://localhost:8080/",
          "height": 450
        },
        "id": "0mGfJbEQ24Li",
        "outputId": "4048028e-2a02-4859-dc8d-8ba8a82a02e6"
      },
      "source": [
        "WageGap = 100*(DataSet['F_weekly']-DataSet['M_weekly'])/DataSet['All_weekly']\n",
        "DataSet['WageGap'] = WageGap\n",
        "DataSet = DataSet.round({'WageGap': 2})\n",
        "DataSet"
      ],
      "execution_count": 71,
      "outputs": [
        {
          "output_type": "execute_result",
          "data": {
            "text/html": [
              "<div>\n",
              "<style scoped>\n",
              "    .dataframe tbody tr th:only-of-type {\n",
              "        vertical-align: middle;\n",
              "    }\n",
              "\n",
              "    .dataframe tbody tr th {\n",
              "        vertical-align: top;\n",
              "    }\n",
              "\n",
              "    .dataframe thead th {\n",
              "        text-align: right;\n",
              "    }\n",
              "</style>\n",
              "<table border=\"1\" class=\"dataframe\">\n",
              "  <thead>\n",
              "    <tr style=\"text-align: right;\">\n",
              "      <th></th>\n",
              "      <th>All_workers</th>\n",
              "      <th>All_weekly</th>\n",
              "      <th>M_workers</th>\n",
              "      <th>M_weekly</th>\n",
              "      <th>F_workers</th>\n",
              "      <th>F_weekly</th>\n",
              "      <th>WageGap</th>\n",
              "    </tr>\n",
              "    <tr>\n",
              "      <th>Occupation</th>\n",
              "      <th></th>\n",
              "      <th></th>\n",
              "      <th></th>\n",
              "      <th></th>\n",
              "      <th></th>\n",
              "      <th></th>\n",
              "      <th></th>\n",
              "    </tr>\n",
              "  </thead>\n",
              "  <tbody>\n",
              "    <tr>\n",
              "      <th>MANAGEMENT</th>\n",
              "      <td>12480</td>\n",
              "      <td>1351</td>\n",
              "      <td>7332</td>\n",
              "      <td>1486</td>\n",
              "      <td>5147</td>\n",
              "      <td>1139</td>\n",
              "      <td>-25.68</td>\n",
              "    </tr>\n",
              "    <tr>\n",
              "      <th>Chief executives</th>\n",
              "      <td>1046</td>\n",
              "      <td>2041</td>\n",
              "      <td>763</td>\n",
              "      <td>2251</td>\n",
              "      <td>283</td>\n",
              "      <td>1836</td>\n",
              "      <td>-20.33</td>\n",
              "    </tr>\n",
              "    <tr>\n",
              "      <th>General and operations managers</th>\n",
              "      <td>823</td>\n",
              "      <td>1260</td>\n",
              "      <td>621</td>\n",
              "      <td>1347</td>\n",
              "      <td>202</td>\n",
              "      <td>1002</td>\n",
              "      <td>-27.38</td>\n",
              "    </tr>\n",
              "    <tr>\n",
              "      <th>Marketing and sales managers</th>\n",
              "      <td>948</td>\n",
              "      <td>1462</td>\n",
              "      <td>570</td>\n",
              "      <td>1603</td>\n",
              "      <td>378</td>\n",
              "      <td>1258</td>\n",
              "      <td>-23.60</td>\n",
              "    </tr>\n",
              "    <tr>\n",
              "      <th>Administrative services managers</th>\n",
              "      <td>170</td>\n",
              "      <td>1191</td>\n",
              "      <td>96</td>\n",
              "      <td>1451</td>\n",
              "      <td>73</td>\n",
              "      <td>981</td>\n",
              "      <td>-39.46</td>\n",
              "    </tr>\n",
              "    <tr>\n",
              "      <th>...</th>\n",
              "      <td>...</td>\n",
              "      <td>...</td>\n",
              "      <td>...</td>\n",
              "      <td>...</td>\n",
              "      <td>...</td>\n",
              "      <td>...</td>\n",
              "      <td>...</td>\n",
              "    </tr>\n",
              "    <tr>\n",
              "      <th>TRANSPORTATION</th>\n",
              "      <td>6953</td>\n",
              "      <td>646</td>\n",
              "      <td>5998</td>\n",
              "      <td>679</td>\n",
              "      <td>955</td>\n",
              "      <td>494</td>\n",
              "      <td>-28.64</td>\n",
              "    </tr>\n",
              "    <tr>\n",
              "      <th>Bus drivers</th>\n",
              "      <td>323</td>\n",
              "      <td>615</td>\n",
              "      <td>184</td>\n",
              "      <td>681</td>\n",
              "      <td>138</td>\n",
              "      <td>572</td>\n",
              "      <td>-17.72</td>\n",
              "    </tr>\n",
              "    <tr>\n",
              "      <th>Driver/sales workers and truck drivers</th>\n",
              "      <td>2687</td>\n",
              "      <td>747</td>\n",
              "      <td>2582</td>\n",
              "      <td>751</td>\n",
              "      <td>105</td>\n",
              "      <td>632</td>\n",
              "      <td>-15.93</td>\n",
              "    </tr>\n",
              "    <tr>\n",
              "      <th>Laborers and freight, stock, and material movers, hand</th>\n",
              "      <td>1433</td>\n",
              "      <td>526</td>\n",
              "      <td>1214</td>\n",
              "      <td>547</td>\n",
              "      <td>219</td>\n",
              "      <td>455</td>\n",
              "      <td>-17.49</td>\n",
              "    </tr>\n",
              "    <tr>\n",
              "      <th>Packers and packagers, hand</th>\n",
              "      <td>385</td>\n",
              "      <td>438</td>\n",
              "      <td>158</td>\n",
              "      <td>462</td>\n",
              "      <td>227</td>\n",
              "      <td>424</td>\n",
              "      <td>-8.68</td>\n",
              "    </tr>\n",
              "  </tbody>\n",
              "</table>\n",
              "<p>141 rows × 7 columns</p>\n",
              "</div>"
            ],
            "text/plain": [
              "                                                    All_workers  ...  WageGap\n",
              "Occupation                                                       ...         \n",
              "MANAGEMENT                                                12480  ...   -25.68\n",
              "Chief executives                                           1046  ...   -20.33\n",
              "General and operations managers                             823  ...   -27.38\n",
              "Marketing and sales managers                                948  ...   -23.60\n",
              "Administrative services managers                            170  ...   -39.46\n",
              "...                                                         ...  ...      ...\n",
              "TRANSPORTATION                                             6953  ...   -28.64\n",
              "Bus drivers                                                 323  ...   -17.72\n",
              "Driver/sales workers and truck drivers                     2687  ...   -15.93\n",
              "Laborers and freight, stock, and material mover...         1433  ...   -17.49\n",
              "Packers and packagers, hand                                 385  ...    -8.68\n",
              "\n",
              "[141 rows x 7 columns]"
            ]
          },
          "metadata": {
            "tags": []
          },
          "execution_count": 71
        }
      ]
    },
    {
      "cell_type": "markdown",
      "metadata": {
        "id": "hWUrQ9Bd7Rdr"
      },
      "source": [
        "Largest Employer Data"
      ]
    },
    {
      "cell_type": "code",
      "metadata": {
        "colab": {
          "base_uri": "https://localhost:8080/",
          "height": 111
        },
        "id": "dmLqjiHfSKAm",
        "outputId": "6c57234b-e90a-4761-dab8-bca3ecda5ba4"
      },
      "source": [
        "DataSet.nlargest(1,['All_workers'])"
      ],
      "execution_count": 72,
      "outputs": [
        {
          "output_type": "execute_result",
          "data": {
            "text/html": [
              "<div>\n",
              "<style scoped>\n",
              "    .dataframe tbody tr th:only-of-type {\n",
              "        vertical-align: middle;\n",
              "    }\n",
              "\n",
              "    .dataframe tbody tr th {\n",
              "        vertical-align: top;\n",
              "    }\n",
              "\n",
              "    .dataframe thead th {\n",
              "        text-align: right;\n",
              "    }\n",
              "</style>\n",
              "<table border=\"1\" class=\"dataframe\">\n",
              "  <thead>\n",
              "    <tr style=\"text-align: right;\">\n",
              "      <th></th>\n",
              "      <th>All_workers</th>\n",
              "      <th>All_weekly</th>\n",
              "      <th>M_workers</th>\n",
              "      <th>M_weekly</th>\n",
              "      <th>F_workers</th>\n",
              "      <th>F_weekly</th>\n",
              "      <th>WageGap</th>\n",
              "    </tr>\n",
              "    <tr>\n",
              "      <th>Occupation</th>\n",
              "      <th></th>\n",
              "      <th></th>\n",
              "      <th></th>\n",
              "      <th></th>\n",
              "      <th></th>\n",
              "      <th></th>\n",
              "      <th></th>\n",
              "    </tr>\n",
              "  </thead>\n",
              "  <tbody>\n",
              "    <tr>\n",
              "      <th>OFFICE</th>\n",
              "      <td>13894</td>\n",
              "      <td>656</td>\n",
              "      <td>3961</td>\n",
              "      <td>693</td>\n",
              "      <td>9933</td>\n",
              "      <td>646</td>\n",
              "      <td>-7.16</td>\n",
              "    </tr>\n",
              "  </tbody>\n",
              "</table>\n",
              "</div>"
            ],
            "text/plain": [
              "            All_workers  All_weekly  M_workers  ...  F_workers  F_weekly  WageGap\n",
              "Occupation                                      ...                              \n",
              "OFFICE            13894         656       3961  ...       9933       646    -7.16\n",
              "\n",
              "[1 rows x 7 columns]"
            ]
          },
          "metadata": {
            "tags": []
          },
          "execution_count": 72
        }
      ]
    },
    {
      "cell_type": "markdown",
      "metadata": {
        "id": "pYNe6JYF7VKq"
      },
      "source": [
        "Industry with the largest Wage Gap"
      ]
    },
    {
      "cell_type": "code",
      "metadata": {
        "colab": {
          "base_uri": "https://localhost:8080/",
          "height": 111
        },
        "id": "QccHMXFL7cSz",
        "outputId": "d3209984-f516-4ab3-c7a9-903a53396eda"
      },
      "source": [
        "DataSet.nsmallest(1,['WageGap'])"
      ],
      "execution_count": 73,
      "outputs": [
        {
          "output_type": "execute_result",
          "data": {
            "text/html": [
              "<div>\n",
              "<style scoped>\n",
              "    .dataframe tbody tr th:only-of-type {\n",
              "        vertical-align: middle;\n",
              "    }\n",
              "\n",
              "    .dataframe tbody tr th {\n",
              "        vertical-align: top;\n",
              "    }\n",
              "\n",
              "    .dataframe thead th {\n",
              "        text-align: right;\n",
              "    }\n",
              "</style>\n",
              "<table border=\"1\" class=\"dataframe\">\n",
              "  <thead>\n",
              "    <tr style=\"text-align: right;\">\n",
              "      <th></th>\n",
              "      <th>All_workers</th>\n",
              "      <th>All_weekly</th>\n",
              "      <th>M_workers</th>\n",
              "      <th>M_weekly</th>\n",
              "      <th>F_workers</th>\n",
              "      <th>F_weekly</th>\n",
              "      <th>WageGap</th>\n",
              "    </tr>\n",
              "    <tr>\n",
              "      <th>Occupation</th>\n",
              "      <th></th>\n",
              "      <th></th>\n",
              "      <th></th>\n",
              "      <th></th>\n",
              "      <th></th>\n",
              "      <th></th>\n",
              "      <th></th>\n",
              "    </tr>\n",
              "  </thead>\n",
              "  <tbody>\n",
              "    <tr>\n",
              "      <th>Securities, commodities, and financial services sales agents</th>\n",
              "      <td>211</td>\n",
              "      <td>1155</td>\n",
              "      <td>146</td>\n",
              "      <td>1461</td>\n",
              "      <td>65</td>\n",
              "      <td>767</td>\n",
              "      <td>-60.09</td>\n",
              "    </tr>\n",
              "  </tbody>\n",
              "</table>\n",
              "</div>"
            ],
            "text/plain": [
              "                                                    All_workers  ...  WageGap\n",
              "Occupation                                                       ...         \n",
              "Securities, commodities, and financial services...          211  ...   -60.09\n",
              "\n",
              "[1 rows x 7 columns]"
            ]
          },
          "metadata": {
            "tags": []
          },
          "execution_count": 73
        }
      ]
    },
    {
      "cell_type": "markdown",
      "metadata": {
        "id": "joh0svRK8GNN"
      },
      "source": [
        "Clearly an issue with the Data that shows Female employees dont make anything on a weekly median bases. Have to remove zero values in (All_weekly, M_weekly, and F_weekly)"
      ]
    },
    {
      "cell_type": "code",
      "metadata": {
        "id": "Yi0j0CPi8Mzz",
        "colab": {
          "base_uri": "https://localhost:8080/",
          "height": 450
        },
        "outputId": "ca3b2beb-85ee-4455-dd71-7af0fc3b29e3"
      },
      "source": [
        "for x in DataSet:\n",
        "  if x == 'Occupation':\n",
        "    continue\n",
        "  else:\n",
        "    for y in DataSet[x]:\n",
        "      if y == 0:\n",
        "        indexNmbr = DataSet[DataSet[x] == 0].index\n",
        "        DataSet.drop(indexNmbr, inplace=True)\n",
        "DataSet"
      ],
      "execution_count": 74,
      "outputs": [
        {
          "output_type": "execute_result",
          "data": {
            "text/html": [
              "<div>\n",
              "<style scoped>\n",
              "    .dataframe tbody tr th:only-of-type {\n",
              "        vertical-align: middle;\n",
              "    }\n",
              "\n",
              "    .dataframe tbody tr th {\n",
              "        vertical-align: top;\n",
              "    }\n",
              "\n",
              "    .dataframe thead th {\n",
              "        text-align: right;\n",
              "    }\n",
              "</style>\n",
              "<table border=\"1\" class=\"dataframe\">\n",
              "  <thead>\n",
              "    <tr style=\"text-align: right;\">\n",
              "      <th></th>\n",
              "      <th>All_workers</th>\n",
              "      <th>All_weekly</th>\n",
              "      <th>M_workers</th>\n",
              "      <th>M_weekly</th>\n",
              "      <th>F_workers</th>\n",
              "      <th>F_weekly</th>\n",
              "      <th>WageGap</th>\n",
              "    </tr>\n",
              "    <tr>\n",
              "      <th>Occupation</th>\n",
              "      <th></th>\n",
              "      <th></th>\n",
              "      <th></th>\n",
              "      <th></th>\n",
              "      <th></th>\n",
              "      <th></th>\n",
              "      <th></th>\n",
              "    </tr>\n",
              "  </thead>\n",
              "  <tbody>\n",
              "    <tr>\n",
              "      <th>MANAGEMENT</th>\n",
              "      <td>12480</td>\n",
              "      <td>1351</td>\n",
              "      <td>7332</td>\n",
              "      <td>1486</td>\n",
              "      <td>5147</td>\n",
              "      <td>1139</td>\n",
              "      <td>-25.68</td>\n",
              "    </tr>\n",
              "    <tr>\n",
              "      <th>Chief executives</th>\n",
              "      <td>1046</td>\n",
              "      <td>2041</td>\n",
              "      <td>763</td>\n",
              "      <td>2251</td>\n",
              "      <td>283</td>\n",
              "      <td>1836</td>\n",
              "      <td>-20.33</td>\n",
              "    </tr>\n",
              "    <tr>\n",
              "      <th>General and operations managers</th>\n",
              "      <td>823</td>\n",
              "      <td>1260</td>\n",
              "      <td>621</td>\n",
              "      <td>1347</td>\n",
              "      <td>202</td>\n",
              "      <td>1002</td>\n",
              "      <td>-27.38</td>\n",
              "    </tr>\n",
              "    <tr>\n",
              "      <th>Marketing and sales managers</th>\n",
              "      <td>948</td>\n",
              "      <td>1462</td>\n",
              "      <td>570</td>\n",
              "      <td>1603</td>\n",
              "      <td>378</td>\n",
              "      <td>1258</td>\n",
              "      <td>-23.60</td>\n",
              "    </tr>\n",
              "    <tr>\n",
              "      <th>Administrative services managers</th>\n",
              "      <td>170</td>\n",
              "      <td>1191</td>\n",
              "      <td>96</td>\n",
              "      <td>1451</td>\n",
              "      <td>73</td>\n",
              "      <td>981</td>\n",
              "      <td>-39.46</td>\n",
              "    </tr>\n",
              "    <tr>\n",
              "      <th>...</th>\n",
              "      <td>...</td>\n",
              "      <td>...</td>\n",
              "      <td>...</td>\n",
              "      <td>...</td>\n",
              "      <td>...</td>\n",
              "      <td>...</td>\n",
              "      <td>...</td>\n",
              "    </tr>\n",
              "    <tr>\n",
              "      <th>TRANSPORTATION</th>\n",
              "      <td>6953</td>\n",
              "      <td>646</td>\n",
              "      <td>5998</td>\n",
              "      <td>679</td>\n",
              "      <td>955</td>\n",
              "      <td>494</td>\n",
              "      <td>-28.64</td>\n",
              "    </tr>\n",
              "    <tr>\n",
              "      <th>Bus drivers</th>\n",
              "      <td>323</td>\n",
              "      <td>615</td>\n",
              "      <td>184</td>\n",
              "      <td>681</td>\n",
              "      <td>138</td>\n",
              "      <td>572</td>\n",
              "      <td>-17.72</td>\n",
              "    </tr>\n",
              "    <tr>\n",
              "      <th>Driver/sales workers and truck drivers</th>\n",
              "      <td>2687</td>\n",
              "      <td>747</td>\n",
              "      <td>2582</td>\n",
              "      <td>751</td>\n",
              "      <td>105</td>\n",
              "      <td>632</td>\n",
              "      <td>-15.93</td>\n",
              "    </tr>\n",
              "    <tr>\n",
              "      <th>Laborers and freight, stock, and material movers, hand</th>\n",
              "      <td>1433</td>\n",
              "      <td>526</td>\n",
              "      <td>1214</td>\n",
              "      <td>547</td>\n",
              "      <td>219</td>\n",
              "      <td>455</td>\n",
              "      <td>-17.49</td>\n",
              "    </tr>\n",
              "    <tr>\n",
              "      <th>Packers and packagers, hand</th>\n",
              "      <td>385</td>\n",
              "      <td>438</td>\n",
              "      <td>158</td>\n",
              "      <td>462</td>\n",
              "      <td>227</td>\n",
              "      <td>424</td>\n",
              "      <td>-8.68</td>\n",
              "    </tr>\n",
              "  </tbody>\n",
              "</table>\n",
              "<p>141 rows × 7 columns</p>\n",
              "</div>"
            ],
            "text/plain": [
              "                                                    All_workers  ...  WageGap\n",
              "Occupation                                                       ...         \n",
              "MANAGEMENT                                                12480  ...   -25.68\n",
              "Chief executives                                           1046  ...   -20.33\n",
              "General and operations managers                             823  ...   -27.38\n",
              "Marketing and sales managers                                948  ...   -23.60\n",
              "Administrative services managers                            170  ...   -39.46\n",
              "...                                                         ...  ...      ...\n",
              "TRANSPORTATION                                             6953  ...   -28.64\n",
              "Bus drivers                                                 323  ...   -17.72\n",
              "Driver/sales workers and truck drivers                     2687  ...   -15.93\n",
              "Laborers and freight, stock, and material mover...         1433  ...   -17.49\n",
              "Packers and packagers, hand                                 385  ...    -8.68\n",
              "\n",
              "[141 rows x 7 columns]"
            ]
          },
          "metadata": {
            "tags": []
          },
          "execution_count": 74
        }
      ]
    },
    {
      "cell_type": "markdown",
      "metadata": {
        "id": "rOxsOKBrBqhM"
      },
      "source": [
        "The industry with the highest wage gap:"
      ]
    },
    {
      "cell_type": "code",
      "metadata": {
        "colab": {
          "base_uri": "https://localhost:8080/",
          "height": 173
        },
        "id": "YtWo6x5tBb_Y",
        "outputId": "b90a86bb-da16-4518-9277-e79b64dbe6e2"
      },
      "source": [
        "DataSet.nsmallest(3,['WageGap'])"
      ],
      "execution_count": 75,
      "outputs": [
        {
          "output_type": "execute_result",
          "data": {
            "text/html": [
              "<div>\n",
              "<style scoped>\n",
              "    .dataframe tbody tr th:only-of-type {\n",
              "        vertical-align: middle;\n",
              "    }\n",
              "\n",
              "    .dataframe tbody tr th {\n",
              "        vertical-align: top;\n",
              "    }\n",
              "\n",
              "    .dataframe thead th {\n",
              "        text-align: right;\n",
              "    }\n",
              "</style>\n",
              "<table border=\"1\" class=\"dataframe\">\n",
              "  <thead>\n",
              "    <tr style=\"text-align: right;\">\n",
              "      <th></th>\n",
              "      <th>All_workers</th>\n",
              "      <th>All_weekly</th>\n",
              "      <th>M_workers</th>\n",
              "      <th>M_weekly</th>\n",
              "      <th>F_workers</th>\n",
              "      <th>F_weekly</th>\n",
              "      <th>WageGap</th>\n",
              "    </tr>\n",
              "    <tr>\n",
              "      <th>Occupation</th>\n",
              "      <th></th>\n",
              "      <th></th>\n",
              "      <th></th>\n",
              "      <th></th>\n",
              "      <th></th>\n",
              "      <th></th>\n",
              "      <th></th>\n",
              "    </tr>\n",
              "  </thead>\n",
              "  <tbody>\n",
              "    <tr>\n",
              "      <th>Securities, commodities, and financial services sales agents</th>\n",
              "      <td>211</td>\n",
              "      <td>1155</td>\n",
              "      <td>146</td>\n",
              "      <td>1461</td>\n",
              "      <td>65</td>\n",
              "      <td>767</td>\n",
              "      <td>-60.09</td>\n",
              "    </tr>\n",
              "    <tr>\n",
              "      <th>LEGAL</th>\n",
              "      <td>1346</td>\n",
              "      <td>1391</td>\n",
              "      <td>624</td>\n",
              "      <td>1877</td>\n",
              "      <td>722</td>\n",
              "      <td>1135</td>\n",
              "      <td>-53.34</td>\n",
              "    </tr>\n",
              "    <tr>\n",
              "      <th>Personal financial advisors</th>\n",
              "      <td>407</td>\n",
              "      <td>1419</td>\n",
              "      <td>248</td>\n",
              "      <td>1738</td>\n",
              "      <td>159</td>\n",
              "      <td>1033</td>\n",
              "      <td>-49.68</td>\n",
              "    </tr>\n",
              "  </tbody>\n",
              "</table>\n",
              "</div>"
            ],
            "text/plain": [
              "                                                    All_workers  ...  WageGap\n",
              "Occupation                                                       ...         \n",
              "Securities, commodities, and financial services...          211  ...   -60.09\n",
              "LEGAL                                                      1346  ...   -53.34\n",
              "Personal financial advisors                                 407  ...   -49.68\n",
              "\n",
              "[3 rows x 7 columns]"
            ]
          },
          "metadata": {
            "tags": []
          },
          "execution_count": 75
        }
      ]
    },
    {
      "cell_type": "markdown",
      "metadata": {
        "id": "7_nEA3DRB2Vr"
      },
      "source": [
        "The industry with the lowest wage gap:"
      ]
    },
    {
      "cell_type": "code",
      "metadata": {
        "colab": {
          "base_uri": "https://localhost:8080/",
          "height": 173
        },
        "id": "gMWBYrZ9B6Ky",
        "outputId": "c284fe06-124a-4e12-8138-d770e7855446"
      },
      "source": [
        "DataSet.nlargest(3,['WageGap'])"
      ],
      "execution_count": 76,
      "outputs": [
        {
          "output_type": "execute_result",
          "data": {
            "text/html": [
              "<div>\n",
              "<style scoped>\n",
              "    .dataframe tbody tr th:only-of-type {\n",
              "        vertical-align: middle;\n",
              "    }\n",
              "\n",
              "    .dataframe tbody tr th {\n",
              "        vertical-align: top;\n",
              "    }\n",
              "\n",
              "    .dataframe thead th {\n",
              "        text-align: right;\n",
              "    }\n",
              "</style>\n",
              "<table border=\"1\" class=\"dataframe\">\n",
              "  <thead>\n",
              "    <tr style=\"text-align: right;\">\n",
              "      <th></th>\n",
              "      <th>All_workers</th>\n",
              "      <th>All_weekly</th>\n",
              "      <th>M_workers</th>\n",
              "      <th>M_weekly</th>\n",
              "      <th>F_workers</th>\n",
              "      <th>F_weekly</th>\n",
              "      <th>WageGap</th>\n",
              "    </tr>\n",
              "    <tr>\n",
              "      <th>Occupation</th>\n",
              "      <th></th>\n",
              "      <th></th>\n",
              "      <th></th>\n",
              "      <th></th>\n",
              "      <th></th>\n",
              "      <th></th>\n",
              "      <th></th>\n",
              "    </tr>\n",
              "  </thead>\n",
              "  <tbody>\n",
              "    <tr>\n",
              "      <th>Wholesale and retail buyers, except farm products</th>\n",
              "      <td>142</td>\n",
              "      <td>926</td>\n",
              "      <td>73</td>\n",
              "      <td>886</td>\n",
              "      <td>69</td>\n",
              "      <td>985</td>\n",
              "      <td>10.69</td>\n",
              "    </tr>\n",
              "    <tr>\n",
              "      <th>Data entry keyers</th>\n",
              "      <td>223</td>\n",
              "      <td>619</td>\n",
              "      <td>55</td>\n",
              "      <td>589</td>\n",
              "      <td>169</td>\n",
              "      <td>638</td>\n",
              "      <td>7.92</td>\n",
              "    </tr>\n",
              "    <tr>\n",
              "      <th>Office clerks, general</th>\n",
              "      <td>929</td>\n",
              "      <td>620</td>\n",
              "      <td>156</td>\n",
              "      <td>609</td>\n",
              "      <td>773</td>\n",
              "      <td>622</td>\n",
              "      <td>2.10</td>\n",
              "    </tr>\n",
              "  </tbody>\n",
              "</table>\n",
              "</div>"
            ],
            "text/plain": [
              "                                                   All_workers  ...  WageGap\n",
              "Occupation                                                      ...         \n",
              "Wholesale and retail buyers, except farm products          142  ...    10.69\n",
              "Data entry keyers                                          223  ...     7.92\n",
              "Office clerks, general                                     929  ...     2.10\n",
              "\n",
              "[3 rows x 7 columns]"
            ]
          },
          "metadata": {
            "tags": []
          },
          "execution_count": 76
        }
      ]
    },
    {
      "cell_type": "markdown",
      "metadata": {
        "id": "xFHx86-ZCDZe"
      },
      "source": [
        "The industry with the most men vs women:"
      ]
    },
    {
      "cell_type": "code",
      "metadata": {
        "id": "VMMmmMxGqpt3"
      },
      "source": [
        "MenDataSet = DataSet.loc[DataSet['M_workers'] > DataSet['F_workers']]"
      ],
      "execution_count": 77,
      "outputs": []
    },
    {
      "cell_type": "code",
      "metadata": {
        "colab": {
          "base_uri": "https://localhost:8080/",
          "height": 173
        },
        "id": "yzMlIJ3CtZhg",
        "outputId": "c44de701-41a9-428e-9f09-490e52ce6f2f"
      },
      "source": [
        "MenDataSet.nlargest(3, ['M_workers'])"
      ],
      "execution_count": 78,
      "outputs": [
        {
          "output_type": "execute_result",
          "data": {
            "text/html": [
              "<div>\n",
              "<style scoped>\n",
              "    .dataframe tbody tr th:only-of-type {\n",
              "        vertical-align: middle;\n",
              "    }\n",
              "\n",
              "    .dataframe tbody tr th {\n",
              "        vertical-align: top;\n",
              "    }\n",
              "\n",
              "    .dataframe thead th {\n",
              "        text-align: right;\n",
              "    }\n",
              "</style>\n",
              "<table border=\"1\" class=\"dataframe\">\n",
              "  <thead>\n",
              "    <tr style=\"text-align: right;\">\n",
              "      <th></th>\n",
              "      <th>All_workers</th>\n",
              "      <th>All_weekly</th>\n",
              "      <th>M_workers</th>\n",
              "      <th>M_weekly</th>\n",
              "      <th>F_workers</th>\n",
              "      <th>F_weekly</th>\n",
              "      <th>WageGap</th>\n",
              "    </tr>\n",
              "    <tr>\n",
              "      <th>Occupation</th>\n",
              "      <th></th>\n",
              "      <th></th>\n",
              "      <th></th>\n",
              "      <th></th>\n",
              "      <th></th>\n",
              "      <th></th>\n",
              "      <th></th>\n",
              "    </tr>\n",
              "  </thead>\n",
              "  <tbody>\n",
              "    <tr>\n",
              "      <th>MANAGEMENT</th>\n",
              "      <td>12480</td>\n",
              "      <td>1351</td>\n",
              "      <td>7332</td>\n",
              "      <td>1486</td>\n",
              "      <td>5147</td>\n",
              "      <td>1139</td>\n",
              "      <td>-25.68</td>\n",
              "    </tr>\n",
              "    <tr>\n",
              "      <th>TRANSPORTATION</th>\n",
              "      <td>6953</td>\n",
              "      <td>646</td>\n",
              "      <td>5998</td>\n",
              "      <td>679</td>\n",
              "      <td>955</td>\n",
              "      <td>494</td>\n",
              "      <td>-28.64</td>\n",
              "    </tr>\n",
              "    <tr>\n",
              "      <th>CONSTRUCTION</th>\n",
              "      <td>5722</td>\n",
              "      <td>749</td>\n",
              "      <td>5586</td>\n",
              "      <td>751</td>\n",
              "      <td>137</td>\n",
              "      <td>704</td>\n",
              "      <td>-6.28</td>\n",
              "    </tr>\n",
              "  </tbody>\n",
              "</table>\n",
              "</div>"
            ],
            "text/plain": [
              "                All_workers  All_weekly  ...  F_weekly  WageGap\n",
              "Occupation                               ...                   \n",
              "MANAGEMENT            12480        1351  ...      1139   -25.68\n",
              "TRANSPORTATION         6953         646  ...       494   -28.64\n",
              "CONSTRUCTION           5722         749  ...       704    -6.28\n",
              "\n",
              "[3 rows x 7 columns]"
            ]
          },
          "metadata": {
            "tags": []
          },
          "execution_count": 78
        }
      ]
    },
    {
      "cell_type": "code",
      "metadata": {
        "colab": {
          "base_uri": "https://localhost:8080/"
        },
        "id": "Urt_v8S30Z03",
        "outputId": "10110e20-49a9-487d-8a55-b5ad73895271"
      },
      "source": [
        "GenderDiff = MenDataSet['M_workers'] - MenDataSet['F_workers']\n",
        "for x in GenderDiff.sort_values(ascending=False).index[:3]:\n",
        "  print(MenDataSet.loc[x])"
      ],
      "execution_count": 79,
      "outputs": [
        {
          "output_type": "stream",
          "text": [
            "All_workers    5722.00\n",
            "All_weekly      749.00\n",
            "M_workers      5586.00\n",
            "M_weekly        751.00\n",
            "F_workers       137.00\n",
            "F_weekly        704.00\n",
            "WageGap          -6.28\n",
            "Name: CONSTRUCTION, dtype: float64\n",
            "All_workers    6953.00\n",
            "All_weekly      646.00\n",
            "M_workers      5998.00\n",
            "M_weekly        679.00\n",
            "F_workers       955.00\n",
            "F_weekly        494.00\n",
            "WageGap         -28.64\n",
            "Name: TRANSPORTATION, dtype: float64\n",
            "All_workers    4301.00\n",
            "All_weekly      839.00\n",
            "M_workers      4159.00\n",
            "M_weekly        842.00\n",
            "F_workers       143.00\n",
            "F_weekly        761.00\n",
            "WageGap          -9.65\n",
            "Name: MAINTENANCE, dtype: float64\n"
          ],
          "name": "stdout"
        }
      ]
    },
    {
      "cell_type": "markdown",
      "metadata": {
        "id": "cWSLPHhqCSIZ"
      },
      "source": [
        "The industry with the most women vs men:"
      ]
    },
    {
      "cell_type": "code",
      "metadata": {
        "id": "hVjcpMlkCXaZ"
      },
      "source": [
        "WomenDataSet = DataSet.loc[DataSet['F_workers'] > DataSet['M_workers']]"
      ],
      "execution_count": 80,
      "outputs": []
    },
    {
      "cell_type": "code",
      "metadata": {
        "colab": {
          "base_uri": "https://localhost:8080/",
          "height": 173
        },
        "id": "Xjc0h2QpxPEW",
        "outputId": "b52eae9c-3712-4f54-a9a2-04d00047e228"
      },
      "source": [
        "WomenDataSet.nlargest(3,['F_workers'])"
      ],
      "execution_count": 81,
      "outputs": [
        {
          "output_type": "execute_result",
          "data": {
            "text/html": [
              "<div>\n",
              "<style scoped>\n",
              "    .dataframe tbody tr th:only-of-type {\n",
              "        vertical-align: middle;\n",
              "    }\n",
              "\n",
              "    .dataframe tbody tr th {\n",
              "        vertical-align: top;\n",
              "    }\n",
              "\n",
              "    .dataframe thead th {\n",
              "        text-align: right;\n",
              "    }\n",
              "</style>\n",
              "<table border=\"1\" class=\"dataframe\">\n",
              "  <thead>\n",
              "    <tr style=\"text-align: right;\">\n",
              "      <th></th>\n",
              "      <th>All_workers</th>\n",
              "      <th>All_weekly</th>\n",
              "      <th>M_workers</th>\n",
              "      <th>M_weekly</th>\n",
              "      <th>F_workers</th>\n",
              "      <th>F_weekly</th>\n",
              "      <th>WageGap</th>\n",
              "    </tr>\n",
              "    <tr>\n",
              "      <th>Occupation</th>\n",
              "      <th></th>\n",
              "      <th></th>\n",
              "      <th></th>\n",
              "      <th></th>\n",
              "      <th></th>\n",
              "      <th></th>\n",
              "      <th></th>\n",
              "    </tr>\n",
              "  </thead>\n",
              "  <tbody>\n",
              "    <tr>\n",
              "      <th>OFFICE</th>\n",
              "      <td>13894</td>\n",
              "      <td>656</td>\n",
              "      <td>3961</td>\n",
              "      <td>693</td>\n",
              "      <td>9933</td>\n",
              "      <td>646</td>\n",
              "      <td>-7.16</td>\n",
              "    </tr>\n",
              "    <tr>\n",
              "      <th>EDUCATION</th>\n",
              "      <td>6884</td>\n",
              "      <td>956</td>\n",
              "      <td>1849</td>\n",
              "      <td>1144</td>\n",
              "      <td>5034</td>\n",
              "      <td>907</td>\n",
              "      <td>-24.79</td>\n",
              "    </tr>\n",
              "    <tr>\n",
              "      <th>HEALTHCARE PROFESSIONAL</th>\n",
              "      <td>6566</td>\n",
              "      <td>1041</td>\n",
              "      <td>1639</td>\n",
              "      <td>1272</td>\n",
              "      <td>4928</td>\n",
              "      <td>991</td>\n",
              "      <td>-26.99</td>\n",
              "    </tr>\n",
              "  </tbody>\n",
              "</table>\n",
              "</div>"
            ],
            "text/plain": [
              "                         All_workers  All_weekly  ...  F_weekly  WageGap\n",
              "Occupation                                        ...                   \n",
              "OFFICE                         13894         656  ...       646    -7.16\n",
              "EDUCATION                       6884         956  ...       907   -24.79\n",
              "HEALTHCARE PROFESSIONAL         6566        1041  ...       991   -26.99\n",
              "\n",
              "[3 rows x 7 columns]"
            ]
          },
          "metadata": {
            "tags": []
          },
          "execution_count": 81
        }
      ]
    },
    {
      "cell_type": "code",
      "metadata": {
        "colab": {
          "base_uri": "https://localhost:8080/"
        },
        "id": "-Yz-7gD660yV",
        "outputId": "b09315fa-b4e4-407d-84bc-3570ee2ebac3"
      },
      "source": [
        "GenderDiff = WomenDataSet['F_workers'] - WomenDataSet['M_workers']\n",
        "for x in GenderDiff.sort_values(ascending=False).index[:3]:\n",
        "  print(WomenDataSet.loc[x])"
      ],
      "execution_count": 82,
      "outputs": [
        {
          "output_type": "stream",
          "text": [
            "All_workers    13894.00\n",
            "All_weekly       656.00\n",
            "M_workers       3961.00\n",
            "M_weekly         693.00\n",
            "F_workers       9933.00\n",
            "F_weekly         646.00\n",
            "WageGap           -7.16\n",
            "Name: OFFICE, dtype: float64\n",
            "All_workers    6566.00\n",
            "All_weekly     1041.00\n",
            "M_workers      1639.00\n",
            "M_weekly       1272.00\n",
            "F_workers      4928.00\n",
            "F_weekly        991.00\n",
            "WageGap         -26.99\n",
            "Name: HEALTHCARE PROFESSIONAL, dtype: float64\n",
            "All_workers    6884.00\n",
            "All_weekly      956.00\n",
            "M_workers      1849.00\n",
            "M_weekly       1144.00\n",
            "F_workers      5034.00\n",
            "F_weekly        907.00\n",
            "WageGap         -24.79\n",
            "Name: EDUCATION, dtype: float64\n"
          ],
          "name": "stdout"
        }
      ]
    },
    {
      "cell_type": "markdown",
      "metadata": {
        "id": "0lNg4fo1DIt4"
      },
      "source": [
        "Top 3 highest paying roles and their wage difference to Men"
      ]
    },
    {
      "cell_type": "code",
      "metadata": {
        "colab": {
          "base_uri": "https://localhost:8080/",
          "height": 173
        },
        "id": "o_QW9OobDBfd",
        "outputId": "72b0bd2a-ad27-4732-d92f-3075e7f43750"
      },
      "source": [
        "DataSet.nlargest(3, ['F_weekly'])"
      ],
      "execution_count": 83,
      "outputs": [
        {
          "output_type": "execute_result",
          "data": {
            "text/html": [
              "<div>\n",
              "<style scoped>\n",
              "    .dataframe tbody tr th:only-of-type {\n",
              "        vertical-align: middle;\n",
              "    }\n",
              "\n",
              "    .dataframe tbody tr th {\n",
              "        vertical-align: top;\n",
              "    }\n",
              "\n",
              "    .dataframe thead th {\n",
              "        text-align: right;\n",
              "    }\n",
              "</style>\n",
              "<table border=\"1\" class=\"dataframe\">\n",
              "  <thead>\n",
              "    <tr style=\"text-align: right;\">\n",
              "      <th></th>\n",
              "      <th>All_workers</th>\n",
              "      <th>All_weekly</th>\n",
              "      <th>M_workers</th>\n",
              "      <th>M_weekly</th>\n",
              "      <th>F_workers</th>\n",
              "      <th>F_weekly</th>\n",
              "      <th>WageGap</th>\n",
              "    </tr>\n",
              "    <tr>\n",
              "      <th>Occupation</th>\n",
              "      <th></th>\n",
              "      <th></th>\n",
              "      <th></th>\n",
              "      <th></th>\n",
              "      <th></th>\n",
              "      <th></th>\n",
              "      <th></th>\n",
              "    </tr>\n",
              "  </thead>\n",
              "  <tbody>\n",
              "    <tr>\n",
              "      <th>Chief executives</th>\n",
              "      <td>1046</td>\n",
              "      <td>2041</td>\n",
              "      <td>763</td>\n",
              "      <td>2251</td>\n",
              "      <td>283</td>\n",
              "      <td>1836</td>\n",
              "      <td>-20.33</td>\n",
              "    </tr>\n",
              "    <tr>\n",
              "      <th>Pharmacists</th>\n",
              "      <td>206</td>\n",
              "      <td>1920</td>\n",
              "      <td>98</td>\n",
              "      <td>2117</td>\n",
              "      <td>108</td>\n",
              "      <td>1811</td>\n",
              "      <td>-15.94</td>\n",
              "    </tr>\n",
              "    <tr>\n",
              "      <th>Lawyers</th>\n",
              "      <td>803</td>\n",
              "      <td>1886</td>\n",
              "      <td>503</td>\n",
              "      <td>1914</td>\n",
              "      <td>300</td>\n",
              "      <td>1717</td>\n",
              "      <td>-10.45</td>\n",
              "    </tr>\n",
              "  </tbody>\n",
              "</table>\n",
              "</div>"
            ],
            "text/plain": [
              "                  All_workers  All_weekly  ...  F_weekly  WageGap\n",
              "Occupation                                 ...                   \n",
              "Chief executives         1046        2041  ...      1836   -20.33\n",
              "Pharmacists               206        1920  ...      1811   -15.94\n",
              "Lawyers                   803        1886  ...      1717   -10.45\n",
              "\n",
              "[3 rows x 7 columns]"
            ]
          },
          "metadata": {
            "tags": []
          },
          "execution_count": 83
        }
      ]
    },
    {
      "cell_type": "markdown",
      "metadata": {
        "id": "2NE9n9DTKYbf"
      },
      "source": [
        "Visualize the data:"
      ]
    },
    {
      "cell_type": "code",
      "metadata": {
        "colab": {
          "base_uri": "https://localhost:8080/",
          "height": 296
        },
        "id": "-8uEqEsCImwX",
        "outputId": "bd0b49bc-7cca-42b9-968f-5a62130ba328"
      },
      "source": [
        "sns.barplot(data = DataSet.reset_index().sort_values(by = 'WageGap', ascending = False)[:15] ,x = 'WageGap', y ='Occupation')"
      ],
      "execution_count": 107,
      "outputs": [
        {
          "output_type": "execute_result",
          "data": {
            "text/plain": [
              "<matplotlib.axes._subplots.AxesSubplot at 0x7fd03ea31050>"
            ]
          },
          "metadata": {
            "tags": []
          },
          "execution_count": 107
        },
        {
          "output_type": "display_data",
          "data": {
            "image/png": "[encoded data removed]",
            "text/plain": [
              "<Figure size 432x288 with 1 Axes>"
            ]
          },
          "metadata": {
            "tags": [],
            "needs_background": "light"
          }
        }
      ]
    }
  ]
}