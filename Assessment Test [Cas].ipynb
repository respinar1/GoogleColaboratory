{
  "nbformat": 4,
  "nbformat_minor": 0,
  "metadata": {
    "colab": {
      "name": "Assessment Test [Cas]",
      "provenance": [],
      "toc_visible": true,
      "mount_file_id": "1lHwEKTY12wQeWYYfEqoIB6oBlEEQg23O",
      "authorship_tag": "ABX9TyMYxA9iuGW9tt+XGmkTu3Mo",
      "include_colab_link": true
    },
    "kernelspec": {
      "name": "python3",
      "display_name": "Python 3"
    },
    "language_info": {
      "name": "python"
    }
  },
  "cells": [
    {
      "cell_type": "markdown",
      "metadata": {
        "id": "view-in-github",
        "colab_type": "text"
      },
      "source": [
        "<a href=\"https://colab.research.google.com/github/respinar1/GoogleColaboratory/blob/main/Casper_Take_Home_Test.ipynb\" target=\"_parent\"><img src=\"https://colab.research.google.com/assets/colab-badge.svg\" alt=\"Open In Colab\"/></a>"
      ]
    },
    {
      "cell_type": "markdown",
      "metadata": {
        "id": "q6ZHPIjntL80"
      },
      "source": [
        "Mounting my Google Drive to access csv files"
      ]
    },
    {
      "cell_type": "code",
      "metadata": {
        "colab": {
          "base_uri": "https://localhost:8080/"
        },
        "id": "v8r5bq6CrjL0",
        "outputId": "4aa7f6ef-a1f7-43e9-8f71-0a34b50e4f66"
      },
      "source": [
        "from google.colab import drive\n",
        "drive.mount('/content/drive', force_remount=True)"
      ],
      "execution_count": 34,
      "outputs": [
        {
          "output_type": "stream",
          "text": [
            "Mounted at /content/drive\n"
          ],
          "name": "stdout"
        }
      ]
    },
    {
      "cell_type": "markdown",
      "metadata": {
        "id": "gj7IlfHMtRNi"
      },
      "source": [
        "Importing required data analysis files"
      ]
    },
    {
      "cell_type": "code",
      "metadata": {
        "id": "jzHTYA_WtAWL"
      },
      "source": [
        "import pandas as pd\n",
        "import numpy as np\n",
        "import seaborn as sns"
      ],
      "execution_count": 35,
      "outputs": []
    },
    {
      "cell_type": "markdown",
      "metadata": {
        "id": "xgJO3A60tUa3"
      },
      "source": [
        "creating a dataframe for the csv file using pandas (Orders and Sessions)"
      ]
    },
    {
      "cell_type": "code",
      "metadata": {
        "id": "FfRjvy4trqcl"
      },
      "source": [
        "orders_db = pd.read_csv('/content/drive/MyDrive/Casper_Takehome_Test_Orders.csv')\n",
        "sessions_db = pd.read_csv('/content/drive/MyDrive/Casper_Takehome_Test_Sessions.csv')"
      ],
      "execution_count": 36,
      "outputs": []
    },
    {
      "cell_type": "code",
      "metadata": {
        "colab": {
          "base_uri": "https://localhost:8080/",
          "height": 694
        },
        "id": "XbId3Bsv3v4S",
        "outputId": "3c4f46c7-0f63-45a6-89a3-8f05e06d7416"
      },
      "source": [
        "orders_db"
      ],
      "execution_count": 37,
      "outputs": [
        {
          "output_type": "execute_result",
          "data": {
            "text/html": [
              "<div>\n",
              "<style scoped>\n",
              "    .dataframe tbody tr th:only-of-type {\n",
              "        vertical-align: middle;\n",
              "    }\n",
              "\n",
              "    .dataframe tbody tr th {\n",
              "        vertical-align: top;\n",
              "    }\n",
              "\n",
              "    .dataframe thead th {\n",
              "        text-align: right;\n",
              "    }\n",
              "</style>\n",
              "<table border=\"1\" class=\"dataframe\">\n",
              "  <thead>\n",
              "    <tr style=\"text-align: right;\">\n",
              "      <th></th>\n",
              "      <th>Unnamed: 0</th>\n",
              "      <th>Organic X Homepage Orders</th>\n",
              "      <th>Direct X Homepage Orders</th>\n",
              "      <th>Google Search X Homepage Orders</th>\n",
              "      <th>YouTube x Homepage Orders</th>\n",
              "      <th>Facbeook x Homepage Orders</th>\n",
              "      <th>Snapchat X Homepage Orders</th>\n",
              "      <th>Organic X Mattress Page Orders</th>\n",
              "      <th>Direct X Mattress Page Orders</th>\n",
              "      <th>Google Search X Mattress Page Orders</th>\n",
              "      <th>YouTube x Mattress Page Orders</th>\n",
              "      <th>Facbeook x Mattress Page Orders</th>\n",
              "      <th>Snapchat X Mattress Page Orders</th>\n",
              "      <th>Organic X Bedding Page Orders</th>\n",
              "      <th>Direct X Bedding Page Orders</th>\n",
              "      <th>Google Search X Bedding Page Orders</th>\n",
              "      <th>YouTube x Bedding Page Orders</th>\n",
              "      <th>Facbeook x Bedding Page Orders</th>\n",
              "      <th>Snapchat X Bedding Page Orders</th>\n",
              "      <th>Organic X Retail Locations Page Orders</th>\n",
              "      <th>Direct X Retail Locations Page Orders</th>\n",
              "      <th>Google Search X Retail Locations Page Orders</th>\n",
              "      <th>YouTube x Retail Locations Page Orders</th>\n",
              "      <th>Facbeook x Retail Locations Page Orders</th>\n",
              "      <th>Snapchat X Retail Locations Page Orders</th>\n",
              "    </tr>\n",
              "  </thead>\n",
              "  <tbody>\n",
              "    <tr>\n",
              "      <th>0</th>\n",
              "      <td>2019-01-01</td>\n",
              "      <td>261</td>\n",
              "      <td>257</td>\n",
              "      <td>353</td>\n",
              "      <td>100</td>\n",
              "      <td>126</td>\n",
              "      <td>106</td>\n",
              "      <td>247</td>\n",
              "      <td>260</td>\n",
              "      <td>365</td>\n",
              "      <td>98</td>\n",
              "      <td>119</td>\n",
              "      <td>118</td>\n",
              "      <td>255</td>\n",
              "      <td>289</td>\n",
              "      <td>366</td>\n",
              "      <td>81</td>\n",
              "      <td>116</td>\n",
              "      <td>116</td>\n",
              "      <td>2</td>\n",
              "      <td>3</td>\n",
              "      <td>0</td>\n",
              "      <td>0</td>\n",
              "      <td>3</td>\n",
              "      <td>2</td>\n",
              "    </tr>\n",
              "    <tr>\n",
              "      <th>1</th>\n",
              "      <td>2019-01-02</td>\n",
              "      <td>261</td>\n",
              "      <td>262</td>\n",
              "      <td>363</td>\n",
              "      <td>107</td>\n",
              "      <td>137</td>\n",
              "      <td>122</td>\n",
              "      <td>258</td>\n",
              "      <td>275</td>\n",
              "      <td>364</td>\n",
              "      <td>97</td>\n",
              "      <td>126</td>\n",
              "      <td>120</td>\n",
              "      <td>266</td>\n",
              "      <td>274</td>\n",
              "      <td>354</td>\n",
              "      <td>98</td>\n",
              "      <td>136</td>\n",
              "      <td>111</td>\n",
              "      <td>1</td>\n",
              "      <td>3</td>\n",
              "      <td>6</td>\n",
              "      <td>3</td>\n",
              "      <td>4</td>\n",
              "      <td>5</td>\n",
              "    </tr>\n",
              "    <tr>\n",
              "      <th>2</th>\n",
              "      <td>2019-01-03</td>\n",
              "      <td>236</td>\n",
              "      <td>263</td>\n",
              "      <td>368</td>\n",
              "      <td>84</td>\n",
              "      <td>110</td>\n",
              "      <td>104</td>\n",
              "      <td>268</td>\n",
              "      <td>278</td>\n",
              "      <td>352</td>\n",
              "      <td>90</td>\n",
              "      <td>108</td>\n",
              "      <td>131</td>\n",
              "      <td>256</td>\n",
              "      <td>269</td>\n",
              "      <td>370</td>\n",
              "      <td>91</td>\n",
              "      <td>112</td>\n",
              "      <td>124</td>\n",
              "      <td>1</td>\n",
              "      <td>2</td>\n",
              "      <td>3</td>\n",
              "      <td>1</td>\n",
              "      <td>0</td>\n",
              "      <td>2</td>\n",
              "    </tr>\n",
              "    <tr>\n",
              "      <th>3</th>\n",
              "      <td>2019-01-04</td>\n",
              "      <td>256</td>\n",
              "      <td>291</td>\n",
              "      <td>362</td>\n",
              "      <td>102</td>\n",
              "      <td>131</td>\n",
              "      <td>121</td>\n",
              "      <td>252</td>\n",
              "      <td>271</td>\n",
              "      <td>355</td>\n",
              "      <td>99</td>\n",
              "      <td>117</td>\n",
              "      <td>123</td>\n",
              "      <td>254</td>\n",
              "      <td>284</td>\n",
              "      <td>378</td>\n",
              "      <td>91</td>\n",
              "      <td>111</td>\n",
              "      <td>118</td>\n",
              "      <td>8</td>\n",
              "      <td>4</td>\n",
              "      <td>1</td>\n",
              "      <td>2</td>\n",
              "      <td>1</td>\n",
              "      <td>2</td>\n",
              "    </tr>\n",
              "    <tr>\n",
              "      <th>4</th>\n",
              "      <td>2019-01-05</td>\n",
              "      <td>254</td>\n",
              "      <td>270</td>\n",
              "      <td>363</td>\n",
              "      <td>100</td>\n",
              "      <td>115</td>\n",
              "      <td>110</td>\n",
              "      <td>245</td>\n",
              "      <td>257</td>\n",
              "      <td>349</td>\n",
              "      <td>84</td>\n",
              "      <td>125</td>\n",
              "      <td>120</td>\n",
              "      <td>260</td>\n",
              "      <td>284</td>\n",
              "      <td>348</td>\n",
              "      <td>106</td>\n",
              "      <td>122</td>\n",
              "      <td>114</td>\n",
              "      <td>2</td>\n",
              "      <td>0</td>\n",
              "      <td>2</td>\n",
              "      <td>3</td>\n",
              "      <td>4</td>\n",
              "      <td>3</td>\n",
              "    </tr>\n",
              "    <tr>\n",
              "      <th>...</th>\n",
              "      <td>...</td>\n",
              "      <td>...</td>\n",
              "      <td>...</td>\n",
              "      <td>...</td>\n",
              "      <td>...</td>\n",
              "      <td>...</td>\n",
              "      <td>...</td>\n",
              "      <td>...</td>\n",
              "      <td>...</td>\n",
              "      <td>...</td>\n",
              "      <td>...</td>\n",
              "      <td>...</td>\n",
              "      <td>...</td>\n",
              "      <td>...</td>\n",
              "      <td>...</td>\n",
              "      <td>...</td>\n",
              "      <td>...</td>\n",
              "      <td>...</td>\n",
              "      <td>...</td>\n",
              "      <td>...</td>\n",
              "      <td>...</td>\n",
              "      <td>...</td>\n",
              "      <td>...</td>\n",
              "      <td>...</td>\n",
              "      <td>...</td>\n",
              "    </tr>\n",
              "    <tr>\n",
              "      <th>726</th>\n",
              "      <td>2020-12-27</td>\n",
              "      <td>288</td>\n",
              "      <td>196</td>\n",
              "      <td>371</td>\n",
              "      <td>61</td>\n",
              "      <td>82</td>\n",
              "      <td>39</td>\n",
              "      <td>267</td>\n",
              "      <td>203</td>\n",
              "      <td>346</td>\n",
              "      <td>69</td>\n",
              "      <td>93</td>\n",
              "      <td>40</td>\n",
              "      <td>269</td>\n",
              "      <td>221</td>\n",
              "      <td>362</td>\n",
              "      <td>52</td>\n",
              "      <td>95</td>\n",
              "      <td>42</td>\n",
              "      <td>2</td>\n",
              "      <td>0</td>\n",
              "      <td>2</td>\n",
              "      <td>0</td>\n",
              "      <td>5</td>\n",
              "      <td>2</td>\n",
              "    </tr>\n",
              "    <tr>\n",
              "      <th>727</th>\n",
              "      <td>2020-12-28</td>\n",
              "      <td>279</td>\n",
              "      <td>222</td>\n",
              "      <td>361</td>\n",
              "      <td>51</td>\n",
              "      <td>80</td>\n",
              "      <td>39</td>\n",
              "      <td>264</td>\n",
              "      <td>175</td>\n",
              "      <td>375</td>\n",
              "      <td>52</td>\n",
              "      <td>76</td>\n",
              "      <td>18</td>\n",
              "      <td>266</td>\n",
              "      <td>204</td>\n",
              "      <td>359</td>\n",
              "      <td>44</td>\n",
              "      <td>78</td>\n",
              "      <td>46</td>\n",
              "      <td>0</td>\n",
              "      <td>0</td>\n",
              "      <td>0</td>\n",
              "      <td>0</td>\n",
              "      <td>2</td>\n",
              "      <td>3</td>\n",
              "    </tr>\n",
              "    <tr>\n",
              "      <th>728</th>\n",
              "      <td>2020-12-29</td>\n",
              "      <td>262</td>\n",
              "      <td>225</td>\n",
              "      <td>372</td>\n",
              "      <td>63</td>\n",
              "      <td>51</td>\n",
              "      <td>68</td>\n",
              "      <td>267</td>\n",
              "      <td>208</td>\n",
              "      <td>358</td>\n",
              "      <td>51</td>\n",
              "      <td>70</td>\n",
              "      <td>40</td>\n",
              "      <td>276</td>\n",
              "      <td>202</td>\n",
              "      <td>340</td>\n",
              "      <td>64</td>\n",
              "      <td>77</td>\n",
              "      <td>44</td>\n",
              "      <td>3</td>\n",
              "      <td>0</td>\n",
              "      <td>3</td>\n",
              "      <td>3</td>\n",
              "      <td>2</td>\n",
              "      <td>1</td>\n",
              "    </tr>\n",
              "    <tr>\n",
              "      <th>729</th>\n",
              "      <td>2020-12-30</td>\n",
              "      <td>269</td>\n",
              "      <td>203</td>\n",
              "      <td>357</td>\n",
              "      <td>80</td>\n",
              "      <td>62</td>\n",
              "      <td>49</td>\n",
              "      <td>277</td>\n",
              "      <td>223</td>\n",
              "      <td>367</td>\n",
              "      <td>64</td>\n",
              "      <td>71</td>\n",
              "      <td>29</td>\n",
              "      <td>264</td>\n",
              "      <td>231</td>\n",
              "      <td>370</td>\n",
              "      <td>47</td>\n",
              "      <td>91</td>\n",
              "      <td>42</td>\n",
              "      <td>0</td>\n",
              "      <td>2</td>\n",
              "      <td>1</td>\n",
              "      <td>0</td>\n",
              "      <td>4</td>\n",
              "      <td>0</td>\n",
              "    </tr>\n",
              "    <tr>\n",
              "      <th>730</th>\n",
              "      <td>2020-12-31</td>\n",
              "      <td>258</td>\n",
              "      <td>201</td>\n",
              "      <td>354</td>\n",
              "      <td>68</td>\n",
              "      <td>82</td>\n",
              "      <td>29</td>\n",
              "      <td>266</td>\n",
              "      <td>209</td>\n",
              "      <td>370</td>\n",
              "      <td>66</td>\n",
              "      <td>82</td>\n",
              "      <td>47</td>\n",
              "      <td>277</td>\n",
              "      <td>204</td>\n",
              "      <td>384</td>\n",
              "      <td>50</td>\n",
              "      <td>71</td>\n",
              "      <td>34</td>\n",
              "      <td>3</td>\n",
              "      <td>1</td>\n",
              "      <td>1</td>\n",
              "      <td>0</td>\n",
              "      <td>1</td>\n",
              "      <td>0</td>\n",
              "    </tr>\n",
              "  </tbody>\n",
              "</table>\n",
              "<p>731 rows × 25 columns</p>\n",
              "</div>"
            ],
            "text/plain": [
              "     Unnamed: 0  ...  Snapchat X Retail Locations Page Orders\n",
              "0    2019-01-01  ...                                        2\n",
              "1    2019-01-02  ...                                        5\n",
              "2    2019-01-03  ...                                        2\n",
              "3    2019-01-04  ...                                        2\n",
              "4    2019-01-05  ...                                        3\n",
              "..          ...  ...                                      ...\n",
              "726  2020-12-27  ...                                        2\n",
              "727  2020-12-28  ...                                        3\n",
              "728  2020-12-29  ...                                        1\n",
              "729  2020-12-30  ...                                        0\n",
              "730  2020-12-31  ...                                        0\n",
              "\n",
              "[731 rows x 25 columns]"
            ]
          },
          "metadata": {},
          "execution_count": 37
        }
      ]
    },
    {
      "cell_type": "code",
      "metadata": {
        "colab": {
          "base_uri": "https://localhost:8080/",
          "height": 694
        },
        "id": "12gUM5ZV32dA",
        "outputId": "0c40e19c-f81f-42cf-90f0-206b8d251e5c"
      },
      "source": [
        "sessions_db"
      ],
      "execution_count": 38,
      "outputs": [
        {
          "output_type": "execute_result",
          "data": {
            "text/html": [
              "<div>\n",
              "<style scoped>\n",
              "    .dataframe tbody tr th:only-of-type {\n",
              "        vertical-align: middle;\n",
              "    }\n",
              "\n",
              "    .dataframe tbody tr th {\n",
              "        vertical-align: top;\n",
              "    }\n",
              "\n",
              "    .dataframe thead th {\n",
              "        text-align: right;\n",
              "    }\n",
              "</style>\n",
              "<table border=\"1\" class=\"dataframe\">\n",
              "  <thead>\n",
              "    <tr style=\"text-align: right;\">\n",
              "      <th></th>\n",
              "      <th>Unnamed: 0</th>\n",
              "      <th>Organic X Homepage Sessions</th>\n",
              "      <th>Direct X Homepage Sessions</th>\n",
              "      <th>Google Search X Homepage Sessions</th>\n",
              "      <th>YouTube x Homepage Sessions</th>\n",
              "      <th>Facbeook x Homepage Sessions</th>\n",
              "      <th>Snapchat X Homepage Sessions</th>\n",
              "      <th>Organic X Mattress Page Sessions</th>\n",
              "      <th>Direct X Mattress Page Sessions</th>\n",
              "      <th>Google Search X Mattress Page Sessions</th>\n",
              "      <th>YouTube x Mattress Page Sessions</th>\n",
              "      <th>Facbeook x Mattress Page Sessions</th>\n",
              "      <th>Snapchat X Mattress Page Sessions</th>\n",
              "      <th>Organic X Bedding Page Sessions</th>\n",
              "      <th>Direct X Bedding Page Sessions</th>\n",
              "      <th>Google Search X Bedding Page Sessions</th>\n",
              "      <th>YouTube x Bedding Page Sessions</th>\n",
              "      <th>Facbeook x Bedding Page Sessions</th>\n",
              "      <th>Snapchat X Bedding Page Sessions</th>\n",
              "      <th>Organic X Retail Locations Page Sessions</th>\n",
              "      <th>Direct X Retail Locations Page Sessions</th>\n",
              "      <th>Google Search X Retail Locations Page Sessions</th>\n",
              "      <th>YouTube x Retail Locations Page Sessions</th>\n",
              "      <th>Facbeook x Retail Locations Page Sessions</th>\n",
              "      <th>Snapchat X Retail Locations Page Sessions</th>\n",
              "    </tr>\n",
              "  </thead>\n",
              "  <tbody>\n",
              "    <tr>\n",
              "      <th>0</th>\n",
              "      <td>2019-01-01</td>\n",
              "      <td>26243</td>\n",
              "      <td>17770</td>\n",
              "      <td>27298</td>\n",
              "      <td>10566</td>\n",
              "      <td>9779</td>\n",
              "      <td>7343</td>\n",
              "      <td>25624</td>\n",
              "      <td>17661</td>\n",
              "      <td>31505</td>\n",
              "      <td>8592</td>\n",
              "      <td>11346</td>\n",
              "      <td>7665</td>\n",
              "      <td>26008</td>\n",
              "      <td>18270</td>\n",
              "      <td>29792</td>\n",
              "      <td>10545</td>\n",
              "      <td>9603</td>\n",
              "      <td>6412</td>\n",
              "      <td>20914</td>\n",
              "      <td>14099</td>\n",
              "      <td>23837</td>\n",
              "      <td>5407</td>\n",
              "      <td>5199</td>\n",
              "      <td>1299</td>\n",
              "    </tr>\n",
              "    <tr>\n",
              "      <th>1</th>\n",
              "      <td>2019-01-02</td>\n",
              "      <td>27185</td>\n",
              "      <td>16931</td>\n",
              "      <td>30646</td>\n",
              "      <td>11371</td>\n",
              "      <td>9421</td>\n",
              "      <td>8300</td>\n",
              "      <td>27138</td>\n",
              "      <td>18885</td>\n",
              "      <td>29590</td>\n",
              "      <td>9230</td>\n",
              "      <td>8439</td>\n",
              "      <td>7173</td>\n",
              "      <td>26864</td>\n",
              "      <td>19007</td>\n",
              "      <td>28092</td>\n",
              "      <td>8449</td>\n",
              "      <td>12019</td>\n",
              "      <td>5398</td>\n",
              "      <td>18976</td>\n",
              "      <td>12802</td>\n",
              "      <td>25331</td>\n",
              "      <td>5244</td>\n",
              "      <td>5704</td>\n",
              "      <td>1149</td>\n",
              "    </tr>\n",
              "    <tr>\n",
              "      <th>2</th>\n",
              "      <td>2019-01-03</td>\n",
              "      <td>28111</td>\n",
              "      <td>16302</td>\n",
              "      <td>29573</td>\n",
              "      <td>10100</td>\n",
              "      <td>10405</td>\n",
              "      <td>6474</td>\n",
              "      <td>27049</td>\n",
              "      <td>16526</td>\n",
              "      <td>28926</td>\n",
              "      <td>11077</td>\n",
              "      <td>11509</td>\n",
              "      <td>5150</td>\n",
              "      <td>24954</td>\n",
              "      <td>18342</td>\n",
              "      <td>30680</td>\n",
              "      <td>10642</td>\n",
              "      <td>10326</td>\n",
              "      <td>5935</td>\n",
              "      <td>21820</td>\n",
              "      <td>15243</td>\n",
              "      <td>23894</td>\n",
              "      <td>6446</td>\n",
              "      <td>4618</td>\n",
              "      <td>1956</td>\n",
              "    </tr>\n",
              "    <tr>\n",
              "      <th>3</th>\n",
              "      <td>2019-01-04</td>\n",
              "      <td>27134</td>\n",
              "      <td>19527</td>\n",
              "      <td>30180</td>\n",
              "      <td>10504</td>\n",
              "      <td>9609</td>\n",
              "      <td>6507</td>\n",
              "      <td>26177</td>\n",
              "      <td>17442</td>\n",
              "      <td>30504</td>\n",
              "      <td>10636</td>\n",
              "      <td>10068</td>\n",
              "      <td>6634</td>\n",
              "      <td>26980</td>\n",
              "      <td>14778</td>\n",
              "      <td>29551</td>\n",
              "      <td>10071</td>\n",
              "      <td>11166</td>\n",
              "      <td>4796</td>\n",
              "      <td>20184</td>\n",
              "      <td>12843</td>\n",
              "      <td>23793</td>\n",
              "      <td>6975</td>\n",
              "      <td>7319</td>\n",
              "      <td>2944</td>\n",
              "    </tr>\n",
              "    <tr>\n",
              "      <th>4</th>\n",
              "      <td>2019-01-05</td>\n",
              "      <td>26211</td>\n",
              "      <td>19633</td>\n",
              "      <td>31283</td>\n",
              "      <td>8614</td>\n",
              "      <td>10829</td>\n",
              "      <td>6020</td>\n",
              "      <td>24209</td>\n",
              "      <td>18198</td>\n",
              "      <td>31670</td>\n",
              "      <td>9546</td>\n",
              "      <td>11035</td>\n",
              "      <td>5337</td>\n",
              "      <td>24662</td>\n",
              "      <td>18256</td>\n",
              "      <td>30595</td>\n",
              "      <td>10831</td>\n",
              "      <td>9513</td>\n",
              "      <td>5546</td>\n",
              "      <td>19146</td>\n",
              "      <td>15156</td>\n",
              "      <td>23850</td>\n",
              "      <td>5596</td>\n",
              "      <td>6257</td>\n",
              "      <td>1946</td>\n",
              "    </tr>\n",
              "    <tr>\n",
              "      <th>...</th>\n",
              "      <td>...</td>\n",
              "      <td>...</td>\n",
              "      <td>...</td>\n",
              "      <td>...</td>\n",
              "      <td>...</td>\n",
              "      <td>...</td>\n",
              "      <td>...</td>\n",
              "      <td>...</td>\n",
              "      <td>...</td>\n",
              "      <td>...</td>\n",
              "      <td>...</td>\n",
              "      <td>...</td>\n",
              "      <td>...</td>\n",
              "      <td>...</td>\n",
              "      <td>...</td>\n",
              "      <td>...</td>\n",
              "      <td>...</td>\n",
              "      <td>...</td>\n",
              "      <td>...</td>\n",
              "      <td>...</td>\n",
              "      <td>...</td>\n",
              "      <td>...</td>\n",
              "      <td>...</td>\n",
              "      <td>...</td>\n",
              "      <td>...</td>\n",
              "    </tr>\n",
              "    <tr>\n",
              "      <th>726</th>\n",
              "      <td>2020-12-27</td>\n",
              "      <td>18959</td>\n",
              "      <td>14725</td>\n",
              "      <td>22979</td>\n",
              "      <td>6430</td>\n",
              "      <td>7867</td>\n",
              "      <td>2679</td>\n",
              "      <td>20586</td>\n",
              "      <td>14014</td>\n",
              "      <td>26474</td>\n",
              "      <td>6280</td>\n",
              "      <td>5164</td>\n",
              "      <td>3835</td>\n",
              "      <td>21135</td>\n",
              "      <td>13145</td>\n",
              "      <td>23065</td>\n",
              "      <td>5863</td>\n",
              "      <td>5500</td>\n",
              "      <td>2751</td>\n",
              "      <td>37299</td>\n",
              "      <td>25580</td>\n",
              "      <td>40476</td>\n",
              "      <td>16108</td>\n",
              "      <td>19467</td>\n",
              "      <td>13838</td>\n",
              "    </tr>\n",
              "    <tr>\n",
              "      <th>727</th>\n",
              "      <td>2020-12-28</td>\n",
              "      <td>19432</td>\n",
              "      <td>14222</td>\n",
              "      <td>22777</td>\n",
              "      <td>4410</td>\n",
              "      <td>7158</td>\n",
              "      <td>600</td>\n",
              "      <td>20608</td>\n",
              "      <td>14378</td>\n",
              "      <td>25011</td>\n",
              "      <td>6463</td>\n",
              "      <td>7006</td>\n",
              "      <td>3562</td>\n",
              "      <td>19511</td>\n",
              "      <td>14902</td>\n",
              "      <td>23943</td>\n",
              "      <td>6885</td>\n",
              "      <td>5967</td>\n",
              "      <td>516</td>\n",
              "      <td>37924</td>\n",
              "      <td>26174</td>\n",
              "      <td>42139</td>\n",
              "      <td>19557</td>\n",
              "      <td>17876</td>\n",
              "      <td>15195</td>\n",
              "    </tr>\n",
              "    <tr>\n",
              "      <th>728</th>\n",
              "      <td>2020-12-29</td>\n",
              "      <td>19096</td>\n",
              "      <td>13487</td>\n",
              "      <td>23747</td>\n",
              "      <td>7609</td>\n",
              "      <td>6342</td>\n",
              "      <td>2345</td>\n",
              "      <td>18880</td>\n",
              "      <td>14194</td>\n",
              "      <td>24869</td>\n",
              "      <td>3487</td>\n",
              "      <td>6009</td>\n",
              "      <td>1484</td>\n",
              "      <td>20669</td>\n",
              "      <td>13305</td>\n",
              "      <td>22447</td>\n",
              "      <td>6533</td>\n",
              "      <td>4346</td>\n",
              "      <td>2376</td>\n",
              "      <td>38207</td>\n",
              "      <td>25975</td>\n",
              "      <td>41370</td>\n",
              "      <td>16825</td>\n",
              "      <td>17791</td>\n",
              "      <td>14406</td>\n",
              "    </tr>\n",
              "    <tr>\n",
              "      <th>729</th>\n",
              "      <td>2020-12-30</td>\n",
              "      <td>21441</td>\n",
              "      <td>15098</td>\n",
              "      <td>24862</td>\n",
              "      <td>4910</td>\n",
              "      <td>5635</td>\n",
              "      <td>2189</td>\n",
              "      <td>19668</td>\n",
              "      <td>16482</td>\n",
              "      <td>23849</td>\n",
              "      <td>4496</td>\n",
              "      <td>6396</td>\n",
              "      <td>2847</td>\n",
              "      <td>21085</td>\n",
              "      <td>14991</td>\n",
              "      <td>23770</td>\n",
              "      <td>6145</td>\n",
              "      <td>5496</td>\n",
              "      <td>3109</td>\n",
              "      <td>37800</td>\n",
              "      <td>24950</td>\n",
              "      <td>42637</td>\n",
              "      <td>18593</td>\n",
              "      <td>17175</td>\n",
              "      <td>14048</td>\n",
              "    </tr>\n",
              "    <tr>\n",
              "      <th>730</th>\n",
              "      <td>2020-12-31</td>\n",
              "      <td>21353</td>\n",
              "      <td>15469</td>\n",
              "      <td>23179</td>\n",
              "      <td>6494</td>\n",
              "      <td>5184</td>\n",
              "      <td>1539</td>\n",
              "      <td>19493</td>\n",
              "      <td>12942</td>\n",
              "      <td>25975</td>\n",
              "      <td>2949</td>\n",
              "      <td>6184</td>\n",
              "      <td>2439</td>\n",
              "      <td>19821</td>\n",
              "      <td>13733</td>\n",
              "      <td>24032</td>\n",
              "      <td>5880</td>\n",
              "      <td>6863</td>\n",
              "      <td>3880</td>\n",
              "      <td>38246</td>\n",
              "      <td>24959</td>\n",
              "      <td>40793</td>\n",
              "      <td>16169</td>\n",
              "      <td>16716</td>\n",
              "      <td>14442</td>\n",
              "    </tr>\n",
              "  </tbody>\n",
              "</table>\n",
              "<p>731 rows × 25 columns</p>\n",
              "</div>"
            ],
            "text/plain": [
              "     Unnamed: 0  ...  Snapchat X Retail Locations Page Sessions\n",
              "0    2019-01-01  ...                                       1299\n",
              "1    2019-01-02  ...                                       1149\n",
              "2    2019-01-03  ...                                       1956\n",
              "3    2019-01-04  ...                                       2944\n",
              "4    2019-01-05  ...                                       1946\n",
              "..          ...  ...                                        ...\n",
              "726  2020-12-27  ...                                      13838\n",
              "727  2020-12-28  ...                                      15195\n",
              "728  2020-12-29  ...                                      14406\n",
              "729  2020-12-30  ...                                      14048\n",
              "730  2020-12-31  ...                                      14442\n",
              "\n",
              "[731 rows x 25 columns]"
            ]
          },
          "metadata": {},
          "execution_count": 38
        }
      ]
    },
    {
      "cell_type": "markdown",
      "metadata": {
        "id": "2vEmBHkr2_cR"
      },
      "source": [
        "First thing is to search through the data and clean it a little bit. I want to find out the data types of each column and if there are any null values"
      ]
    },
    {
      "cell_type": "code",
      "metadata": {
        "colab": {
          "base_uri": "https://localhost:8080/"
        },
        "id": "Q8WS1x9CtatD",
        "outputId": "2251d7af-79bb-4edf-bbb9-339925733731"
      },
      "source": [
        "orders_db.dtypes"
      ],
      "execution_count": 39,
      "outputs": [
        {
          "output_type": "execute_result",
          "data": {
            "text/plain": [
              "Unnamed: 0                                      object\n",
              "Organic X Homepage Orders                        int64\n",
              "Direct X Homepage Orders                         int64\n",
              "Google Search X Homepage Orders                  int64\n",
              "YouTube x Homepage Orders                        int64\n",
              "Facbeook x Homepage Orders                       int64\n",
              "Snapchat X Homepage Orders                       int64\n",
              "Organic X Mattress Page Orders                   int64\n",
              "Direct X Mattress Page Orders                    int64\n",
              "Google Search X Mattress Page Orders             int64\n",
              "YouTube x Mattress Page Orders                   int64\n",
              "Facbeook x Mattress Page Orders                  int64\n",
              "Snapchat X Mattress Page Orders                  int64\n",
              "Organic X Bedding Page Orders                    int64\n",
              "Direct X Bedding Page Orders                     int64\n",
              "Google Search X Bedding Page Orders              int64\n",
              "YouTube x Bedding Page Orders                    int64\n",
              "Facbeook x Bedding Page Orders                   int64\n",
              "Snapchat X Bedding Page Orders                   int64\n",
              "Organic X Retail Locations Page Orders           int64\n",
              "Direct X Retail Locations Page Orders            int64\n",
              "Google Search X Retail Locations Page Orders     int64\n",
              "YouTube x Retail Locations Page Orders           int64\n",
              "Facbeook x Retail Locations Page Orders          int64\n",
              "Snapchat X Retail Locations Page Orders          int64\n",
              "dtype: object"
            ]
          },
          "metadata": {},
          "execution_count": 39
        }
      ]
    },
    {
      "cell_type": "code",
      "metadata": {
        "colab": {
          "base_uri": "https://localhost:8080/"
        },
        "id": "cPKl8vMD3iaA",
        "outputId": "34e7ee27-8134-4b45-b304-b1fb7257477c"
      },
      "source": [
        "sessions_db.dtypes"
      ],
      "execution_count": 40,
      "outputs": [
        {
          "output_type": "execute_result",
          "data": {
            "text/plain": [
              "Unnamed: 0                                        object\n",
              "Organic X Homepage Sessions                        int64\n",
              "Direct X Homepage Sessions                         int64\n",
              "Google Search X Homepage Sessions                  int64\n",
              "YouTube x Homepage Sessions                        int64\n",
              "Facbeook x Homepage Sessions                       int64\n",
              "Snapchat X Homepage Sessions                       int64\n",
              "Organic X Mattress Page Sessions                   int64\n",
              "Direct X Mattress Page Sessions                    int64\n",
              "Google Search X Mattress Page Sessions             int64\n",
              "YouTube x Mattress Page Sessions                   int64\n",
              "Facbeook x Mattress Page Sessions                  int64\n",
              "Snapchat X Mattress Page Sessions                  int64\n",
              "Organic X Bedding Page Sessions                    int64\n",
              "Direct X Bedding Page Sessions                     int64\n",
              "Google Search X Bedding Page Sessions              int64\n",
              "YouTube x Bedding Page Sessions                    int64\n",
              "Facbeook x Bedding Page Sessions                   int64\n",
              "Snapchat X Bedding Page Sessions                   int64\n",
              "Organic X Retail Locations Page Sessions           int64\n",
              "Direct X Retail Locations Page Sessions            int64\n",
              "Google Search X Retail Locations Page Sessions     int64\n",
              "YouTube x Retail Locations Page Sessions           int64\n",
              "Facbeook x Retail Locations Page Sessions          int64\n",
              "Snapchat X Retail Locations Page Sessions          int64\n",
              "dtype: object"
            ]
          },
          "metadata": {},
          "execution_count": 40
        }
      ]
    },
    {
      "cell_type": "markdown",
      "metadata": {
        "id": "RduGTz6s9c2h"
      },
      "source": [
        "Function to find null values in dataset"
      ]
    },
    {
      "cell_type": "code",
      "metadata": {
        "id": "5pii4sFp3piG"
      },
      "source": [
        "def finding_null (db):\n",
        "    data_bool = db.isnull()\n",
        "    counter = 0\n",
        "    for x in data_bool:\n",
        "        for y in data_bool[x]:\n",
        "            if y == True:\n",
        "                print(\"We have a null value at {}\".f(x))\n",
        "            else:\n",
        "                continue\n",
        "    if counter == 0:\n",
        "        print(\"No null values found.\")"
      ],
      "execution_count": 41,
      "outputs": []
    },
    {
      "cell_type": "code",
      "metadata": {
        "colab": {
          "base_uri": "https://localhost:8080/"
        },
        "id": "K78hRV0X6Dj7",
        "outputId": "33f49799-d32d-45e4-9dad-b4d6eab34772"
      },
      "source": [
        "finding_null(orders_db)"
      ],
      "execution_count": 42,
      "outputs": [
        {
          "output_type": "stream",
          "text": [
            "No null values found.\n"
          ],
          "name": "stdout"
        }
      ]
    },
    {
      "cell_type": "code",
      "metadata": {
        "colab": {
          "base_uri": "https://localhost:8080/"
        },
        "id": "3iHS1V-y9YOV",
        "outputId": "d77a6f3e-3f63-41f6-cbff-266cc877aab4"
      },
      "source": [
        "finding_null(sessions_db)"
      ],
      "execution_count": 43,
      "outputs": [
        {
          "output_type": "stream",
          "text": [
            "No null values found.\n"
          ],
          "name": "stdout"
        }
      ]
    },
    {
      "cell_type": "markdown",
      "metadata": {
        "id": "q31ZprX21RxI"
      },
      "source": [
        "This will show me the highest order count for each \n",
        "traffic per each loading page."
      ]
    },
    {
      "cell_type": "code",
      "metadata": {
        "colab": {
          "base_uri": "https://localhost:8080/"
        },
        "id": "UbLnfYfcyf_F",
        "outputId": "2b99300b-9511-461f-d2c3-b9f33e968fb8"
      },
      "source": [
        "orders_db.max(numeric_only = True).sort_values(ascending = False)"
      ],
      "execution_count": 44,
      "outputs": [
        {
          "output_type": "execute_result",
          "data": {
            "text/plain": [
              "Google Search X Mattress Page Orders            394\n",
              "Google Search X Homepage Orders                 392\n",
              "Google Search X Bedding Page Orders             388\n",
              "Direct X Bedding Page Orders                    300\n",
              "Organic X Bedding Page Orders                   299\n",
              "Direct X Mattress Page Orders                   297\n",
              "Organic X Mattress Page Orders                  296\n",
              "Organic X Homepage Orders                       295\n",
              "Direct X Homepage Orders                        294\n",
              "Facbeook x Bedding Page Orders                  152\n",
              "Facbeook x Homepage Orders                      151\n",
              "Snapchat X Homepage Orders                      146\n",
              "Snapchat X Mattress Page Orders                 143\n",
              "Snapchat X Bedding Page Orders                  143\n",
              "Facbeook x Mattress Page Orders                 141\n",
              "YouTube x Bedding Page Orders                   140\n",
              "YouTube x Homepage Orders                       129\n",
              "YouTube x Mattress Page Orders                  126\n",
              "Direct X Retail Locations Page Orders            11\n",
              "Organic X Retail Locations Page Orders           10\n",
              "Facbeook x Retail Locations Page Orders           9\n",
              "Snapchat X Retail Locations Page Orders           9\n",
              "Google Search X Retail Locations Page Orders      8\n",
              "YouTube x Retail Locations Page Orders            8\n",
              "dtype: int64"
            ]
          },
          "metadata": {},
          "execution_count": 44
        }
      ]
    },
    {
      "cell_type": "markdown",
      "metadata": {
        "id": "l5Ida3mG2tCN"
      },
      "source": [
        "This will show me the least order count for each traffic per each loading page."
      ]
    },
    {
      "cell_type": "code",
      "metadata": {
        "colab": {
          "base_uri": "https://localhost:8080/"
        },
        "id": "rGORsDyX1L-O",
        "outputId": "9ebd9fd6-de58-41c6-c1e7-1e9c091a0dbe"
      },
      "source": [
        "orders_db.min(numeric_only = True).sort_values(ascending=False)"
      ],
      "execution_count": 45,
      "outputs": [
        {
          "output_type": "execute_result",
          "data": {
            "text/plain": [
              "Google Search X Mattress Page Orders            331\n",
              "Google Search X Homepage Orders                 328\n",
              "Google Search X Bedding Page Orders             327\n",
              "Organic X Homepage Orders                       229\n",
              "Organic X Bedding Page Orders                   229\n",
              "Organic X Mattress Page Orders                  228\n",
              "Direct X Homepage Orders                        188\n",
              "Direct X Mattress Page Orders                   175\n",
              "Direct X Bedding Page Orders                    169\n",
              "Facbeook x Bedding Page Orders                   53\n",
              "Facbeook x Homepage Orders                       51\n",
              "Facbeook x Mattress Page Orders                  51\n",
              "YouTube x Homepage Orders                        31\n",
              "YouTube x Mattress Page Orders                   31\n",
              "YouTube x Bedding Page Orders                    27\n",
              "Snapchat X Mattress Page Orders                  18\n",
              "Snapchat X Homepage Orders                       16\n",
              "Snapchat X Bedding Page Orders                    9\n",
              "Facbeook x Retail Locations Page Orders           0\n",
              "Organic X Retail Locations Page Orders            0\n",
              "Direct X Retail Locations Page Orders             0\n",
              "Google Search X Retail Locations Page Orders      0\n",
              "YouTube x Retail Locations Page Orders            0\n",
              "Snapchat X Retail Locations Page Orders           0\n",
              "dtype: int64"
            ]
          },
          "metadata": {},
          "execution_count": 45
        }
      ]
    },
    {
      "cell_type": "markdown",
      "metadata": {
        "id": "n9U2TzKw7Bne"
      },
      "source": [
        "This will show me the highest session count for each \n",
        "traffic per each loading page."
      ]
    },
    {
      "cell_type": "code",
      "metadata": {
        "colab": {
          "base_uri": "https://localhost:8080/"
        },
        "id": "rBsy7Ddc7BRt",
        "outputId": "8954e1f5-ef59-45fc-a63d-c547773c382d"
      },
      "source": [
        "sessions_db.max(numeric_only = True).sort_values(ascending = False)"
      ],
      "execution_count": 46,
      "outputs": [
        {
          "output_type": "execute_result",
          "data": {
            "text/plain": [
              "Google Search X Retail Locations Page Sessions    44867\n",
              "Organic X Retail Locations Page Sessions          40966\n",
              "Google Search X Homepage Sessions                 33295\n",
              "Google Search X Bedding Page Sessions             33139\n",
              "Google Search X Mattress Page Sessions            32777\n",
              "Organic X Mattress Page Sessions                  29196\n",
              "Direct X Retail Locations Page Sessions           29180\n",
              "Organic X Homepage Sessions                       28857\n",
              "Organic X Bedding Page Sessions                   28491\n",
              "Direct X Homepage Sessions                        21090\n",
              "YouTube x Retail Locations Page Sessions          21023\n",
              "Facbeook x Retail Locations Page Sessions         20755\n",
              "Direct X Mattress Page Sessions                   20357\n",
              "Direct X Bedding Page Sessions                    20355\n",
              "Snapchat X Retail Locations Page Sessions         17768\n",
              "Facbeook x Homepage Sessions                      13909\n",
              "YouTube x Bedding Page Sessions                   13034\n",
              "YouTube x Mattress Page Sessions                  12977\n",
              "YouTube x Homepage Sessions                       12634\n",
              "Facbeook x Mattress Page Sessions                 12452\n",
              "Facbeook x Bedding Page Sessions                  12388\n",
              "Snapchat X Homepage Sessions                       8998\n",
              "Snapchat X Mattress Page Sessions                  8403\n",
              "Snapchat X Bedding Page Sessions                   8371\n",
              "dtype: int64"
            ]
          },
          "metadata": {},
          "execution_count": 46
        }
      ]
    },
    {
      "cell_type": "markdown",
      "metadata": {
        "id": "Fk2dhcGj7Bd8"
      },
      "source": [
        "This will show me the lowest session count for each \n",
        "traffic per each loading page."
      ]
    },
    {
      "cell_type": "code",
      "metadata": {
        "colab": {
          "base_uri": "https://localhost:8080/"
        },
        "id": "pqRkIHrv7BEe",
        "outputId": "de20830e-5685-4bdb-dfb3-029fdf136154"
      },
      "source": [
        "sessions_db.min(numeric_only = True).sort_values(ascending=True)"
      ],
      "execution_count": 47,
      "outputs": [
        {
          "output_type": "execute_result",
          "data": {
            "text/plain": [
              "Snapchat X Retail Locations Page Sessions         -1114\n",
              "Snapchat X Mattress Page Sessions                  -710\n",
              "Snapchat X Bedding Page Sessions                   -152\n",
              "Snapchat X Homepage Sessions                       -120\n",
              "Facbeook x Homepage Sessions                       2878\n",
              "YouTube x Bedding Page Sessions                    2948\n",
              "YouTube x Mattress Page Sessions                   2949\n",
              "Facbeook x Bedding Page Sessions                   3114\n",
              "Facbeook x Retail Locations Page Sessions          3478\n",
              "Facbeook x Mattress Page Sessions                  3495\n",
              "YouTube x Homepage Sessions                        3691\n",
              "YouTube x Retail Locations Page Sessions           3833\n",
              "Direct X Bedding Page Sessions                    10202\n",
              "Direct X Retail Locations Page Sessions           11384\n",
              "Direct X Mattress Page Sessions                   11494\n",
              "Direct X Homepage Sessions                        12078\n",
              "Organic X Bedding Page Sessions                   17002\n",
              "Organic X Retail Locations Page Sessions          17415\n",
              "Organic X Mattress Page Sessions                  17467\n",
              "Organic X Homepage Sessions                       17618\n",
              "Google Search X Retail Locations Page Sessions    20938\n",
              "Google Search X Homepage Sessions                 20980\n",
              "Google Search X Bedding Page Sessions             21246\n",
              "Google Search X Mattress Page Sessions            21381\n",
              "dtype: int64"
            ]
          },
          "metadata": {},
          "execution_count": 47
        }
      ]
    },
    {
      "cell_type": "markdown",
      "metadata": {
        "id": "0oCvhGSG7rPy"
      },
      "source": [
        "It seems that there may have been a data error since the snapchat traffic is coming in as negative values. I will have to adjust for this."
      ]
    },
    {
      "cell_type": "code",
      "metadata": {
        "id": "vtIyNu9tF2hy"
      },
      "source": [
        "for x in sessions_db:\n",
        "    if x == sessions_db.columns[0]:\n",
        "        continue\n",
        "    else:\n",
        "        sessions_db[x] = sessions_db[x].abs()"
      ],
      "execution_count": 48,
      "outputs": []
    },
    {
      "cell_type": "code",
      "metadata": {
        "colab": {
          "base_uri": "https://localhost:8080/"
        },
        "id": "GGDz2zfcHGuZ",
        "outputId": "4c3aeae2-d838-4cbc-dfef-364c5c876bdb"
      },
      "source": [
        "sessions_db.min(numeric_only = True).sort_values(ascending=True)"
      ],
      "execution_count": 49,
      "outputs": [
        {
          "output_type": "execute_result",
          "data": {
            "text/plain": [
              "Snapchat X Homepage Sessions                          3\n",
              "Snapchat X Mattress Page Sessions                    28\n",
              "Snapchat X Retail Locations Page Sessions            55\n",
              "Snapchat X Bedding Page Sessions                    111\n",
              "Facbeook x Homepage Sessions                       2878\n",
              "YouTube x Bedding Page Sessions                    2948\n",
              "YouTube x Mattress Page Sessions                   2949\n",
              "Facbeook x Bedding Page Sessions                   3114\n",
              "Facbeook x Retail Locations Page Sessions          3478\n",
              "Facbeook x Mattress Page Sessions                  3495\n",
              "YouTube x Homepage Sessions                        3691\n",
              "YouTube x Retail Locations Page Sessions           3833\n",
              "Direct X Bedding Page Sessions                    10202\n",
              "Direct X Retail Locations Page Sessions           11384\n",
              "Direct X Mattress Page Sessions                   11494\n",
              "Direct X Homepage Sessions                        12078\n",
              "Organic X Bedding Page Sessions                   17002\n",
              "Organic X Retail Locations Page Sessions          17415\n",
              "Organic X Mattress Page Sessions                  17467\n",
              "Organic X Homepage Sessions                       17618\n",
              "Google Search X Retail Locations Page Sessions    20938\n",
              "Google Search X Homepage Sessions                 20980\n",
              "Google Search X Bedding Page Sessions             21246\n",
              "Google Search X Mattress Page Sessions            21381\n",
              "dtype: int64"
            ]
          },
          "metadata": {},
          "execution_count": 49
        }
      ]
    },
    {
      "cell_type": "markdown",
      "metadata": {
        "id": "DOKetKJHuLpY"
      },
      "source": [
        "Goal: What traffic sources are driving the best performance"
      ]
    },
    {
      "cell_type": "markdown",
      "metadata": {
        "id": "9hw1Obsduhzw"
      },
      "source": [
        "To solve this question I determined that the performance metric will be measured with the ratio: Average Order per Average Session. "
      ]
    },
    {
      "cell_type": "markdown",
      "metadata": {
        "id": "BNmZ9T-UwvDn"
      },
      "source": [
        "Creating a new dataframe that I can reference"
      ]
    },
    {
      "cell_type": "code",
      "metadata": {
        "id": "r5v0CKJ1wrlQ"
      },
      "source": [
        "orders_tb = pd.DataFrame()\n",
        "sessions_tb = pd.DataFrame()"
      ],
      "execution_count": 50,
      "outputs": []
    },
    {
      "cell_type": "markdown",
      "metadata": {
        "id": "OegFUQSFwSW5"
      },
      "source": [
        "These two functions are used to split the names and average orders and sessions, respectively storing them in a new dataframe called \"tables\"."
      ]
    },
    {
      "cell_type": "code",
      "metadata": {
        "id": "K_Ynu0gauxUI"
      },
      "source": [
        "def names(db):  \n",
        "    names = []\n",
        "    for x in db:\n",
        "        if x == db.columns[0]:\n",
        "            continue\n",
        "        else:\n",
        "            names.append(x)\n",
        "    return(names)"
      ],
      "execution_count": 51,
      "outputs": []
    },
    {
      "cell_type": "code",
      "metadata": {
        "id": "KbbhtRuPvVZD"
      },
      "source": [
        "def avgs(db):\n",
        "    average = []\n",
        "    for x in db:\n",
        "        if x == db.columns[0]:\n",
        "            continue\n",
        "        else:\n",
        "            #this absolute function will prevent any negative values from passing\n",
        "            average.append(db[x].mean())\n",
        "    return(average)"
      ],
      "execution_count": 52,
      "outputs": []
    },
    {
      "cell_type": "code",
      "metadata": {
        "id": "736HADBXxfNI"
      },
      "source": [
        "orders_tb['names'] = names(orders_db)\n",
        "orders_tb['avg_num_orders'] = avgs(orders_db)"
      ],
      "execution_count": 53,
      "outputs": []
    },
    {
      "cell_type": "code",
      "metadata": {
        "colab": {
          "base_uri": "https://localhost:8080/",
          "height": 793
        },
        "id": "tcuzos0bzHY9",
        "outputId": "b6554de2-6144-4c6c-beb9-bf9ebc424040"
      },
      "source": [
        "orders_tb.sort_values(by=\"avg_num_orders\", ascending=False)"
      ],
      "execution_count": 54,
      "outputs": [
        {
          "output_type": "execute_result",
          "data": {
            "text/html": [
              "<div>\n",
              "<style scoped>\n",
              "    .dataframe tbody tr th:only-of-type {\n",
              "        vertical-align: middle;\n",
              "    }\n",
              "\n",
              "    .dataframe tbody tr th {\n",
              "        vertical-align: top;\n",
              "    }\n",
              "\n",
              "    .dataframe thead th {\n",
              "        text-align: right;\n",
              "    }\n",
              "</style>\n",
              "<table border=\"1\" class=\"dataframe\">\n",
              "  <thead>\n",
              "    <tr style=\"text-align: right;\">\n",
              "      <th></th>\n",
              "      <th>names</th>\n",
              "      <th>avg_num_orders</th>\n",
              "    </tr>\n",
              "  </thead>\n",
              "  <tbody>\n",
              "    <tr>\n",
              "      <th>8</th>\n",
              "      <td>Google Search X Mattress Page Orders</td>\n",
              "      <td>360.389877</td>\n",
              "    </tr>\n",
              "    <tr>\n",
              "      <th>2</th>\n",
              "      <td>Google Search X Homepage Orders</td>\n",
              "      <td>359.965800</td>\n",
              "    </tr>\n",
              "    <tr>\n",
              "      <th>14</th>\n",
              "      <td>Google Search X Bedding Page Orders</td>\n",
              "      <td>359.238030</td>\n",
              "    </tr>\n",
              "    <tr>\n",
              "      <th>0</th>\n",
              "      <td>Organic X Homepage Orders</td>\n",
              "      <td>264.640219</td>\n",
              "    </tr>\n",
              "    <tr>\n",
              "      <th>6</th>\n",
              "      <td>Organic X Mattress Page Orders</td>\n",
              "      <td>264.564979</td>\n",
              "    </tr>\n",
              "    <tr>\n",
              "      <th>12</th>\n",
              "      <td>Organic X Bedding Page Orders</td>\n",
              "      <td>264.461012</td>\n",
              "    </tr>\n",
              "    <tr>\n",
              "      <th>13</th>\n",
              "      <td>Direct X Bedding Page Orders</td>\n",
              "      <td>240.350205</td>\n",
              "    </tr>\n",
              "    <tr>\n",
              "      <th>1</th>\n",
              "      <td>Direct X Homepage Orders</td>\n",
              "      <td>239.987688</td>\n",
              "    </tr>\n",
              "    <tr>\n",
              "      <th>7</th>\n",
              "      <td>Direct X Mattress Page Orders</td>\n",
              "      <td>238.477428</td>\n",
              "    </tr>\n",
              "    <tr>\n",
              "      <th>16</th>\n",
              "      <td>Facbeook x Bedding Page Orders</td>\n",
              "      <td>100.009576</td>\n",
              "    </tr>\n",
              "    <tr>\n",
              "      <th>4</th>\n",
              "      <td>Facbeook x Homepage Orders</td>\n",
              "      <td>99.641587</td>\n",
              "    </tr>\n",
              "    <tr>\n",
              "      <th>10</th>\n",
              "      <td>Facbeook x Mattress Page Orders</td>\n",
              "      <td>98.965800</td>\n",
              "    </tr>\n",
              "    <tr>\n",
              "      <th>3</th>\n",
              "      <td>YouTube x Homepage Orders</td>\n",
              "      <td>80.225718</td>\n",
              "    </tr>\n",
              "    <tr>\n",
              "      <th>11</th>\n",
              "      <td>Snapchat X Mattress Page Orders</td>\n",
              "      <td>79.592339</td>\n",
              "    </tr>\n",
              "    <tr>\n",
              "      <th>15</th>\n",
              "      <td>YouTube x Bedding Page Orders</td>\n",
              "      <td>79.580027</td>\n",
              "    </tr>\n",
              "    <tr>\n",
              "      <th>9</th>\n",
              "      <td>YouTube x Mattress Page Orders</td>\n",
              "      <td>79.414501</td>\n",
              "    </tr>\n",
              "    <tr>\n",
              "      <th>5</th>\n",
              "      <td>Snapchat X Homepage Orders</td>\n",
              "      <td>79.136799</td>\n",
              "    </tr>\n",
              "    <tr>\n",
              "      <th>17</th>\n",
              "      <td>Snapchat X Bedding Page Orders</td>\n",
              "      <td>79.030096</td>\n",
              "    </tr>\n",
              "    <tr>\n",
              "      <th>23</th>\n",
              "      <td>Snapchat X Retail Locations Page Orders</td>\n",
              "      <td>1.926129</td>\n",
              "    </tr>\n",
              "    <tr>\n",
              "      <th>22</th>\n",
              "      <td>Facbeook x Retail Locations Page Orders</td>\n",
              "      <td>1.922025</td>\n",
              "    </tr>\n",
              "    <tr>\n",
              "      <th>18</th>\n",
              "      <td>Organic X Retail Locations Page Orders</td>\n",
              "      <td>1.917921</td>\n",
              "    </tr>\n",
              "    <tr>\n",
              "      <th>19</th>\n",
              "      <td>Direct X Retail Locations Page Orders</td>\n",
              "      <td>1.878249</td>\n",
              "    </tr>\n",
              "    <tr>\n",
              "      <th>20</th>\n",
              "      <td>Google Search X Retail Locations Page Orders</td>\n",
              "      <td>1.846785</td>\n",
              "    </tr>\n",
              "    <tr>\n",
              "      <th>21</th>\n",
              "      <td>YouTube x Retail Locations Page Orders</td>\n",
              "      <td>1.824897</td>\n",
              "    </tr>\n",
              "  </tbody>\n",
              "</table>\n",
              "</div>"
            ],
            "text/plain": [
              "                                           names  avg_num_orders\n",
              "8           Google Search X Mattress Page Orders      360.389877\n",
              "2                Google Search X Homepage Orders      359.965800\n",
              "14           Google Search X Bedding Page Orders      359.238030\n",
              "0                      Organic X Homepage Orders      264.640219\n",
              "6                 Organic X Mattress Page Orders      264.564979\n",
              "12                 Organic X Bedding Page Orders      264.461012\n",
              "13                  Direct X Bedding Page Orders      240.350205\n",
              "1                       Direct X Homepage Orders      239.987688\n",
              "7                  Direct X Mattress Page Orders      238.477428\n",
              "16                Facbeook x Bedding Page Orders      100.009576\n",
              "4                     Facbeook x Homepage Orders       99.641587\n",
              "10               Facbeook x Mattress Page Orders       98.965800\n",
              "3                      YouTube x Homepage Orders       80.225718\n",
              "11               Snapchat X Mattress Page Orders       79.592339\n",
              "15                 YouTube x Bedding Page Orders       79.580027\n",
              "9                 YouTube x Mattress Page Orders       79.414501\n",
              "5                     Snapchat X Homepage Orders       79.136799\n",
              "17                Snapchat X Bedding Page Orders       79.030096\n",
              "23       Snapchat X Retail Locations Page Orders        1.926129\n",
              "22       Facbeook x Retail Locations Page Orders        1.922025\n",
              "18        Organic X Retail Locations Page Orders        1.917921\n",
              "19         Direct X Retail Locations Page Orders        1.878249\n",
              "20  Google Search X Retail Locations Page Orders        1.846785\n",
              "21        YouTube x Retail Locations Page Orders        1.824897"
            ]
          },
          "metadata": {},
          "execution_count": 54
        }
      ]
    },
    {
      "cell_type": "code",
      "metadata": {
        "id": "6kbB_lt50NJs"
      },
      "source": [
        "sessions_tb['name'] = names(sessions_db)\n",
        "sessions_tb['avg_num_sessions'] = avgs(sessions_db)"
      ],
      "execution_count": 55,
      "outputs": []
    },
    {
      "cell_type": "code",
      "metadata": {
        "colab": {
          "base_uri": "https://localhost:8080/",
          "height": 793
        },
        "id": "xqKNsyW80gXd",
        "outputId": "d5e3f610-b8a6-498c-f67d-0bbd777f53e4"
      },
      "source": [
        "sessions_tb.sort_values(by=\"avg_num_sessions\", ascending=False)"
      ],
      "execution_count": 56,
      "outputs": [
        {
          "output_type": "execute_result",
          "data": {
            "text/html": [
              "<div>\n",
              "<style scoped>\n",
              "    .dataframe tbody tr th:only-of-type {\n",
              "        vertical-align: middle;\n",
              "    }\n",
              "\n",
              "    .dataframe tbody tr th {\n",
              "        vertical-align: top;\n",
              "    }\n",
              "\n",
              "    .dataframe thead th {\n",
              "        text-align: right;\n",
              "    }\n",
              "</style>\n",
              "<table border=\"1\" class=\"dataframe\">\n",
              "  <thead>\n",
              "    <tr style=\"text-align: right;\">\n",
              "      <th></th>\n",
              "      <th>name</th>\n",
              "      <th>avg_num_sessions</th>\n",
              "    </tr>\n",
              "  </thead>\n",
              "  <tbody>\n",
              "    <tr>\n",
              "      <th>20</th>\n",
              "      <td>Google Search X Retail Locations Page Sessions</td>\n",
              "      <td>32994.887825</td>\n",
              "    </tr>\n",
              "    <tr>\n",
              "      <th>18</th>\n",
              "      <td>Organic X Retail Locations Page Sessions</td>\n",
              "      <td>29065.623803</td>\n",
              "    </tr>\n",
              "    <tr>\n",
              "      <th>14</th>\n",
              "      <td>Google Search X Bedding Page Sessions</td>\n",
              "      <td>26977.514364</td>\n",
              "    </tr>\n",
              "    <tr>\n",
              "      <th>2</th>\n",
              "      <td>Google Search X Homepage Sessions</td>\n",
              "      <td>26976.236662</td>\n",
              "    </tr>\n",
              "    <tr>\n",
              "      <th>8</th>\n",
              "      <td>Google Search X Mattress Page Sessions</td>\n",
              "      <td>26950.715458</td>\n",
              "    </tr>\n",
              "    <tr>\n",
              "      <th>6</th>\n",
              "      <td>Organic X Mattress Page Sessions</td>\n",
              "      <td>23049.727770</td>\n",
              "    </tr>\n",
              "    <tr>\n",
              "      <th>12</th>\n",
              "      <td>Organic X Bedding Page Sessions</td>\n",
              "      <td>23006.287278</td>\n",
              "    </tr>\n",
              "    <tr>\n",
              "      <th>0</th>\n",
              "      <td>Organic X Homepage Sessions</td>\n",
              "      <td>23002.906977</td>\n",
              "    </tr>\n",
              "    <tr>\n",
              "      <th>19</th>\n",
              "      <td>Direct X Retail Locations Page Sessions</td>\n",
              "      <td>19967.641587</td>\n",
              "    </tr>\n",
              "    <tr>\n",
              "      <th>1</th>\n",
              "      <td>Direct X Homepage Sessions</td>\n",
              "      <td>16014.726402</td>\n",
              "    </tr>\n",
              "    <tr>\n",
              "      <th>13</th>\n",
              "      <td>Direct X Bedding Page Sessions</td>\n",
              "      <td>15976.444596</td>\n",
              "    </tr>\n",
              "    <tr>\n",
              "      <th>7</th>\n",
              "      <td>Direct X Mattress Page Sessions</td>\n",
              "      <td>15956.187415</td>\n",
              "    </tr>\n",
              "    <tr>\n",
              "      <th>22</th>\n",
              "      <td>Facbeook x Retail Locations Page Sessions</td>\n",
              "      <td>12062.614227</td>\n",
              "    </tr>\n",
              "    <tr>\n",
              "      <th>21</th>\n",
              "      <td>YouTube x Retail Locations Page Sessions</td>\n",
              "      <td>11999.151847</td>\n",
              "    </tr>\n",
              "    <tr>\n",
              "      <th>23</th>\n",
              "      <td>Snapchat X Retail Locations Page Sessions</td>\n",
              "      <td>8045.370725</td>\n",
              "    </tr>\n",
              "    <tr>\n",
              "      <th>9</th>\n",
              "      <td>YouTube x Mattress Page Sessions</td>\n",
              "      <td>8016.127223</td>\n",
              "    </tr>\n",
              "    <tr>\n",
              "      <th>3</th>\n",
              "      <td>YouTube x Homepage Sessions</td>\n",
              "      <td>7995.202462</td>\n",
              "    </tr>\n",
              "    <tr>\n",
              "      <th>15</th>\n",
              "      <td>YouTube x Bedding Page Sessions</td>\n",
              "      <td>7966.879617</td>\n",
              "    </tr>\n",
              "    <tr>\n",
              "      <th>16</th>\n",
              "      <td>Facbeook x Bedding Page Sessions</td>\n",
              "      <td>7961.604651</td>\n",
              "    </tr>\n",
              "    <tr>\n",
              "      <th>10</th>\n",
              "      <td>Facbeook x Mattress Page Sessions</td>\n",
              "      <td>7954.703146</td>\n",
              "    </tr>\n",
              "    <tr>\n",
              "      <th>4</th>\n",
              "      <td>Facbeook x Homepage Sessions</td>\n",
              "      <td>7940.017784</td>\n",
              "    </tr>\n",
              "    <tr>\n",
              "      <th>17</th>\n",
              "      <td>Snapchat X Bedding Page Sessions</td>\n",
              "      <td>4033.871409</td>\n",
              "    </tr>\n",
              "    <tr>\n",
              "      <th>11</th>\n",
              "      <td>Snapchat X Mattress Page Sessions</td>\n",
              "      <td>4016.663475</td>\n",
              "    </tr>\n",
              "    <tr>\n",
              "      <th>5</th>\n",
              "      <td>Snapchat X Homepage Sessions</td>\n",
              "      <td>4010.818057</td>\n",
              "    </tr>\n",
              "  </tbody>\n",
              "</table>\n",
              "</div>"
            ],
            "text/plain": [
              "                                              name  avg_num_sessions\n",
              "20  Google Search X Retail Locations Page Sessions      32994.887825\n",
              "18        Organic X Retail Locations Page Sessions      29065.623803\n",
              "14           Google Search X Bedding Page Sessions      26977.514364\n",
              "2                Google Search X Homepage Sessions      26976.236662\n",
              "8           Google Search X Mattress Page Sessions      26950.715458\n",
              "6                 Organic X Mattress Page Sessions      23049.727770\n",
              "12                 Organic X Bedding Page Sessions      23006.287278\n",
              "0                      Organic X Homepage Sessions      23002.906977\n",
              "19         Direct X Retail Locations Page Sessions      19967.641587\n",
              "1                       Direct X Homepage Sessions      16014.726402\n",
              "13                  Direct X Bedding Page Sessions      15976.444596\n",
              "7                  Direct X Mattress Page Sessions      15956.187415\n",
              "22       Facbeook x Retail Locations Page Sessions      12062.614227\n",
              "21        YouTube x Retail Locations Page Sessions      11999.151847\n",
              "23       Snapchat X Retail Locations Page Sessions       8045.370725\n",
              "9                 YouTube x Mattress Page Sessions       8016.127223\n",
              "3                      YouTube x Homepage Sessions       7995.202462\n",
              "15                 YouTube x Bedding Page Sessions       7966.879617\n",
              "16                Facbeook x Bedding Page Sessions       7961.604651\n",
              "10               Facbeook x Mattress Page Sessions       7954.703146\n",
              "4                     Facbeook x Homepage Sessions       7940.017784\n",
              "17                Snapchat X Bedding Page Sessions       4033.871409\n",
              "11               Snapchat X Mattress Page Sessions       4016.663475\n",
              "5                     Snapchat X Homepage Sessions       4010.818057"
            ]
          },
          "metadata": {},
          "execution_count": 56
        }
      ]
    },
    {
      "cell_type": "markdown",
      "metadata": {
        "id": "AqXB8_weqIBB"
      },
      "source": [
        "This will join the tables in order to work with both datasets together."
      ]
    },
    {
      "cell_type": "code",
      "metadata": {
        "id": "h4GXm7XN1WeV"
      },
      "source": [
        "tb = sessions_tb.join(orders_tb)"
      ],
      "execution_count": 57,
      "outputs": []
    },
    {
      "cell_type": "code",
      "metadata": {
        "colab": {
          "base_uri": "https://localhost:8080/",
          "height": 793
        },
        "id": "spGUmbB42HDG",
        "outputId": "9b558c1e-0138-401f-e91c-8cf0e7ce4832"
      },
      "source": [
        "tb"
      ],
      "execution_count": 58,
      "outputs": [
        {
          "output_type": "execute_result",
          "data": {
            "text/html": [
              "<div>\n",
              "<style scoped>\n",
              "    .dataframe tbody tr th:only-of-type {\n",
              "        vertical-align: middle;\n",
              "    }\n",
              "\n",
              "    .dataframe tbody tr th {\n",
              "        vertical-align: top;\n",
              "    }\n",
              "\n",
              "    .dataframe thead th {\n",
              "        text-align: right;\n",
              "    }\n",
              "</style>\n",
              "<table border=\"1\" class=\"dataframe\">\n",
              "  <thead>\n",
              "    <tr style=\"text-align: right;\">\n",
              "      <th></th>\n",
              "      <th>name</th>\n",
              "      <th>avg_num_sessions</th>\n",
              "      <th>names</th>\n",
              "      <th>avg_num_orders</th>\n",
              "    </tr>\n",
              "  </thead>\n",
              "  <tbody>\n",
              "    <tr>\n",
              "      <th>0</th>\n",
              "      <td>Organic X Homepage Sessions</td>\n",
              "      <td>23002.906977</td>\n",
              "      <td>Organic X Homepage Orders</td>\n",
              "      <td>264.640219</td>\n",
              "    </tr>\n",
              "    <tr>\n",
              "      <th>1</th>\n",
              "      <td>Direct X Homepage Sessions</td>\n",
              "      <td>16014.726402</td>\n",
              "      <td>Direct X Homepage Orders</td>\n",
              "      <td>239.987688</td>\n",
              "    </tr>\n",
              "    <tr>\n",
              "      <th>2</th>\n",
              "      <td>Google Search X Homepage Sessions</td>\n",
              "      <td>26976.236662</td>\n",
              "      <td>Google Search X Homepage Orders</td>\n",
              "      <td>359.965800</td>\n",
              "    </tr>\n",
              "    <tr>\n",
              "      <th>3</th>\n",
              "      <td>YouTube x Homepage Sessions</td>\n",
              "      <td>7995.202462</td>\n",
              "      <td>YouTube x Homepage Orders</td>\n",
              "      <td>80.225718</td>\n",
              "    </tr>\n",
              "    <tr>\n",
              "      <th>4</th>\n",
              "      <td>Facbeook x Homepage Sessions</td>\n",
              "      <td>7940.017784</td>\n",
              "      <td>Facbeook x Homepage Orders</td>\n",
              "      <td>99.641587</td>\n",
              "    </tr>\n",
              "    <tr>\n",
              "      <th>5</th>\n",
              "      <td>Snapchat X Homepage Sessions</td>\n",
              "      <td>4010.818057</td>\n",
              "      <td>Snapchat X Homepage Orders</td>\n",
              "      <td>79.136799</td>\n",
              "    </tr>\n",
              "    <tr>\n",
              "      <th>6</th>\n",
              "      <td>Organic X Mattress Page Sessions</td>\n",
              "      <td>23049.727770</td>\n",
              "      <td>Organic X Mattress Page Orders</td>\n",
              "      <td>264.564979</td>\n",
              "    </tr>\n",
              "    <tr>\n",
              "      <th>7</th>\n",
              "      <td>Direct X Mattress Page Sessions</td>\n",
              "      <td>15956.187415</td>\n",
              "      <td>Direct X Mattress Page Orders</td>\n",
              "      <td>238.477428</td>\n",
              "    </tr>\n",
              "    <tr>\n",
              "      <th>8</th>\n",
              "      <td>Google Search X Mattress Page Sessions</td>\n",
              "      <td>26950.715458</td>\n",
              "      <td>Google Search X Mattress Page Orders</td>\n",
              "      <td>360.389877</td>\n",
              "    </tr>\n",
              "    <tr>\n",
              "      <th>9</th>\n",
              "      <td>YouTube x Mattress Page Sessions</td>\n",
              "      <td>8016.127223</td>\n",
              "      <td>YouTube x Mattress Page Orders</td>\n",
              "      <td>79.414501</td>\n",
              "    </tr>\n",
              "    <tr>\n",
              "      <th>10</th>\n",
              "      <td>Facbeook x Mattress Page Sessions</td>\n",
              "      <td>7954.703146</td>\n",
              "      <td>Facbeook x Mattress Page Orders</td>\n",
              "      <td>98.965800</td>\n",
              "    </tr>\n",
              "    <tr>\n",
              "      <th>11</th>\n",
              "      <td>Snapchat X Mattress Page Sessions</td>\n",
              "      <td>4016.663475</td>\n",
              "      <td>Snapchat X Mattress Page Orders</td>\n",
              "      <td>79.592339</td>\n",
              "    </tr>\n",
              "    <tr>\n",
              "      <th>12</th>\n",
              "      <td>Organic X Bedding Page Sessions</td>\n",
              "      <td>23006.287278</td>\n",
              "      <td>Organic X Bedding Page Orders</td>\n",
              "      <td>264.461012</td>\n",
              "    </tr>\n",
              "    <tr>\n",
              "      <th>13</th>\n",
              "      <td>Direct X Bedding Page Sessions</td>\n",
              "      <td>15976.444596</td>\n",
              "      <td>Direct X Bedding Page Orders</td>\n",
              "      <td>240.350205</td>\n",
              "    </tr>\n",
              "    <tr>\n",
              "      <th>14</th>\n",
              "      <td>Google Search X Bedding Page Sessions</td>\n",
              "      <td>26977.514364</td>\n",
              "      <td>Google Search X Bedding Page Orders</td>\n",
              "      <td>359.238030</td>\n",
              "    </tr>\n",
              "    <tr>\n",
              "      <th>15</th>\n",
              "      <td>YouTube x Bedding Page Sessions</td>\n",
              "      <td>7966.879617</td>\n",
              "      <td>YouTube x Bedding Page Orders</td>\n",
              "      <td>79.580027</td>\n",
              "    </tr>\n",
              "    <tr>\n",
              "      <th>16</th>\n",
              "      <td>Facbeook x Bedding Page Sessions</td>\n",
              "      <td>7961.604651</td>\n",
              "      <td>Facbeook x Bedding Page Orders</td>\n",
              "      <td>100.009576</td>\n",
              "    </tr>\n",
              "    <tr>\n",
              "      <th>17</th>\n",
              "      <td>Snapchat X Bedding Page Sessions</td>\n",
              "      <td>4033.871409</td>\n",
              "      <td>Snapchat X Bedding Page Orders</td>\n",
              "      <td>79.030096</td>\n",
              "    </tr>\n",
              "    <tr>\n",
              "      <th>18</th>\n",
              "      <td>Organic X Retail Locations Page Sessions</td>\n",
              "      <td>29065.623803</td>\n",
              "      <td>Organic X Retail Locations Page Orders</td>\n",
              "      <td>1.917921</td>\n",
              "    </tr>\n",
              "    <tr>\n",
              "      <th>19</th>\n",
              "      <td>Direct X Retail Locations Page Sessions</td>\n",
              "      <td>19967.641587</td>\n",
              "      <td>Direct X Retail Locations Page Orders</td>\n",
              "      <td>1.878249</td>\n",
              "    </tr>\n",
              "    <tr>\n",
              "      <th>20</th>\n",
              "      <td>Google Search X Retail Locations Page Sessions</td>\n",
              "      <td>32994.887825</td>\n",
              "      <td>Google Search X Retail Locations Page Orders</td>\n",
              "      <td>1.846785</td>\n",
              "    </tr>\n",
              "    <tr>\n",
              "      <th>21</th>\n",
              "      <td>YouTube x Retail Locations Page Sessions</td>\n",
              "      <td>11999.151847</td>\n",
              "      <td>YouTube x Retail Locations Page Orders</td>\n",
              "      <td>1.824897</td>\n",
              "    </tr>\n",
              "    <tr>\n",
              "      <th>22</th>\n",
              "      <td>Facbeook x Retail Locations Page Sessions</td>\n",
              "      <td>12062.614227</td>\n",
              "      <td>Facbeook x Retail Locations Page Orders</td>\n",
              "      <td>1.922025</td>\n",
              "    </tr>\n",
              "    <tr>\n",
              "      <th>23</th>\n",
              "      <td>Snapchat X Retail Locations Page Sessions</td>\n",
              "      <td>8045.370725</td>\n",
              "      <td>Snapchat X Retail Locations Page Orders</td>\n",
              "      <td>1.926129</td>\n",
              "    </tr>\n",
              "  </tbody>\n",
              "</table>\n",
              "</div>"
            ],
            "text/plain": [
              "                                              name  ...  avg_num_orders\n",
              "0                      Organic X Homepage Sessions  ...      264.640219\n",
              "1                       Direct X Homepage Sessions  ...      239.987688\n",
              "2                Google Search X Homepage Sessions  ...      359.965800\n",
              "3                      YouTube x Homepage Sessions  ...       80.225718\n",
              "4                     Facbeook x Homepage Sessions  ...       99.641587\n",
              "5                     Snapchat X Homepage Sessions  ...       79.136799\n",
              "6                 Organic X Mattress Page Sessions  ...      264.564979\n",
              "7                  Direct X Mattress Page Sessions  ...      238.477428\n",
              "8           Google Search X Mattress Page Sessions  ...      360.389877\n",
              "9                 YouTube x Mattress Page Sessions  ...       79.414501\n",
              "10               Facbeook x Mattress Page Sessions  ...       98.965800\n",
              "11               Snapchat X Mattress Page Sessions  ...       79.592339\n",
              "12                 Organic X Bedding Page Sessions  ...      264.461012\n",
              "13                  Direct X Bedding Page Sessions  ...      240.350205\n",
              "14           Google Search X Bedding Page Sessions  ...      359.238030\n",
              "15                 YouTube x Bedding Page Sessions  ...       79.580027\n",
              "16                Facbeook x Bedding Page Sessions  ...      100.009576\n",
              "17                Snapchat X Bedding Page Sessions  ...       79.030096\n",
              "18        Organic X Retail Locations Page Sessions  ...        1.917921\n",
              "19         Direct X Retail Locations Page Sessions  ...        1.878249\n",
              "20  Google Search X Retail Locations Page Sessions  ...        1.846785\n",
              "21        YouTube x Retail Locations Page Sessions  ...        1.824897\n",
              "22       Facbeook x Retail Locations Page Sessions  ...        1.922025\n",
              "23       Snapchat X Retail Locations Page Sessions  ...        1.926129\n",
              "\n",
              "[24 rows x 4 columns]"
            ]
          },
          "metadata": {},
          "execution_count": 58
        }
      ]
    },
    {
      "cell_type": "markdown",
      "metadata": {
        "id": "i2FIL2blqPBe"
      },
      "source": [
        "This will create a new column called performance which is based on my definition of performance (avg orders per avg session)"
      ]
    },
    {
      "cell_type": "code",
      "metadata": {
        "id": "gdTgw-XQ2Nxf"
      },
      "source": [
        "tb['Performance'] = tb['avg_num_orders']/tb['avg_num_sessions']"
      ],
      "execution_count": 59,
      "outputs": []
    },
    {
      "cell_type": "code",
      "metadata": {
        "colab": {
          "base_uri": "https://localhost:8080/",
          "height": 810
        },
        "id": "IqgaAIS-2Yj8",
        "outputId": "c2d51825-691b-459d-f4ab-de4297b5ce34"
      },
      "source": [
        "display(tb.sort_values(by=['Performance'], ascending=False))"
      ],
      "execution_count": 60,
      "outputs": [
        {
          "output_type": "display_data",
          "data": {
            "text/html": [
              "<div>\n",
              "<style scoped>\n",
              "    .dataframe tbody tr th:only-of-type {\n",
              "        vertical-align: middle;\n",
              "    }\n",
              "\n",
              "    .dataframe tbody tr th {\n",
              "        vertical-align: top;\n",
              "    }\n",
              "\n",
              "    .dataframe thead th {\n",
              "        text-align: right;\n",
              "    }\n",
              "</style>\n",
              "<table border=\"1\" class=\"dataframe\">\n",
              "  <thead>\n",
              "    <tr style=\"text-align: right;\">\n",
              "      <th></th>\n",
              "      <th>name</th>\n",
              "      <th>avg_num_sessions</th>\n",
              "      <th>names</th>\n",
              "      <th>avg_num_orders</th>\n",
              "      <th>Performance</th>\n",
              "    </tr>\n",
              "  </thead>\n",
              "  <tbody>\n",
              "    <tr>\n",
              "      <th>11</th>\n",
              "      <td>Snapchat X Mattress Page Sessions</td>\n",
              "      <td>4016.663475</td>\n",
              "      <td>Snapchat X Mattress Page Orders</td>\n",
              "      <td>79.592339</td>\n",
              "      <td>0.019816</td>\n",
              "    </tr>\n",
              "    <tr>\n",
              "      <th>5</th>\n",
              "      <td>Snapchat X Homepage Sessions</td>\n",
              "      <td>4010.818057</td>\n",
              "      <td>Snapchat X Homepage Orders</td>\n",
              "      <td>79.136799</td>\n",
              "      <td>0.019731</td>\n",
              "    </tr>\n",
              "    <tr>\n",
              "      <th>17</th>\n",
              "      <td>Snapchat X Bedding Page Sessions</td>\n",
              "      <td>4033.871409</td>\n",
              "      <td>Snapchat X Bedding Page Orders</td>\n",
              "      <td>79.030096</td>\n",
              "      <td>0.019592</td>\n",
              "    </tr>\n",
              "    <tr>\n",
              "      <th>13</th>\n",
              "      <td>Direct X Bedding Page Sessions</td>\n",
              "      <td>15976.444596</td>\n",
              "      <td>Direct X Bedding Page Orders</td>\n",
              "      <td>240.350205</td>\n",
              "      <td>0.015044</td>\n",
              "    </tr>\n",
              "    <tr>\n",
              "      <th>1</th>\n",
              "      <td>Direct X Homepage Sessions</td>\n",
              "      <td>16014.726402</td>\n",
              "      <td>Direct X Homepage Orders</td>\n",
              "      <td>239.987688</td>\n",
              "      <td>0.014985</td>\n",
              "    </tr>\n",
              "    <tr>\n",
              "      <th>7</th>\n",
              "      <td>Direct X Mattress Page Sessions</td>\n",
              "      <td>15956.187415</td>\n",
              "      <td>Direct X Mattress Page Orders</td>\n",
              "      <td>238.477428</td>\n",
              "      <td>0.014946</td>\n",
              "    </tr>\n",
              "    <tr>\n",
              "      <th>8</th>\n",
              "      <td>Google Search X Mattress Page Sessions</td>\n",
              "      <td>26950.715458</td>\n",
              "      <td>Google Search X Mattress Page Orders</td>\n",
              "      <td>360.389877</td>\n",
              "      <td>0.013372</td>\n",
              "    </tr>\n",
              "    <tr>\n",
              "      <th>2</th>\n",
              "      <td>Google Search X Homepage Sessions</td>\n",
              "      <td>26976.236662</td>\n",
              "      <td>Google Search X Homepage Orders</td>\n",
              "      <td>359.965800</td>\n",
              "      <td>0.013344</td>\n",
              "    </tr>\n",
              "    <tr>\n",
              "      <th>14</th>\n",
              "      <td>Google Search X Bedding Page Sessions</td>\n",
              "      <td>26977.514364</td>\n",
              "      <td>Google Search X Bedding Page Orders</td>\n",
              "      <td>359.238030</td>\n",
              "      <td>0.013316</td>\n",
              "    </tr>\n",
              "    <tr>\n",
              "      <th>16</th>\n",
              "      <td>Facbeook x Bedding Page Sessions</td>\n",
              "      <td>7961.604651</td>\n",
              "      <td>Facbeook x Bedding Page Orders</td>\n",
              "      <td>100.009576</td>\n",
              "      <td>0.012561</td>\n",
              "    </tr>\n",
              "    <tr>\n",
              "      <th>4</th>\n",
              "      <td>Facbeook x Homepage Sessions</td>\n",
              "      <td>7940.017784</td>\n",
              "      <td>Facbeook x Homepage Orders</td>\n",
              "      <td>99.641587</td>\n",
              "      <td>0.012549</td>\n",
              "    </tr>\n",
              "    <tr>\n",
              "      <th>10</th>\n",
              "      <td>Facbeook x Mattress Page Sessions</td>\n",
              "      <td>7954.703146</td>\n",
              "      <td>Facbeook x Mattress Page Orders</td>\n",
              "      <td>98.965800</td>\n",
              "      <td>0.012441</td>\n",
              "    </tr>\n",
              "    <tr>\n",
              "      <th>0</th>\n",
              "      <td>Organic X Homepage Sessions</td>\n",
              "      <td>23002.906977</td>\n",
              "      <td>Organic X Homepage Orders</td>\n",
              "      <td>264.640219</td>\n",
              "      <td>0.011505</td>\n",
              "    </tr>\n",
              "    <tr>\n",
              "      <th>12</th>\n",
              "      <td>Organic X Bedding Page Sessions</td>\n",
              "      <td>23006.287278</td>\n",
              "      <td>Organic X Bedding Page Orders</td>\n",
              "      <td>264.461012</td>\n",
              "      <td>0.011495</td>\n",
              "    </tr>\n",
              "    <tr>\n",
              "      <th>6</th>\n",
              "      <td>Organic X Mattress Page Sessions</td>\n",
              "      <td>23049.727770</td>\n",
              "      <td>Organic X Mattress Page Orders</td>\n",
              "      <td>264.564979</td>\n",
              "      <td>0.011478</td>\n",
              "    </tr>\n",
              "    <tr>\n",
              "      <th>3</th>\n",
              "      <td>YouTube x Homepage Sessions</td>\n",
              "      <td>7995.202462</td>\n",
              "      <td>YouTube x Homepage Orders</td>\n",
              "      <td>80.225718</td>\n",
              "      <td>0.010034</td>\n",
              "    </tr>\n",
              "    <tr>\n",
              "      <th>15</th>\n",
              "      <td>YouTube x Bedding Page Sessions</td>\n",
              "      <td>7966.879617</td>\n",
              "      <td>YouTube x Bedding Page Orders</td>\n",
              "      <td>79.580027</td>\n",
              "      <td>0.009989</td>\n",
              "    </tr>\n",
              "    <tr>\n",
              "      <th>9</th>\n",
              "      <td>YouTube x Mattress Page Sessions</td>\n",
              "      <td>8016.127223</td>\n",
              "      <td>YouTube x Mattress Page Orders</td>\n",
              "      <td>79.414501</td>\n",
              "      <td>0.009907</td>\n",
              "    </tr>\n",
              "    <tr>\n",
              "      <th>23</th>\n",
              "      <td>Snapchat X Retail Locations Page Sessions</td>\n",
              "      <td>8045.370725</td>\n",
              "      <td>Snapchat X Retail Locations Page Orders</td>\n",
              "      <td>1.926129</td>\n",
              "      <td>0.000239</td>\n",
              "    </tr>\n",
              "    <tr>\n",
              "      <th>22</th>\n",
              "      <td>Facbeook x Retail Locations Page Sessions</td>\n",
              "      <td>12062.614227</td>\n",
              "      <td>Facbeook x Retail Locations Page Orders</td>\n",
              "      <td>1.922025</td>\n",
              "      <td>0.000159</td>\n",
              "    </tr>\n",
              "    <tr>\n",
              "      <th>21</th>\n",
              "      <td>YouTube x Retail Locations Page Sessions</td>\n",
              "      <td>11999.151847</td>\n",
              "      <td>YouTube x Retail Locations Page Orders</td>\n",
              "      <td>1.824897</td>\n",
              "      <td>0.000152</td>\n",
              "    </tr>\n",
              "    <tr>\n",
              "      <th>19</th>\n",
              "      <td>Direct X Retail Locations Page Sessions</td>\n",
              "      <td>19967.641587</td>\n",
              "      <td>Direct X Retail Locations Page Orders</td>\n",
              "      <td>1.878249</td>\n",
              "      <td>0.000094</td>\n",
              "    </tr>\n",
              "    <tr>\n",
              "      <th>18</th>\n",
              "      <td>Organic X Retail Locations Page Sessions</td>\n",
              "      <td>29065.623803</td>\n",
              "      <td>Organic X Retail Locations Page Orders</td>\n",
              "      <td>1.917921</td>\n",
              "      <td>0.000066</td>\n",
              "    </tr>\n",
              "    <tr>\n",
              "      <th>20</th>\n",
              "      <td>Google Search X Retail Locations Page Sessions</td>\n",
              "      <td>32994.887825</td>\n",
              "      <td>Google Search X Retail Locations Page Orders</td>\n",
              "      <td>1.846785</td>\n",
              "      <td>0.000056</td>\n",
              "    </tr>\n",
              "  </tbody>\n",
              "</table>\n",
              "</div>"
            ],
            "text/plain": [
              "                                              name  ...  Performance\n",
              "11               Snapchat X Mattress Page Sessions  ...     0.019816\n",
              "5                     Snapchat X Homepage Sessions  ...     0.019731\n",
              "17                Snapchat X Bedding Page Sessions  ...     0.019592\n",
              "13                  Direct X Bedding Page Sessions  ...     0.015044\n",
              "1                       Direct X Homepage Sessions  ...     0.014985\n",
              "7                  Direct X Mattress Page Sessions  ...     0.014946\n",
              "8           Google Search X Mattress Page Sessions  ...     0.013372\n",
              "2                Google Search X Homepage Sessions  ...     0.013344\n",
              "14           Google Search X Bedding Page Sessions  ...     0.013316\n",
              "16                Facbeook x Bedding Page Sessions  ...     0.012561\n",
              "4                     Facbeook x Homepage Sessions  ...     0.012549\n",
              "10               Facbeook x Mattress Page Sessions  ...     0.012441\n",
              "0                      Organic X Homepage Sessions  ...     0.011505\n",
              "12                 Organic X Bedding Page Sessions  ...     0.011495\n",
              "6                 Organic X Mattress Page Sessions  ...     0.011478\n",
              "3                      YouTube x Homepage Sessions  ...     0.010034\n",
              "15                 YouTube x Bedding Page Sessions  ...     0.009989\n",
              "9                 YouTube x Mattress Page Sessions  ...     0.009907\n",
              "23       Snapchat X Retail Locations Page Sessions  ...     0.000239\n",
              "22       Facbeook x Retail Locations Page Sessions  ...     0.000159\n",
              "21        YouTube x Retail Locations Page Sessions  ...     0.000152\n",
              "19         Direct X Retail Locations Page Sessions  ...     0.000094\n",
              "18        Organic X Retail Locations Page Sessions  ...     0.000066\n",
              "20  Google Search X Retail Locations Page Sessions  ...     0.000056\n",
              "\n",
              "[24 rows x 5 columns]"
            ]
          },
          "metadata": {}
        }
      ]
    },
    {
      "cell_type": "markdown",
      "metadata": {
        "id": "3J9cayje8KJZ"
      },
      "source": [
        "Looking at the dataframe above, we can see that snapchat is the best performing traffic source with a convertion rate of 0.0198 and it also ranks as the top three."
      ]
    },
    {
      "cell_type": "markdown",
      "metadata": {
        "id": "E7szIf8sAJ3p"
      },
      "source": [
        "The code below will split the traffic source names from the data and create a separate column (effectively creating a pivot table)"
      ]
    },
    {
      "cell_type": "code",
      "metadata": {
        "colab": {
          "base_uri": "https://localhost:8080/"
        },
        "id": "AYlLpZNa930D",
        "outputId": "86ed336f-8dda-4ce2-c0e6-487862bad8d3"
      },
      "source": [
        "traffic_src = []\n",
        "for x in sessions_tb['name']:\n",
        "    name = x.lower().split(\" \")\n",
        "    for index in name:\n",
        "        if index == 'x':\n",
        "            break\n",
        "        else:\n",
        "            if index.capitalize() not in traffic_src:\n",
        "                traffic_src.append(index.capitalize())\n",
        "                break\n",
        "            else:\n",
        "                continue\n",
        "    \n",
        "traffic_src.remove(traffic_src[6])\n",
        "print(traffic_src)"
      ],
      "execution_count": 137,
      "outputs": [
        {
          "output_type": "stream",
          "text": [
            "['Organic', 'Direct', 'Google', 'Youtube', 'Facbeook', 'Snapchat']\n"
          ],
          "name": "stdout"
        }
      ]
    },
    {
      "cell_type": "code",
      "metadata": {
        "colab": {
          "base_uri": "https://localhost:8080/",
          "height": 235
        },
        "id": "Z8ot6syTC8vf",
        "outputId": "0356bb35-8a88-4c5b-cb7d-e410c5ba94dc"
      },
      "source": [
        "data = pd.DataFrame()\n",
        "data[\"Traffic Source\"] = traffic_src\n",
        "data"
      ],
      "execution_count": 149,
      "outputs": [
        {
          "output_type": "execute_result",
          "data": {
            "text/html": [
              "<div>\n",
              "<style scoped>\n",
              "    .dataframe tbody tr th:only-of-type {\n",
              "        vertical-align: middle;\n",
              "    }\n",
              "\n",
              "    .dataframe tbody tr th {\n",
              "        vertical-align: top;\n",
              "    }\n",
              "\n",
              "    .dataframe thead th {\n",
              "        text-align: right;\n",
              "    }\n",
              "</style>\n",
              "<table border=\"1\" class=\"dataframe\">\n",
              "  <thead>\n",
              "    <tr style=\"text-align: right;\">\n",
              "      <th></th>\n",
              "      <th>Traffic Source</th>\n",
              "    </tr>\n",
              "  </thead>\n",
              "  <tbody>\n",
              "    <tr>\n",
              "      <th>0</th>\n",
              "      <td>Organic</td>\n",
              "    </tr>\n",
              "    <tr>\n",
              "      <th>1</th>\n",
              "      <td>Direct</td>\n",
              "    </tr>\n",
              "    <tr>\n",
              "      <th>2</th>\n",
              "      <td>Google</td>\n",
              "    </tr>\n",
              "    <tr>\n",
              "      <th>3</th>\n",
              "      <td>Youtube</td>\n",
              "    </tr>\n",
              "    <tr>\n",
              "      <th>4</th>\n",
              "      <td>Facbeook</td>\n",
              "    </tr>\n",
              "    <tr>\n",
              "      <th>5</th>\n",
              "      <td>Snapchat</td>\n",
              "    </tr>\n",
              "  </tbody>\n",
              "</table>\n",
              "</div>"
            ],
            "text/plain": [
              "  Traffic Source\n",
              "0        Organic\n",
              "1         Direct\n",
              "2         Google\n",
              "3        Youtube\n",
              "4       Facbeook\n",
              "5       Snapchat"
            ]
          },
          "metadata": {},
          "execution_count": 149
        }
      ]
    },
    {
      "cell_type": "code",
      "metadata": {
        "id": "i-RNqBIdm7BL"
      },
      "source": [
        "def table(db):\n",
        "    x = tb['name']\n",
        "    z = db\n",
        "    list_1 = []\n",
        "\n",
        "    for index in traffic_src:\n",
        "        counter = 0\n",
        "        count = 0\n",
        "        for y in x:\n",
        "            j = y.capitalize().split(\" \", 1)[0]\n",
        "            if j == index: \n",
        "                counter = z.loc[tb.index[x == y]].to_numpy() + counter\n",
        "                count += 1 \n",
        "        list_1.append((counter/count)[0])\n",
        "    return(list_1)"
      ],
      "execution_count": 150,
      "outputs": []
    },
    {
      "cell_type": "code",
      "metadata": {
        "id": "h1ZuwNpSooT6"
      },
      "source": [
        "data['Average Orders'] = table(tb['avg_num_orders'])\n",
        "data['Average Sessions'] = table(tb['avg_num_sessions'])"
      ],
      "execution_count": 151,
      "outputs": []
    },
    {
      "cell_type": "code",
      "metadata": {
        "colab": {
          "base_uri": "https://localhost:8080/",
          "height": 296
        },
        "id": "CzpiQUDdr2EE",
        "outputId": "9d1c56b2-76b1-45f6-843a-528bb9e6cd57"
      },
      "source": [
        "sns.barplot(data=data, x = \"Traffic Source\", y=\"Average Orders\", palette=sns.color_palette(\"RdPu\", 6))"
      ],
      "execution_count": 152,
      "outputs": [
        {
          "output_type": "execute_result",
          "data": {
            "text/plain": [
              "<matplotlib.axes._subplots.AxesSubplot at 0x7f8b1b264ed0>"
            ]
          },
          "metadata": {},
          "execution_count": 152
        },
        {
          "output_type": "display_data",
          "data": {
            "image/png": "[encoded data removed]",
            "text/plain": [
              "<Figure size 432x288 with 1 Axes>"
            ]
          },
          "metadata": {
            "needs_background": "light"
          }
        }
      ]
    },
    {
      "cell_type": "code",
      "metadata": {
        "colab": {
          "base_uri": "https://localhost:8080/",
          "height": 296
        },
        "id": "IY8YkOkzr3Hn",
        "outputId": "b1b714bf-ec08-435c-eb41-ff1e8df9b0fa"
      },
      "source": [
        "sns.barplot(data = data, x = \"Traffic Source\", y=\"Average Sessions\", palette=sns.color_palette(\"RdPu\", 6))"
      ],
      "execution_count": 153,
      "outputs": [
        {
          "output_type": "execute_result",
          "data": {
            "text/plain": [
              "<matplotlib.axes._subplots.AxesSubplot at 0x7f8b1b9e7390>"
            ]
          },
          "metadata": {},
          "execution_count": 153
        },
        {
          "output_type": "display_data",
          "data": {
            "image/png": "[encoded data removed]",
            "text/plain": [
              "<Figure size 432x288 with 1 Axes>"
            ]
          },
          "metadata": {
            "needs_background": "light"
          }
        }
      ]
    },
    {
      "cell_type": "code",
      "metadata": {
        "colab": {
          "base_uri": "https://localhost:8080/",
          "height": 235
        },
        "id": "nGNvXjgVoLzL",
        "outputId": "780bb2ef-9ac2-4b6a-cd8a-3a20a2918e2b"
      },
      "source": [
        "data['Average Performance'] = table(tb['Performance'])\n",
        "display(data[['Traffic Source', 'Average Performance']].sort_values(by=\"Average Performance\", ascending=False))"
      ],
      "execution_count": 156,
      "outputs": [
        {
          "output_type": "display_data",
          "data": {
            "text/html": [
              "<div>\n",
              "<style scoped>\n",
              "    .dataframe tbody tr th:only-of-type {\n",
              "        vertical-align: middle;\n",
              "    }\n",
              "\n",
              "    .dataframe tbody tr th {\n",
              "        vertical-align: top;\n",
              "    }\n",
              "\n",
              "    .dataframe thead th {\n",
              "        text-align: right;\n",
              "    }\n",
              "</style>\n",
              "<table border=\"1\" class=\"dataframe\">\n",
              "  <thead>\n",
              "    <tr style=\"text-align: right;\">\n",
              "      <th></th>\n",
              "      <th>Traffic Source</th>\n",
              "      <th>Average Performance</th>\n",
              "    </tr>\n",
              "  </thead>\n",
              "  <tbody>\n",
              "    <tr>\n",
              "      <th>5</th>\n",
              "      <td>Snapchat</td>\n",
              "      <td>0.014844</td>\n",
              "    </tr>\n",
              "    <tr>\n",
              "      <th>1</th>\n",
              "      <td>Direct</td>\n",
              "      <td>0.011267</td>\n",
              "    </tr>\n",
              "    <tr>\n",
              "      <th>2</th>\n",
              "      <td>Google</td>\n",
              "      <td>0.010022</td>\n",
              "    </tr>\n",
              "    <tr>\n",
              "      <th>4</th>\n",
              "      <td>Facbeook</td>\n",
              "      <td>0.009428</td>\n",
              "    </tr>\n",
              "    <tr>\n",
              "      <th>0</th>\n",
              "      <td>Organic</td>\n",
              "      <td>0.008636</td>\n",
              "    </tr>\n",
              "    <tr>\n",
              "      <th>3</th>\n",
              "      <td>Youtube</td>\n",
              "      <td>0.007521</td>\n",
              "    </tr>\n",
              "  </tbody>\n",
              "</table>\n",
              "</div>"
            ],
            "text/plain": [
              "  Traffic Source  Average Performance\n",
              "5       Snapchat             0.014844\n",
              "1         Direct             0.011267\n",
              "2         Google             0.010022\n",
              "4       Facbeook             0.009428\n",
              "0        Organic             0.008636\n",
              "3        Youtube             0.007521"
            ]
          },
          "metadata": {}
        }
      ]
    },
    {
      "cell_type": "markdown",
      "metadata": {
        "id": "rgW7jlAHAcrA"
      },
      "source": [
        "This code will be able to properly combine our averaged performance (combining the 4 loading pages and creating an average value) and the respective traffic source"
      ]
    },
    {
      "cell_type": "markdown",
      "metadata": {
        "id": "l0Ff3au-AtMk"
      },
      "source": [
        "Graphing the data to show which traffic source is the best performing"
      ]
    },
    {
      "cell_type": "code",
      "metadata": {
        "colab": {
          "base_uri": "https://localhost:8080/",
          "height": 296
        },
        "id": "j1GaguqZcar_",
        "outputId": "9de01182-2c65-47c1-ac6c-e08e9b3185ff"
      },
      "source": [
        "sns.barplot(data=data, x=\"Traffic Source\", y=\"Average Performance\", palette=sns.color_palette(\"RdPu\", 6))"
      ],
      "execution_count": 155,
      "outputs": [
        {
          "output_type": "execute_result",
          "data": {
            "text/plain": [
              "<matplotlib.axes._subplots.AxesSubplot at 0x7f8b1ba08a10>"
            ]
          },
          "metadata": {},
          "execution_count": 155
        },
        {
          "output_type": "display_data",
          "data": {
            "image/png": "[encoded data removed]",
            "text/plain": [
              "<Figure size 432x288 with 1 Axes>"
            ]
          },
          "metadata": {
            "needs_background": "light"
          }
        }
      ]
    }
  ]
}
